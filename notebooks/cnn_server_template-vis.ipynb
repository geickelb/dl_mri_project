{
 "cells": [
  {
   "cell_type": "markdown",
   "metadata": {},
   "source": []
  },
  {
   "cell_type": "markdown",
   "metadata": {},
   "source": [
    "# Assignment 2a - Convolutional nets\n",
    "The purpose of this assignment is to help the student get started with convolutional image recogition models for the course project. This assignment will explore how convolutional nets work in depth."
   ]
  },
  {
   "cell_type": "code",
   "execution_count": null,
   "metadata": {},
   "outputs": [],
   "source": []
  },
  {
   "cell_type": "code",
   "execution_count": 86,
   "metadata": {},
   "outputs": [],
   "source": [
    "import numpy as np\n",
    "import os\n",
    "import glob\n",
    "import cv2 \n",
    "import matplotlib.pyplot as plt\n",
    "%matplotlib inline"
   ]
  },
  {
   "cell_type": "code",
   "execution_count": 87,
   "metadata": {},
   "outputs": [],
   "source": [
    "date=\"05092019\" #defining the date for saving files later\n",
    "wd= os.getcwd()"
   ]
  },
  {
   "cell_type": "code",
   "execution_count": 88,
   "metadata": {},
   "outputs": [],
   "source": [
    "allyes=glob.glob(\"../data/raw/yes/\"+'*.[pjJ][npP][gG]') #grabs all jpg and png files\n",
    "allno=glob.glob(\"../data/raw/no/\"+'*.[pjJ][npP][gG]')\n",
    "#can load with:\n",
    "X=np.load(\"../data/processed/%s_X.npy\"%(date))\n",
    "y=np.load(\"../data/processed/%s_y.npy\"%(date))"
   ]
  },
  {
   "cell_type": "code",
   "execution_count": 89,
   "metadata": {},
   "outputs": [
    {
     "data": {
      "text/plain": [
       "(253, 400, 400, 3)"
      ]
     },
     "execution_count": 89,
     "metadata": {},
     "output_type": "execute_result"
    }
   ],
   "source": [
    "X.shape"
   ]
  },
  {
   "cell_type": "code",
   "execution_count": 90,
   "metadata": {},
   "outputs": [],
   "source": [
    "# X.shape"
   ]
  },
  {
   "cell_type": "code",
   "execution_count": 91,
   "metadata": {},
   "outputs": [],
   "source": [
    "# import cv2\n",
    "# imlist=[]\n",
    "# #filename = 'your_image.jpg'\n",
    "# W = 224.\n",
    "# #oriimg = cv2.imread(filename,cv2.CV_LOAD_IMAGE_COLOR)\n",
    "# for image in X:\n",
    "#     height, width, depth = image.shape\n",
    "#     imgScale = W/width\n",
    "#     newX,newY = image.shape[1]*imgScale, image.shape[0]*imgScale\n",
    "#     newimg = cv2.resize(image,(int(newX),int(newY)))\n",
    "#     imlist.append(newimg)\n",
    "# X=np.array(imlist)\n",
    "# y = y.astype('float32')"
   ]
  },
  {
   "cell_type": "code",
   "execution_count": 92,
   "metadata": {},
   "outputs": [],
   "source": [
    "# resX=[]\n",
    "# xres = 224\n",
    "# yres = 224\n",
    "# resizeval = (xres,yres)\n",
    "# # resize and convert to grayscale\n",
    "# for img in X:\n",
    "#     img = cv2.resize(img,resizeval)\n",
    "# #     gray = cv2.cvtColor(img, cv2.COLOR_RGB2GRAY)\n",
    "# #     img_expanded = gray[:, :, np.newaxis]\n",
    "# #     #print(img_expanded.shape)\n",
    "\n",
    "# #     print(gray.shape)\n",
    "# #     gray = img.reshape((len(gray), -1)).T\n",
    "# #     print(gray.shape)\n",
    "#     resX.append(img)\n",
    "\n",
    "# resX = np.array(resX)\n",
    "# #resX = resX.reshape((len(resX), -1)).T\n",
    "# #resX = resX.reshape(xres,yres, 1)\n",
    "\n",
    "# X = resX\n",
    "# #y = y.T\n",
    "# y = y.astype('float32')"
   ]
  },
  {
   "cell_type": "code",
   "execution_count": 93,
   "metadata": {},
   "outputs": [],
   "source": [
    "resX=[]\n",
    "xres = 224\n",
    "yres = 224\n",
    "resizeval = (xres,yres)\n",
    "# resize and convert to grayscale\n",
    "for img in X:\n",
    "    img = cv2.resize(img,resizeval)\n",
    "    gray = cv2.cvtColor(img, cv2.COLOR_RGB2GRAY)\n",
    "    img_expanded = gray[:, :, np.newaxis]\n",
    "    #print(img_expanded.shape)\n",
    "\n",
    "#     print(gray.shape)\n",
    "    #gray = img_expanded.reshape((len(X), -1)).T\n",
    "#     print(gray.shape)\n",
    "    resX.append(img_expanded)\n",
    "\n",
    "resX = np.array(resX)\n",
    "#resX = resX.reshape((len(resX), -1)).T\n",
    "#resX = resX.reshape(xres,yres, 1)\n",
    "\n",
    "X = resX\n",
    "#y = y.T\n",
    "y = y.astype('float32')"
   ]
  },
  {
   "cell_type": "code",
   "execution_count": 94,
   "metadata": {},
   "outputs": [
    {
     "data": {
      "text/plain": [
       "(253, 224, 224, 1)"
      ]
     },
     "execution_count": 94,
     "metadata": {},
     "output_type": "execute_result"
    }
   ],
   "source": [
    "X.shape"
   ]
  },
  {
   "cell_type": "code",
   "execution_count": 95,
   "metadata": {},
   "outputs": [
    {
     "data": {
      "text/plain": [
       "50176"
      ]
     },
     "execution_count": 95,
     "metadata": {},
     "output_type": "execute_result"
    }
   ],
   "source": [
    "224*224"
   ]
  },
  {
   "cell_type": "code",
   "execution_count": 96,
   "metadata": {},
   "outputs": [],
   "source": [
    "pixels = X.flatten().reshape(253, 50176)"
   ]
  },
  {
   "cell_type": "code",
   "execution_count": 97,
   "metadata": {},
   "outputs": [
    {
     "data": {
      "text/plain": [
       "(253, 50176)"
      ]
     },
     "execution_count": 97,
     "metadata": {},
     "output_type": "execute_result"
    }
   ],
   "source": [
    "pixels.shape"
   ]
  },
  {
   "cell_type": "code",
   "execution_count": 98,
   "metadata": {},
   "outputs": [],
   "source": [
    "y_tindex = y[:,0]==True\n",
    "y_findex = y[:,1]==True\n",
    "y2=np.zeros(len(y))\n",
    "y2[y_tindex]=1\n"
   ]
  },
  {
   "cell_type": "markdown",
   "metadata": {},
   "source": [
    "Northwestern MSiA 432 Deep learning \n",
    "    Assignment #2 starter code, Spring 2019.\n",
    "    \n",
    "    This code demonstrates the use of transfer learning to speed up\n",
    "    the training process for a convolutional neural network.\n",
    "    \n",
    "    Notes:\n",
    "        - Heatmaps may appear black in the first few epochs. Wait until accuracy improves.\n",
    "        - The native image size is 224x224 for VGG, resize/crop your images to match\n",
    "        - Filter visualization is slow, change vizfilt_timeout for more speed or accuracy\n",
    "        - Be sure to rename/delete the basepath when changing model parameters, e.g. layers or random labels"
   ]
  },
  {
   "cell_type": "code",
   "execution_count": null,
   "metadata": {},
   "outputs": [],
   "source": []
  },
  {
   "cell_type": "code",
   "execution_count": null,
   "metadata": {},
   "outputs": [],
   "source": []
  },
  {
   "cell_type": "code",
   "execution_count": 99,
   "metadata": {},
   "outputs": [
    {
     "data": {
      "text/plain": [
       "30752"
      ]
     },
     "execution_count": 99,
     "metadata": {},
     "output_type": "execute_result"
    }
   ],
   "source": [
    "#see which pid you are am\n",
    "import os\n",
    "os.getpid()"
   ]
  },
  {
   "cell_type": "code",
   "execution_count": 1,
   "metadata": {},
   "outputs": [
    {
     "name": "stdout",
     "output_type": "stream",
     "text": [
      "Fri May 31 15:31:32 2019       \n",
      "+-----------------------------------------------------------------------------+\n",
      "| NVIDIA-SMI 410.104      Driver Version: 410.104      CUDA Version: 10.0     |\n",
      "|-------------------------------+----------------------+----------------------+\n",
      "| GPU  Name        Persistence-M| Bus-Id        Disp.A | Volatile Uncorr. ECC |\n",
      "| Fan  Temp  Perf  Pwr:Usage/Cap|         Memory-Usage | GPU-Util  Compute M. |\n",
      "|===============================+======================+======================|\n",
      "|   0  Tesla K40c          Off  | 00000000:02:00.0 Off |                    0 |\n",
      "| 41%   75C    P0   119W / 235W |  11019MiB / 11441MiB |     67%      Default |\n",
      "+-------------------------------+----------------------+----------------------+\n",
      "                                                                               \n",
      "+-----------------------------------------------------------------------------+\n",
      "| Processes:                                                       GPU Memory |\n",
      "|  GPU       PID   Type   Process name                             Usage      |\n",
      "|=============================================================================|\n",
      "|    0     19689      C   .../gje1631/.conda/envs/tf_gpu2/bin/python 11006MiB |\n",
      "+-----------------------------------------------------------------------------+\n"
     ]
    }
   ],
   "source": [
    "!nvidia-smi"
   ]
  },
  {
   "cell_type": "code",
   "execution_count": 101,
   "metadata": {},
   "outputs": [],
   "source": [
    "# ##change gpus \n",
    "# ###NOTE: this needs to be run before importing tensorflow. \n",
    "# import os\n",
    "# os.environ[\"CUDA_VISIBLE_DEVICES\"]=\"0\""
   ]
  },
  {
   "cell_type": "code",
   "execution_count": 102,
   "metadata": {},
   "outputs": [],
   "source": [
    "# #%% ------ CPU/GPU memory fix -------\n",
    "# import tensorflow as tf, keras.backend.tensorflow_backend as ktf\n",
    "# def get_session(gpu_fraction=0.45):\n",
    "#     gpu_options = tf.GPUOptions(per_process_gpu_memory_fraction=gpu_fraction, allow_growth=True)\n",
    "#     return tf.Session(config=tf.ConfigProto(gpu_options=gpu_options))\n",
    "# ktf.set_session(get_session())"
   ]
  },
  {
   "cell_type": "code",
   "execution_count": 103,
   "metadata": {},
   "outputs": [
    {
     "name": "stdout",
     "output_type": "stream",
     "text": [
      "['/device:CPU:0', '/device:XLA_CPU:0', '/device:XLA_GPU:0', '/device:GPU:0']\n"
     ]
    }
   ],
   "source": [
    "# Show devices\n",
    "from tensorflow.python.client import device_lib\n",
    "local_device_protos = device_lib.list_local_devices()\n",
    "print([x.name for x in local_device_protos])"
   ]
  },
  {
   "cell_type": "code",
   "execution_count": 104,
   "metadata": {},
   "outputs": [
    {
     "name": "stdout",
     "output_type": "stream",
     "text": [
      "Tensorflow Version: 1.13.1\n",
      "2.2.4-tf\n",
      "['/device:GPU:0']\n"
     ]
    }
   ],
   "source": [
    "\n",
    "import tensorflow as tf\n",
    "from tensorflow.python.client import device_lib\n",
    "def get_available_gpus():\n",
    "    local_device_protos = device_lib.list_local_devices()\n",
    "    return [x.name for x in local_device_protos if x.device_type == 'GPU']\n",
    "\n",
    "print(\"Tensorflow Version:\", tf.__version__)\n",
    "print(tf.keras.__version__)\n",
    "print(get_available_gpus())"
   ]
  },
  {
   "cell_type": "code",
   "execution_count": 105,
   "metadata": {},
   "outputs": [],
   "source": [
    "# ##change gpus\n",
    "# import os\n",
    "# os.environ[\"CUDA_VISIBLE_DEVICES\"]=\"1\""
   ]
  },
  {
   "cell_type": "markdown",
   "metadata": {},
   "source": [
    "# imports and function definitions"
   ]
  },
  {
   "cell_type": "code",
   "execution_count": 106,
   "metadata": {},
   "outputs": [],
   "source": [
    "# #may need to install a older scipy version as some functions require it\n",
    "# !pip install --ignore-installed --user scipy==1.2.1 "
   ]
  },
  {
   "cell_type": "code",
   "execution_count": 107,
   "metadata": {},
   "outputs": [],
   "source": [
    "# Obligatory imports\n",
    "from IPython.display import display \n",
    "from PIL import Image\n",
    "import imageio\n",
    "\n",
    "import os, time, numpy as np, scipy, random, pandas as pd, socket, warnings\n",
    "import matplotlib.pyplot as plt\n",
    "from keras.optimizers import Adam, SGD, RMSprop, Adagrad\n",
    "os.environ[\"KMP_DUPLICATE_LIB_OK\"] = \"TRUE\" # Workaround for Mac\n",
    "%matplotlib inline"
   ]
  },
  {
   "cell_type": "code",
   "execution_count": 108,
   "metadata": {},
   "outputs": [],
   "source": [
    "# Set project configuration\n",
    "\n",
    "def change_basepath(folder_name=None):\n",
    "    \"\"\"\n",
    "    GE added, makes it easy to specify a folder extention that will be created onto basepath. if folder_name==None, then basepath will be reset to it's origional value.\n",
    "    \"\"\"\n",
    "    \n",
    "    basepath= \"../data\"\n",
    "    \n",
    "    if folder_name != None:\n",
    "        address = os.path.join(basepath, folder_name)\n",
    "    else:\n",
    "        address = basepath\n",
    "    if not os.path.exists(address):\n",
    "        os.makedirs(address)\n",
    "    return(address)\n",
    "basepath= change_basepath()\n"
   ]
  },
  {
   "cell_type": "code",
   "execution_count": 109,
   "metadata": {},
   "outputs": [],
   "source": [
    "# VGG net definition starts here. Change the vggblocks to set how many blocks to transfer\n",
    "def make_vgg():\n",
    "    from keras.models import Model\n",
    "    from keras.regularizers import l1_l2\n",
    "    from keras.layers import Flatten, Dense, Input, Convolution2D, MaxPooling2D, BatchNormalization\n",
    "    from keras.layers.advanced_activations import LeakyReLU\n",
    "    \n",
    "    img_input = Input(shape=tsize)\n",
    "    if vggblocks == 0: x = img_input \n",
    "    if vggblocks >= 1: # Block 1\n",
    "        x = LeakyReLU(alpha)(Convolution2D(64, (3, 3), padding='same', name='block1_conv1')(img_input))\n",
    "        x = LeakyReLU(alpha)(Convolution2D(64, (3, 3), padding='same', name='block1_conv2')(x))\n",
    "        x = MaxPooling2D((2, 2), strides=(2, 2), name='block1_pool')(x)\n",
    "        if batchnorm: x = BatchNormalization()(x)\n",
    "    if vggblocks >= 2: # Block 2\n",
    "        x = LeakyReLU(alpha)(Convolution2D(128, (3, 3), padding='same', name='block2_conv1')(x))\n",
    "        x = LeakyReLU(alpha)(Convolution2D(128, (3, 3), padding='same', name='block2_conv2')(x))\n",
    "        x = MaxPooling2D((2, 2), strides=(2, 2), name='block2_pool')(x)\n",
    "        if batchnorm: x = BatchNormalization()(x)\n",
    "    if vggblocks >= 3: # Block 3\n",
    "        x = LeakyReLU(alpha)(Convolution2D(256, (3, 3), padding='same', name='block3_conv1')(x))\n",
    "        x = LeakyReLU(alpha)(Convolution2D(256, (3, 3), padding='same', name='block3_conv2')(x))\n",
    "        x = LeakyReLU(alpha)(Convolution2D(256, (3, 3), padding='same', name='block3_conv3')(x))\n",
    "        x = MaxPooling2D((2, 2), strides=(2, 2), name='block3_pool')(x)\n",
    "        if batchnorm: x = BatchNormalization()(x)\n",
    "    if vggblocks >= 4: # Block 4\n",
    "        x = LeakyReLU(alpha)(Convolution2D(512, (3, 3), padding='same', name='block4_conv1')(x))\n",
    "        x = LeakyReLU(alpha)(Convolution2D(512, (3, 3), padding='same', name='block4_conv2')(x))\n",
    "        x = LeakyReLU(alpha)(Convolution2D(512, (3, 3), padding='same', name='block4_conv3')(x))\n",
    "        x = MaxPooling2D((2, 2), strides=(2, 2), name='block4_pool')(x)\n",
    "        if batchnorm: x = BatchNormalization()(x)\n",
    "    if vggblocks >= 5: # Block 5\n",
    "        x = LeakyReLU(alpha)(Convolution2D(512, (3, 3), padding='same', name='block5_conv1')(x))\n",
    "        x = LeakyReLU(alpha)(Convolution2D(512, (3, 3), padding='same', name='block5_conv2')(x))\n",
    "        x = LeakyReLU(alpha)(Convolution2D(512, (3, 3), padding='same', name='block5_conv3')(x))\n",
    "        x = MaxPooling2D((2, 2), strides=(2, 2), name='block5_pool')(x)\n",
    "        if batchnorm: x = BatchNormalization()(x)\n",
    "        \n",
    "    x = Flatten(name='flatten')(x)\n",
    "    for i in range(fclayers): x = LeakyReLU(alpha)(Dense(fclayersize, kernel_regularizer=l1_l2(l1_reg, l2_reg))(x))\n",
    "    x = Dense(len(obj_classes), activation='softmax', name='predictions')(x)\n",
    "    \n",
    "    inputs = img_input\n",
    "    model = Model(inputs, x, name='vgg16')\n",
    "    \n",
    "    # VGG Transfer weights\n",
    "    from keras.applications import vgg16\n",
    "    import keras.layers.convolutional\n",
    "    vgg16model = vgg16.VGG16(include_top=False)\n",
    "    modelconv = [l for l in model.layers if type(l) == keras.layers.convolutional.Conv2D]\n",
    "    vgg16conv = [l for l in vgg16model.layers if type(l) == keras.layers.convolutional.Conv2D]\n",
    "    \n",
    "    for i, l in enumerate(modelconv):\n",
    "        if i > xferlearning: continue # Transfer only first n layers\n",
    "        print('**** Transferring layer %d: %s from VGG ****' % (i, l))\n",
    "        weights = vgg16conv[i].get_weights()\n",
    "        modelconv[i].set_weights(weights)\n",
    "        if freeze_conv: l.trainable = False\n",
    "\n",
    "    model.compile(loss='categorical_crossentropy', optimizer=optimizer, metrics=['accuracy'])\n",
    "    model.summary()\n",
    "    return model, img_input"
   ]
  },
  {
   "cell_type": "code",
   "execution_count": 110,
   "metadata": {},
   "outputs": [],
   "source": [
    "#%% resnet50 definition\n",
    "def make_resnet50():\n",
    "    #The default input size for this model is 224x224.\n",
    "    #This model and can be built both with 'channels_first' data format (channels, height, width) \n",
    "    #or 'channels_last' data format (height, width, channels).\n",
    "    import keras\n",
    "    from keras.models import Model\n",
    "    from keras.layers import Dense, GlobalAveragePooling2D, Dropout\n",
    "    #from keras_applications.resnet import ResNet50\n",
    "    from keras.applications import ResNet50\n",
    "    from keras.regularizers import l1\n",
    "    \n",
    "    xmodel = ResNet50(include_top=False,\n",
    "#                                        weights='imagenet',\n",
    "#                                        input_tensor=None,\n",
    "#                                        input_shape=None,\n",
    "#                                        pooling=None,\n",
    "                                       classes=10)\n",
    "\n",
    "    #xmodel = keras.applications.Xception(include_top=False) \n",
    "#   xmodel =keras.applications.resnet50(include_top=False)\n",
    "    x = xmodel.output\n",
    "    #for layer in xmodel.layers: layer.trainable = False\n",
    "    x = GlobalAveragePooling2D()(x)\n",
    "    x = Dropout(0.5)(x)\n",
    "    x = Dense(256, kernel_regularizer=l1(1e-7))(x)\n",
    "    predictions = Dense(len(obj_classes), activation='softmax')(x)\n",
    "    \n",
    "    model = Model(inputs=xmodel.input, outputs=predictions)\n",
    "    model.compile(loss='categorical_crossentropy', metrics=['accuracy'], optimizer=Adam())\n",
    "    model.summary()\n",
    "    return model, xmodel.input"
   ]
  },
  {
   "cell_type": "code",
   "execution_count": 111,
   "metadata": {},
   "outputs": [],
   "source": [
    "#%% Xception definition\n",
    "def make_xception():\n",
    "    import keras\n",
    "    from keras.models import Model\n",
    "    from keras.layers import Dense, GlobalAveragePooling2D, Dropout\n",
    "    from keras.regularizers import l1\n",
    "    xmodel = keras.applications.Xception(include_top=False) #keras.applications.resnet50 to change it\n",
    "    x = xmodel.output\n",
    "    #for layer in xmodel.layers: layer.trainable = False\n",
    "    x = GlobalAveragePooling2D()(x)\n",
    "    x = Dropout(0.5)(x)\n",
    "    x = Dense(256, kernel_regularizer=l1(1e-7))(x)\n",
    "    predictions = Dense(len(obj_classes), activation='softmax')(x)\n",
    "    \n",
    "    model = Model(inputs=xmodel.input, outputs=predictions)\n",
    "    model.compile(loss='categorical_crossentropy', metrics=['accuracy'], optimizer=Adam())\n",
    "    model.summary()\n",
    "    return model, xmodel.input"
   ]
  },
  {
   "cell_type": "markdown",
   "metadata": {},
   "source": [
    "# Image Import, Scaling, Batching options"
   ]
  },
  {
   "cell_type": "code",
   "execution_count": 112,
   "metadata": {},
   "outputs": [],
   "source": [
    "# from sklearn.model_selection import train_test_split\n",
    "# X_train,X_test,y_train,y_test = train_test_split(X, y, test_size=0.2, random_state=13)\n",
    "# train_X,valid_X,train_label,valid_label = train_test_split(X_train, y_train, test_size=0.2, random_state=13)"
   ]
  },
  {
   "cell_type": "code",
   "execution_count": 113,
   "metadata": {},
   "outputs": [],
   "source": [
    "#########  CHANGE IMSIZE, BATCHSIZE HERE #########\n",
    "imsize        = (224, 224) # n x n square images, VGG default is 224x224. Remember to change this.\n",
    "tsize         = imsize + (3,) #for 3 color channels\n",
    "batch_size, nb_epoch = 32, 10000 # Change for early stopping regularization. \n",
    "#changed batchsize from #32 to 253\n",
    "#########  ****************************** #########\n",
    "\n",
    "\n",
    "#image path specification\n",
    "trainfolder   = '../data/train'#os.path.join(basepath, 'train')\n",
    "testfolder    = '../data/test'#os.path.join(basepath, 'test')\n",
    "\n",
    "\n",
    "#%% Create demo data\n",
    "def makedata(basepath):\n",
    "    from keras.datasets import cifar10\n",
    "    from keras.utils.generic_utils import Progbar    \n",
    "    (X_train, y_train), (X_test, y_test) = cifar10.load_data()\n",
    "    obj_classes = ['airplane', 'automobile', 'bird', 'cat', 'deer', 'dog', 'frog', 'horse', 'ship', 'truck'] \n",
    "    for (X_data, y_data, bp) in [(X_train, y_train, trainfolder), (X_test, y_test, testfolder)]:\n",
    "        if os.path.exists(bp): return\n",
    "        for c in obj_classes: os.makedirs(os.path.join(bp, c), exist_ok=True)\n",
    "        pb = Progbar(len(y_data), interval=1)\n",
    "        print('\\nMaking data folder')\n",
    "        for i, (im, lbl) in enumerate(zip(X_data, y_data)):\n",
    "            pn = os.path.join(bp, obj_classes[int(lbl)], \"%d.png\" % i)\n",
    "            pb.update(i)\n",
    "            if not os.path.exists(pn): imageio.imwrite(pn, im)#scipy.misc.imsave(pn, im)"
   ]
  },
  {
   "cell_type": "code",
   "execution_count": 123,
   "metadata": {},
   "outputs": [
    {
     "name": "stdout",
     "output_type": "stream",
     "text": [
      "Found 204 images belonging to 2 classes.\n",
      "Found 62 images belonging to 2 classes.\n"
     ]
    }
   ],
   "source": [
    "# makedata(basepath) # Comment out this line to use your own data\n",
    "\n",
    "# Load data\n",
    "from keras.preprocessing.image import ImageDataGenerator\n",
    "##middleground data aug\n",
    "datagen = ImageDataGenerator(\n",
    "    rescale=1./255,                         # rescale data\n",
    "    shear_range=0.2,\n",
    "    zoom_range=0.2,    \n",
    "    rotation_range=0.10,    #0                   # randomly rotate images in the range (degrees, 0 to 180)\n",
    "    width_shift_range=0.1,  #0              # randomly shift images horizontally (fraction of total width)\n",
    "    height_shift_range=0.1, #0                 # randomly shift images vertically (fraction of total height)\n",
    "    horizontal_flip=True,                   # randomly flip images\n",
    "    vertical_flip=False)                    # randomly flip images\n",
    "\n",
    "#no data aug\n",
    "# datagen = ImageDataGenerator(\n",
    "#     rescale=1./255,                         # rescale data\n",
    "#     shear_range=0.0,\n",
    "#     zoom_range=0.0,    \n",
    "#     rotation_range=0.0,    #0                   # randomly rotate images in the range (degrees, 0 to 180)\n",
    "#     width_shift_range=0.0,  #0              # randomly shift images horizontally (fraction of total width)\n",
    "#     height_shift_range=0.0, #0                 # randomly shift images vertically (fraction of total height)\n",
    "#     horizontal_flip=False,                   # randomly flip images\n",
    "#     vertical_flip=False)                    # randomly flip images\n",
    "\n",
    "\n",
    "# ##lots of data aug\n",
    "# datagen = ImageDataGenerator(\n",
    "#     rescale=1./255,                         # rescale data\n",
    "#     shear_range=0.7,\n",
    "#     zoom_range=0.7,    \n",
    "#     rotation_range=0.7,    #0                   # randomly rotate images in the range (degrees, 0 to 180)\n",
    "#     width_shift_range=0.7,  #0              # randomly shift images horizontally (fraction of total width)\n",
    "#     height_shift_range=0.7, #0                 # randomly shift images vertically (fraction of total height)\n",
    "#     horizontal_flip=True,                   # randomly flip images\n",
    "#     vertical_flip=True)                    # randomly flip images\n",
    "\n",
    "\n",
    "train_generator = datagen.flow_from_directory(\n",
    "        trainfolder,\n",
    "        target_size=imsize,\n",
    "        batch_size=batch_size #changd \n",
    ")\n",
    "\n",
    "test_generator = datagen.flow_from_directory(\n",
    "        testfolder,\n",
    "        target_size=imsize,\n",
    "        batch_size=-1)\n",
    "\n",
    "X_test, Y_test = test_generator.next()\n",
    "\n",
    "obj_classes = sorted(train_generator.class_indices.keys())\n",
    "class_to_idx = dict([(y, x) for (x,y) in enumerate(obj_classes)])\n",
    "img_rows, img_cols, img_channels = X_test.shape[1:]\n"
   ]
  },
  {
   "cell_type": "code",
   "execution_count": 115,
   "metadata": {},
   "outputs": [
    {
     "data": {
      "text/plain": [
       "['False', 'True']"
      ]
     },
     "execution_count": 115,
     "metadata": {},
     "output_type": "execute_result"
    }
   ],
   "source": [
    "obj_classes"
   ]
  },
  {
   "cell_type": "markdown",
   "metadata": {},
   "source": [
    "## visualization functions"
   ]
  },
  {
   "cell_type": "code",
   "execution_count": 116,
   "metadata": {},
   "outputs": [],
   "source": [
    "#%% Visualization code\n",
    "def viz_losses(stats): \n",
    "        \n",
    "    fig, (ax1, ax2) = plt.subplots(1, 2, figsize=(10,6))\n",
    "    epoch = len(stats)\n",
    "    convlayers = len([l.name for l in model.layers if 'conv' in l.name])\n",
    "    blocks     = len(set([l.name.split('_')[0] for l in model.layers if 'block' in l.name]))\n",
    "    dense      = len([l.name for l in model.layers if 'dense' in l.name])\n",
    "    fcsize     = model.layers[-1].input_shape[1]\n",
    "    fig.suptitle(\"Training %s blocks=%d, conv=%d, dense=%d, fcsize=%d, epoch=%d\" % (model.name, blocks, convlayers, dense, fcsize, epoch))\n",
    "    ax1.plot(stats['Train loss'].values, label='Train loss', color='blue')\n",
    "    ax1.plot(stats['Test loss'].values, label='Test loss', color='green')\n",
    "    ax1.set_yscale('log')\n",
    "    ax2.plot(stats['Accuracy'].values, label='Test accuracies', color='red')\n",
    "    ax2.plot(stats['Train accuracy'].values, label='Train accuracies', color='blue')\n",
    "    ax2.axhline(1.0/len(obj_classes), linestyle='dashed', color='gray')\n",
    "    dataset = pd.Series(train_generator.classes)\n",
    "    chance = dataset.value_counts().max() / dataset.value_counts().sum()\n",
    "    ax2.text(0, chance, 'Chance')\n",
    "    ax2.axhline(np.max(stats['Accuracy']), linestyle='dashed', color='red')\n",
    "    ax2.text(0, np.max(stats['Accuracy']), 'Best')    \n",
    "    ax2.set_ylim([0, 1])\n",
    "    ax2.set_title('Accuracy: %0.2f%%' % (100.0*stats['Accuracy'].values[-1]))     \n",
    "    ax1.legend(), ax2.legend()\n",
    "    plt.savefig(os.path.join(basepath, 'loss-%s.png' % modelarch))\n",
    "    plt.show()    \n",
    "    plt.close()"
   ]
  },
  {
   "cell_type": "code",
   "execution_count": 117,
   "metadata": {},
   "outputs": [],
   "source": [
    "#%% Explanations\n",
    "import skimage.exposure, skimage.filters\n",
    "from skimage.color import gray2rgb\n",
    "from keras import backend as K\n",
    "\n",
    "def hide_axes(ax): ax.set_xticks([]), ax.set_yticks([])\n",
    "class Heatmap:\n",
    "    def __init__(self, model, obj_classes):\n",
    "        self.obj_classes = obj_classes\n",
    "        self.nclasses    = len(obj_classes)\n",
    "        self.model       = model\n",
    "    \n",
    "    def make_masks(self, im, n=8, maskval=0.1):\n",
    "        masks = []\n",
    "        xwidth, ywidth = int(np.ceil(im.shape[0]/n)), int(np.ceil(im.shape[1]/n))\n",
    "        for i in range(n):\n",
    "            for j in range(n):\n",
    "                mask = np.ones(im.shape[:2])\n",
    "                mask[(i*xwidth):((i+1)*xwidth), (j*ywidth):((j+1)*ywidth)] = maskval\n",
    "                mask = skimage.filters.gaussian(mask, 1) # Change this for local mask smoothing\n",
    "                masks.append(mask)\n",
    "        return np.array(masks)\n",
    "\n",
    "    def get_slice_masks(self, im, n_segments=16, blur=0.03):\n",
    "        from skimage.segmentation import slic\n",
    "        segments = slic(im, n_segments=n_segments, sigma=5)\n",
    "        masks = []\n",
    "        # loop over the unique segment values\n",
    "        for (i, segVal) in enumerate(np.unique(segments)):\n",
    "            # construct a mask for the segment\n",
    "            mask = np.zeros(im.shape[:2], dtype=\"float32\")\n",
    "            mask[segments == segVal] = 1\n",
    "            mask = skimage.filters.gaussian(mask, im.shape[1]*blur) # Change this for local mask smoothing            \n",
    "            masks.append(mask)\n",
    "        return np.array(masks), segments\n",
    "        \n",
    "    def explain_prediction_heatmap(self, im, actual):\n",
    "        ##ge added start##\n",
    "        global trainstats\n",
    "        ##ge added end#\n",
    "        import skimage.color\n",
    "        def hsv_fn(im): return skimage.color.hsv2rgb(im) if hsv else im\n",
    "        plt.imshow(hsv_fn(im), interpolation='bilinear'), plt.xticks([]), plt.yticks([]), plt.title('Full image'), plt.show(), plt.close()\n",
    "        masks = np.concatenate([self.make_masks(im, n=i) for i in (9, 7, 5, 3, 2)])\n",
    "        #masks, segments = self.get_slice_masks(im)        \n",
    "        masknorm = masks.sum(axis=0)\n",
    "        heatmaps = np.zeros((self.nclasses,) + im.shape[:2])\n",
    "        for m in masks:\n",
    "            prediction = self.model.predict(np.expand_dims(im*gray2rgb(m), 0))\n",
    "            for c in range(self.nclasses):\n",
    "                heatmaps[c] += (prediction[0][c]*m)\n",
    "        for h in heatmaps: h = h / masknorm\n",
    "        fig, axes = plt.subplots(2, self.nclasses + 1, figsize=(20, 5))\n",
    "        #axes[0,0].imshow(hsv(im)), axes[1,0].imshow(mark_boundaries(im, segments))        \n",
    "        axes[0,0].imshow(hsv_fn(im)), axes[1,0].imshow(im)        \n",
    "        \n",
    "        axes[0,0].set_title(actual)\n",
    "        axes[1,0].set_title('HSV' if hsv else 'RGB')        \n",
    "        hide_axes(axes[0,0]), hide_axes(axes[1,0])       \n",
    "        predictions = np.sum(heatmaps, axis=(1,2,))\n",
    "        predictions /= predictions.max()\n",
    "        for n, i in enumerate(np.argsort(predictions)[::-1][:self.nclasses]):\n",
    "            h = ((255 * heatmaps[i])/heatmaps[i].max()).astype('uint16')\n",
    "            h = skimage.exposure.equalize_adapthist(h)            \n",
    "            h = skimage.filters.gaussian(h, 1) # Change this for global mask smoothing\n",
    "            axes[0, n+1].imshow(gray2rgb(h))\n",
    "            axes[1, n+1].imshow(gray2rgb(h) * hsv_fn(im) * (0.5 + 0.5*predictions[i]))  \n",
    "            hide_axes(axes[0, n+1]), hide_axes(axes[1, n+1])        \n",
    "            axes[0, n+1].set_title(self.obj_classes[i] + ': %0.1f%%' % (100*predictions[i]/predictions.sum()))\n",
    "        fig.tight_layout()\n",
    "        ##ge modify: added e to heatmapfilename and text inserted the len(trainstats)=epoch number ##\n",
    "        plt.savefig(os.path.join(basepath, 'heatmap-e%05d.png') % len(trainstats))#np.random.randint(0, 99999))\n",
    "        plt.show()\n",
    "        plt.close()\n",
    "        return heatmaps"
   ]
  },
  {
   "cell_type": "code",
   "execution_count": 118,
   "metadata": {},
   "outputs": [],
   "source": [
    "#layer_dict = dict([(layer.name, layer) for layer in model.layers])\n",
    "\n",
    "def deprocess_image(x):\n",
    "    x -= x.mean()\n",
    "    x /= (x.std() + 1e-5)\n",
    "    x = x*0.1 + 0.5\n",
    "    x = np.clip(x, 0, 1) * 255\n",
    "    x = np.clip(x, 0, 255).astype('uint8')\n",
    "    return x\n",
    "\n",
    "def viz_filter_max(layer_name, filter_index=0, max_steps=9999, timeout=3):\n",
    "    from keras.utils.generic_utils import Progbar            \n",
    "    layer_output = layer_dict[layer_name].output\n",
    "    loss = K.mean(layer_output[:, :, :, filter_index])\n",
    "\n",
    "    grads = K.gradients(loss, img_input)[0]\n",
    "    grads /= (K.sqrt(K.mean(K.square(grads))) + 1e-5)\n",
    "    iterate = K.function([img_input], [loss, grads])\n",
    "    step = 1e-0\n",
    "    input_img_data = np.random.random((1, img_rows, img_cols, 3))\n",
    "    input_img_data = (input_img_data - 0.5) * 20 + 128\n",
    "\n",
    "    tm = time.time()\n",
    "\n",
    "    for i in range(max_steps):\n",
    "        loss_value, grads_value = iterate([input_img_data])\n",
    "        input_img_data += grads_value * step\n",
    "        if time.time() - tm > timeout:\n",
    "            plt.text(0.1, 0.1, \"Filter viz timeout: %d\" % timeout, color='red')\n",
    "            break\n",
    "    img = input_img_data[0]\n",
    "    img = deprocess_image(img)\n",
    "    fig = plt.imshow(img)    \n",
    "    hide_axes(fig.axes)\n",
    "    return layer_output\n",
    "    \n",
    "def viz_filters(model, img_input, img_rows, img_cols, nbfilters=3, timeout=60):\n",
    "    tm = time.time()\n",
    "    print(\"Visualizing filters (CTRL-C to cancel)\")\n",
    "    try:         \n",
    "        for layer_name in sorted(layer_dict.keys()):\n",
    "            if time.time() - tm > timeout:\n",
    "                print(\"Filter visualization timed out: %d. Change timeout in viz_filters().\" % timeout)\n",
    "                break\n",
    "            if not hasattr(layer_dict[layer_name], 'filters'): continue\n",
    "            nfilters = layer_dict[layer_name].filters\n",
    "            fig, ax = plt.subplots(1, nbfilters, figsize=(8, 4))\n",
    "            fig.suptitle(\"Layer %s has %d filters\" % (layer_name, nfilters))            \n",
    "            for j in range(nbfilters):\n",
    "                plt.subplot(1, nbfilters, j + 1)\n",
    "                viz_filter_max(layer_name, random.randint(0, nfilters-1), timeout=vizfilt_timeout)\n",
    "            fig.tight_layout()    \n",
    "            plt.savefig(os.path.join(basepath, 'filters-%s-%s.png' % (modelarch, layer_name))) \n",
    "            plt.show(), plt.close()\n",
    "    except KeyboardInterrupt: return"
   ]
  },
  {
   "cell_type": "code",
   "execution_count": 119,
   "metadata": {},
   "outputs": [],
   "source": [
    "def test_prediction(im, y):\n",
    "    pred = model.predict(np.expand_dims(im, 0))\n",
    "    cls = np.argmax(y)\n",
    "    heatmap = Heatmap(model, obj_classes)                \n",
    "    heatmap.explain_prediction_heatmap(im, obj_classes[cls])\n",
    "    \n",
    "    print(\"Actual: %s(%d)\" % (obj_classes[cls], cls))\n",
    "    for cls in list(reversed(np.argsort(pred)[0]))[:5]:\n",
    "        conf = float(pred[0, cls])/pred.sum()\n",
    "        print(\"    predicted: %010s(%d), confidence=%0.2f [%-10s]\" % (obj_classes[cls], cls, conf, \"*\" * int(10*conf)))\n",
    "    return pred\n",
    "\n",
    "def confusion_matrix(model, X, T, accpct, save=False):\n",
    "    ##GE modified to save##\n",
    "    import seaborn\n",
    "    global trainstats\n",
    "    from sklearn.metrics import classification_report, confusion_matrix\n",
    "    Y_pred = model.predict(X)\n",
    "    y_pred = np.argmax(Y_pred, axis=1)\n",
    "    y_test = np.argmax(T, axis=1)\n",
    "    print('Confusion Matrix')\n",
    "    data = confusion_matrix(y_test, y_pred)\n",
    "    data = data / data.sum(axis=1)\n",
    "    #print('Classification Report')\n",
    "    #print(classification_report(y_test, y_pred, target_names=obj_classes))\n",
    "    seaborn.set_style(\"whitegrid\", {'axes.grid' : False})\n",
    "    seaborn.heatmap(data, annot=data*100, fmt='0.0f', cmap='Wistia', xticklabels=obj_classes, yticklabels=obj_classes)\n",
    "    plt.xlabel('Predicted'), plt.ylabel('Actual'), plt.title('Confusion matrix (ACC %0.2f%%)' % (accpct*100))\n",
    "    if save==True and len(trainstats) in [1,epochs] :\n",
    "        plt.savefig(os.path.join(basepath, 'conf-%s.png' % len(trainstats)))\n",
    "    \n",
    "    plt.show(), plt.close()\n",
    "\n",
    "def tsne_viz(model, X, Y, accpct, n=500, save=False):\n",
    "    ##GE modified to save##\n",
    "    global X_embedded, xx, yy, d, predictions\n",
    "    import sklearn.manifold, matplotlib.cm as cm\n",
    "    predictions = model.predict(X)    \n",
    "    colors = iter(cm.rainbow(np.linspace(0, 1, len(obj_classes))))\n",
    "    X_embedded = sklearn.manifold.TSNE(n_components=2).fit_transform(predictions[:n])\n",
    "    for d in range(len(obj_classes)):\n",
    "        xx = X_embedded[Y[:n][:, d] == 1, 0]\n",
    "        yy = X_embedded[Y[:n][:, d] == 1, 1]\n",
    "        plt.scatter(xx, yy, c=[next(colors)], label=obj_classes[d])\n",
    "        t = plt.text(np.median(xx), np.median(yy), obj_classes[d], fontsize=24)\n",
    "        t.set_bbox({'facecolor': 'white', 'alpha': 0.75})\n",
    "    plt.title('T-SNE viz - Accuracy: %0.2f%%' % (accpct*100)), plt.legend()\n",
    "    \n",
    "    if save==True and len(trainstats) in [1,epochs] :\n",
    "        plt.savefig(os.path.join(basepath, 'tsne-%s.png' % len(trainstats)))"
   ]
  },
  {
   "cell_type": "code",
   "execution_count": 120,
   "metadata": {},
   "outputs": [],
   "source": [
    "##grand training visualization function\n",
    "from keras.callbacks import Callback\n",
    "class VizTraining(Callback):\n",
    "    def on_epoch_end(self, epoch, logs={}):\n",
    "        clear_output(wait=True)\n",
    "        tacc  = logs.get('val_acc')\n",
    "        trainstats.loc[len(trainstats)] = (logs.get('loss'), logs.get('val_loss'), tacc, logs.get('acc')) \n",
    "        confusion_matrix(model, X_test, Y_test, tacc, save=True)\n",
    "        tsne_viz(model, X_test, Y_test, tacc, save=False)        \n",
    "        viz_losses(trainstats)\n",
    "        t_ind = random.randint(0, len(X_test) - 1)        \n",
    "        test_prediction(X_test[t_ind], Y_test[t_ind])    \n",
    "        if vizfilt_timeout > 0 and np.random.randint(0, 3) == 0: \n",
    "            viz_filters(model, img_input, img_rows, img_cols)\n",
    "        if checkpoint: model.save(modelid, overwrite=True)\n",
    "        print(\"Total training time: %0.2f min, epoch: %d\" % ((time.time() - tm)/60.0, len(trainstats))) \n",
    "        print(\"Average time per epoch: %0.2f s\" % ((time.time() - tm)/len(trainstats)))"
   ]
  },
  {
   "cell_type": "code",
   "execution_count": null,
   "metadata": {},
   "outputs": [],
   "source": []
  },
  {
   "cell_type": "code",
   "execution_count": null,
   "metadata": {},
   "outputs": [],
   "source": []
  },
  {
   "cell_type": "markdown",
   "metadata": {},
   "source": [
    "# example run:\n",
    "## copy these two cells and make appropriate changes for each model"
   ]
  },
  {
   "cell_type": "markdown",
   "metadata": {},
   "source": [
    "vgg with block=1, non-xfer learning, 25 epoch:"
   ]
  },
  {
   "cell_type": "code",
   "execution_count": 130,
   "metadata": {},
   "outputs": [
    {
     "name": "stdout",
     "output_type": "stream",
     "text": [
      "__________________________________________________________________________________________________\n",
      "Layer (type)                    Output Shape         Param #     Connected to                     \n",
      "==================================================================================================\n",
      "input_9 (InputLayer)            (None, None, None, 3 0                                            \n",
      "__________________________________________________________________________________________________\n",
      "block1_conv1 (Conv2D)           (None, None, None, 3 864         input_9[0][0]                    \n",
      "__________________________________________________________________________________________________\n",
      "block1_conv1_bn (BatchNormaliza (None, None, None, 3 128         block1_conv1[0][0]               \n",
      "__________________________________________________________________________________________________\n",
      "block1_conv1_act (Activation)   (None, None, None, 3 0           block1_conv1_bn[0][0]            \n",
      "__________________________________________________________________________________________________\n",
      "block1_conv2 (Conv2D)           (None, None, None, 6 18432       block1_conv1_act[0][0]           \n",
      "__________________________________________________________________________________________________\n",
      "block1_conv2_bn (BatchNormaliza (None, None, None, 6 256         block1_conv2[0][0]               \n",
      "__________________________________________________________________________________________________\n",
      "block1_conv2_act (Activation)   (None, None, None, 6 0           block1_conv2_bn[0][0]            \n",
      "__________________________________________________________________________________________________\n",
      "block2_sepconv1 (SeparableConv2 (None, None, None, 1 8768        block1_conv2_act[0][0]           \n",
      "__________________________________________________________________________________________________\n",
      "block2_sepconv1_bn (BatchNormal (None, None, None, 1 512         block2_sepconv1[0][0]            \n",
      "__________________________________________________________________________________________________\n",
      "block2_sepconv2_act (Activation (None, None, None, 1 0           block2_sepconv1_bn[0][0]         \n",
      "__________________________________________________________________________________________________\n",
      "block2_sepconv2 (SeparableConv2 (None, None, None, 1 17536       block2_sepconv2_act[0][0]        \n",
      "__________________________________________________________________________________________________\n",
      "block2_sepconv2_bn (BatchNormal (None, None, None, 1 512         block2_sepconv2[0][0]            \n",
      "__________________________________________________________________________________________________\n",
      "conv2d_33 (Conv2D)              (None, None, None, 1 8192        block1_conv2_act[0][0]           \n",
      "__________________________________________________________________________________________________\n",
      "block2_pool (MaxPooling2D)      (None, None, None, 1 0           block2_sepconv2_bn[0][0]         \n",
      "__________________________________________________________________________________________________\n",
      "batch_normalization_33 (BatchNo (None, None, None, 1 512         conv2d_33[0][0]                  \n",
      "__________________________________________________________________________________________________\n",
      "add_97 (Add)                    (None, None, None, 1 0           block2_pool[0][0]                \n",
      "                                                                 batch_normalization_33[0][0]     \n",
      "__________________________________________________________________________________________________\n",
      "block3_sepconv1_act (Activation (None, None, None, 1 0           add_97[0][0]                     \n",
      "__________________________________________________________________________________________________\n",
      "block3_sepconv1 (SeparableConv2 (None, None, None, 2 33920       block3_sepconv1_act[0][0]        \n",
      "__________________________________________________________________________________________________\n",
      "block3_sepconv1_bn (BatchNormal (None, None, None, 2 1024        block3_sepconv1[0][0]            \n",
      "__________________________________________________________________________________________________\n",
      "block3_sepconv2_act (Activation (None, None, None, 2 0           block3_sepconv1_bn[0][0]         \n",
      "__________________________________________________________________________________________________\n",
      "block3_sepconv2 (SeparableConv2 (None, None, None, 2 67840       block3_sepconv2_act[0][0]        \n",
      "__________________________________________________________________________________________________\n",
      "block3_sepconv2_bn (BatchNormal (None, None, None, 2 1024        block3_sepconv2[0][0]            \n",
      "__________________________________________________________________________________________________\n",
      "conv2d_34 (Conv2D)              (None, None, None, 2 32768       add_97[0][0]                     \n",
      "__________________________________________________________________________________________________\n",
      "block3_pool (MaxPooling2D)      (None, None, None, 2 0           block3_sepconv2_bn[0][0]         \n",
      "__________________________________________________________________________________________________\n",
      "batch_normalization_34 (BatchNo (None, None, None, 2 1024        conv2d_34[0][0]                  \n",
      "__________________________________________________________________________________________________\n",
      "add_98 (Add)                    (None, None, None, 2 0           block3_pool[0][0]                \n",
      "                                                                 batch_normalization_34[0][0]     \n",
      "__________________________________________________________________________________________________\n",
      "block4_sepconv1_act (Activation (None, None, None, 2 0           add_98[0][0]                     \n",
      "__________________________________________________________________________________________________\n",
      "block4_sepconv1 (SeparableConv2 (None, None, None, 7 188672      block4_sepconv1_act[0][0]        \n",
      "__________________________________________________________________________________________________\n",
      "block4_sepconv1_bn (BatchNormal (None, None, None, 7 2912        block4_sepconv1[0][0]            \n",
      "__________________________________________________________________________________________________\n",
      "block4_sepconv2_act (Activation (None, None, None, 7 0           block4_sepconv1_bn[0][0]         \n",
      "__________________________________________________________________________________________________\n",
      "block4_sepconv2 (SeparableConv2 (None, None, None, 7 536536      block4_sepconv2_act[0][0]        \n",
      "__________________________________________________________________________________________________\n",
      "block4_sepconv2_bn (BatchNormal (None, None, None, 7 2912        block4_sepconv2[0][0]            \n",
      "__________________________________________________________________________________________________\n",
      "conv2d_35 (Conv2D)              (None, None, None, 7 186368      add_98[0][0]                     \n",
      "__________________________________________________________________________________________________\n",
      "block4_pool (MaxPooling2D)      (None, None, None, 7 0           block4_sepconv2_bn[0][0]         \n",
      "__________________________________________________________________________________________________\n",
      "batch_normalization_35 (BatchNo (None, None, None, 7 2912        conv2d_35[0][0]                  \n",
      "__________________________________________________________________________________________________\n",
      "add_99 (Add)                    (None, None, None, 7 0           block4_pool[0][0]                \n",
      "                                                                 batch_normalization_35[0][0]     \n",
      "__________________________________________________________________________________________________\n",
      "block5_sepconv1_act (Activation (None, None, None, 7 0           add_99[0][0]                     \n",
      "__________________________________________________________________________________________________\n",
      "block5_sepconv1 (SeparableConv2 (None, None, None, 7 536536      block5_sepconv1_act[0][0]        \n",
      "__________________________________________________________________________________________________\n",
      "block5_sepconv1_bn (BatchNormal (None, None, None, 7 2912        block5_sepconv1[0][0]            \n",
      "__________________________________________________________________________________________________\n",
      "block5_sepconv2_act (Activation (None, None, None, 7 0           block5_sepconv1_bn[0][0]         \n",
      "__________________________________________________________________________________________________\n",
      "block5_sepconv2 (SeparableConv2 (None, None, None, 7 536536      block5_sepconv2_act[0][0]        \n",
      "__________________________________________________________________________________________________\n",
      "block5_sepconv2_bn (BatchNormal (None, None, None, 7 2912        block5_sepconv2[0][0]            \n",
      "__________________________________________________________________________________________________\n",
      "block5_sepconv3_act (Activation (None, None, None, 7 0           block5_sepconv2_bn[0][0]         \n",
      "__________________________________________________________________________________________________\n",
      "block5_sepconv3 (SeparableConv2 (None, None, None, 7 536536      block5_sepconv3_act[0][0]        \n",
      "__________________________________________________________________________________________________\n",
      "block5_sepconv3_bn (BatchNormal (None, None, None, 7 2912        block5_sepconv3[0][0]            \n",
      "__________________________________________________________________________________________________\n",
      "add_100 (Add)                   (None, None, None, 7 0           block5_sepconv3_bn[0][0]         \n",
      "                                                                 add_99[0][0]                     \n",
      "__________________________________________________________________________________________________\n",
      "block6_sepconv1_act (Activation (None, None, None, 7 0           add_100[0][0]                    \n",
      "__________________________________________________________________________________________________\n",
      "block6_sepconv1 (SeparableConv2 (None, None, None, 7 536536      block6_sepconv1_act[0][0]        \n",
      "__________________________________________________________________________________________________\n",
      "block6_sepconv1_bn (BatchNormal (None, None, None, 7 2912        block6_sepconv1[0][0]            \n",
      "__________________________________________________________________________________________________\n",
      "block6_sepconv2_act (Activation (None, None, None, 7 0           block6_sepconv1_bn[0][0]         \n",
      "__________________________________________________________________________________________________\n",
      "block6_sepconv2 (SeparableConv2 (None, None, None, 7 536536      block6_sepconv2_act[0][0]        \n",
      "__________________________________________________________________________________________________\n",
      "block6_sepconv2_bn (BatchNormal (None, None, None, 7 2912        block6_sepconv2[0][0]            \n",
      "__________________________________________________________________________________________________\n",
      "block6_sepconv3_act (Activation (None, None, None, 7 0           block6_sepconv2_bn[0][0]         \n",
      "__________________________________________________________________________________________________\n",
      "block6_sepconv3 (SeparableConv2 (None, None, None, 7 536536      block6_sepconv3_act[0][0]        \n",
      "__________________________________________________________________________________________________\n",
      "block6_sepconv3_bn (BatchNormal (None, None, None, 7 2912        block6_sepconv3[0][0]            \n",
      "__________________________________________________________________________________________________\n",
      "add_101 (Add)                   (None, None, None, 7 0           block6_sepconv3_bn[0][0]         \n",
      "                                                                 add_100[0][0]                    \n",
      "__________________________________________________________________________________________________\n",
      "block7_sepconv1_act (Activation (None, None, None, 7 0           add_101[0][0]                    \n",
      "__________________________________________________________________________________________________\n",
      "block7_sepconv1 (SeparableConv2 (None, None, None, 7 536536      block7_sepconv1_act[0][0]        \n",
      "__________________________________________________________________________________________________\n",
      "block7_sepconv1_bn (BatchNormal (None, None, None, 7 2912        block7_sepconv1[0][0]            \n",
      "__________________________________________________________________________________________________\n",
      "block7_sepconv2_act (Activation (None, None, None, 7 0           block7_sepconv1_bn[0][0]         \n",
      "__________________________________________________________________________________________________\n",
      "block7_sepconv2 (SeparableConv2 (None, None, None, 7 536536      block7_sepconv2_act[0][0]        \n",
      "__________________________________________________________________________________________________\n",
      "block7_sepconv2_bn (BatchNormal (None, None, None, 7 2912        block7_sepconv2[0][0]            \n",
      "__________________________________________________________________________________________________\n",
      "block7_sepconv3_act (Activation (None, None, None, 7 0           block7_sepconv2_bn[0][0]         \n",
      "__________________________________________________________________________________________________\n",
      "block7_sepconv3 (SeparableConv2 (None, None, None, 7 536536      block7_sepconv3_act[0][0]        \n",
      "__________________________________________________________________________________________________\n",
      "block7_sepconv3_bn (BatchNormal (None, None, None, 7 2912        block7_sepconv3[0][0]            \n",
      "__________________________________________________________________________________________________\n",
      "add_102 (Add)                   (None, None, None, 7 0           block7_sepconv3_bn[0][0]         \n",
      "                                                                 add_101[0][0]                    \n",
      "__________________________________________________________________________________________________\n",
      "block8_sepconv1_act (Activation (None, None, None, 7 0           add_102[0][0]                    \n",
      "__________________________________________________________________________________________________\n",
      "block8_sepconv1 (SeparableConv2 (None, None, None, 7 536536      block8_sepconv1_act[0][0]        \n",
      "__________________________________________________________________________________________________\n",
      "block8_sepconv1_bn (BatchNormal (None, None, None, 7 2912        block8_sepconv1[0][0]            \n",
      "__________________________________________________________________________________________________\n",
      "block8_sepconv2_act (Activation (None, None, None, 7 0           block8_sepconv1_bn[0][0]         \n",
      "__________________________________________________________________________________________________\n",
      "block8_sepconv2 (SeparableConv2 (None, None, None, 7 536536      block8_sepconv2_act[0][0]        \n",
      "__________________________________________________________________________________________________\n",
      "block8_sepconv2_bn (BatchNormal (None, None, None, 7 2912        block8_sepconv2[0][0]            \n",
      "__________________________________________________________________________________________________\n",
      "block8_sepconv3_act (Activation (None, None, None, 7 0           block8_sepconv2_bn[0][0]         \n",
      "__________________________________________________________________________________________________\n",
      "block8_sepconv3 (SeparableConv2 (None, None, None, 7 536536      block8_sepconv3_act[0][0]        \n",
      "__________________________________________________________________________________________________\n",
      "block8_sepconv3_bn (BatchNormal (None, None, None, 7 2912        block8_sepconv3[0][0]            \n",
      "__________________________________________________________________________________________________\n",
      "add_103 (Add)                   (None, None, None, 7 0           block8_sepconv3_bn[0][0]         \n",
      "                                                                 add_102[0][0]                    \n",
      "__________________________________________________________________________________________________\n",
      "block9_sepconv1_act (Activation (None, None, None, 7 0           add_103[0][0]                    \n",
      "__________________________________________________________________________________________________\n",
      "block9_sepconv1 (SeparableConv2 (None, None, None, 7 536536      block9_sepconv1_act[0][0]        \n",
      "__________________________________________________________________________________________________\n",
      "block9_sepconv1_bn (BatchNormal (None, None, None, 7 2912        block9_sepconv1[0][0]            \n",
      "__________________________________________________________________________________________________\n",
      "block9_sepconv2_act (Activation (None, None, None, 7 0           block9_sepconv1_bn[0][0]         \n",
      "__________________________________________________________________________________________________\n",
      "block9_sepconv2 (SeparableConv2 (None, None, None, 7 536536      block9_sepconv2_act[0][0]        \n",
      "__________________________________________________________________________________________________\n",
      "block9_sepconv2_bn (BatchNormal (None, None, None, 7 2912        block9_sepconv2[0][0]            \n",
      "__________________________________________________________________________________________________\n",
      "block9_sepconv3_act (Activation (None, None, None, 7 0           block9_sepconv2_bn[0][0]         \n",
      "__________________________________________________________________________________________________\n",
      "block9_sepconv3 (SeparableConv2 (None, None, None, 7 536536      block9_sepconv3_act[0][0]        \n",
      "__________________________________________________________________________________________________\n",
      "block9_sepconv3_bn (BatchNormal (None, None, None, 7 2912        block9_sepconv3[0][0]            \n",
      "__________________________________________________________________________________________________\n",
      "add_104 (Add)                   (None, None, None, 7 0           block9_sepconv3_bn[0][0]         \n",
      "                                                                 add_103[0][0]                    \n",
      "__________________________________________________________________________________________________\n",
      "block10_sepconv1_act (Activatio (None, None, None, 7 0           add_104[0][0]                    \n",
      "__________________________________________________________________________________________________\n",
      "block10_sepconv1 (SeparableConv (None, None, None, 7 536536      block10_sepconv1_act[0][0]       \n",
      "__________________________________________________________________________________________________\n",
      "block10_sepconv1_bn (BatchNorma (None, None, None, 7 2912        block10_sepconv1[0][0]           \n",
      "__________________________________________________________________________________________________\n",
      "block10_sepconv2_act (Activatio (None, None, None, 7 0           block10_sepconv1_bn[0][0]        \n",
      "__________________________________________________________________________________________________\n",
      "block10_sepconv2 (SeparableConv (None, None, None, 7 536536      block10_sepconv2_act[0][0]       \n",
      "__________________________________________________________________________________________________\n",
      "block10_sepconv2_bn (BatchNorma (None, None, None, 7 2912        block10_sepconv2[0][0]           \n",
      "__________________________________________________________________________________________________\n",
      "block10_sepconv3_act (Activatio (None, None, None, 7 0           block10_sepconv2_bn[0][0]        \n",
      "__________________________________________________________________________________________________\n",
      "block10_sepconv3 (SeparableConv (None, None, None, 7 536536      block10_sepconv3_act[0][0]       \n",
      "__________________________________________________________________________________________________\n",
      "block10_sepconv3_bn (BatchNorma (None, None, None, 7 2912        block10_sepconv3[0][0]           \n",
      "__________________________________________________________________________________________________\n",
      "add_105 (Add)                   (None, None, None, 7 0           block10_sepconv3_bn[0][0]        \n",
      "                                                                 add_104[0][0]                    \n",
      "__________________________________________________________________________________________________\n",
      "block11_sepconv1_act (Activatio (None, None, None, 7 0           add_105[0][0]                    \n",
      "__________________________________________________________________________________________________\n",
      "block11_sepconv1 (SeparableConv (None, None, None, 7 536536      block11_sepconv1_act[0][0]       \n",
      "__________________________________________________________________________________________________\n",
      "block11_sepconv1_bn (BatchNorma (None, None, None, 7 2912        block11_sepconv1[0][0]           \n",
      "__________________________________________________________________________________________________\n",
      "block11_sepconv2_act (Activatio (None, None, None, 7 0           block11_sepconv1_bn[0][0]        \n",
      "__________________________________________________________________________________________________\n",
      "block11_sepconv2 (SeparableConv (None, None, None, 7 536536      block11_sepconv2_act[0][0]       \n",
      "__________________________________________________________________________________________________\n",
      "block11_sepconv2_bn (BatchNorma (None, None, None, 7 2912        block11_sepconv2[0][0]           \n",
      "__________________________________________________________________________________________________\n",
      "block11_sepconv3_act (Activatio (None, None, None, 7 0           block11_sepconv2_bn[0][0]        \n",
      "__________________________________________________________________________________________________\n",
      "block11_sepconv3 (SeparableConv (None, None, None, 7 536536      block11_sepconv3_act[0][0]       \n",
      "__________________________________________________________________________________________________\n",
      "block11_sepconv3_bn (BatchNorma (None, None, None, 7 2912        block11_sepconv3[0][0]           \n",
      "__________________________________________________________________________________________________\n",
      "add_106 (Add)                   (None, None, None, 7 0           block11_sepconv3_bn[0][0]        \n",
      "                                                                 add_105[0][0]                    \n",
      "__________________________________________________________________________________________________\n",
      "block12_sepconv1_act (Activatio (None, None, None, 7 0           add_106[0][0]                    \n",
      "__________________________________________________________________________________________________\n",
      "block12_sepconv1 (SeparableConv (None, None, None, 7 536536      block12_sepconv1_act[0][0]       \n",
      "__________________________________________________________________________________________________\n",
      "block12_sepconv1_bn (BatchNorma (None, None, None, 7 2912        block12_sepconv1[0][0]           \n",
      "__________________________________________________________________________________________________\n",
      "block12_sepconv2_act (Activatio (None, None, None, 7 0           block12_sepconv1_bn[0][0]        \n",
      "__________________________________________________________________________________________________\n",
      "block12_sepconv2 (SeparableConv (None, None, None, 7 536536      block12_sepconv2_act[0][0]       \n",
      "__________________________________________________________________________________________________\n",
      "block12_sepconv2_bn (BatchNorma (None, None, None, 7 2912        block12_sepconv2[0][0]           \n",
      "__________________________________________________________________________________________________\n",
      "block12_sepconv3_act (Activatio (None, None, None, 7 0           block12_sepconv2_bn[0][0]        \n",
      "__________________________________________________________________________________________________\n",
      "block12_sepconv3 (SeparableConv (None, None, None, 7 536536      block12_sepconv3_act[0][0]       \n",
      "__________________________________________________________________________________________________\n",
      "block12_sepconv3_bn (BatchNorma (None, None, None, 7 2912        block12_sepconv3[0][0]           \n",
      "__________________________________________________________________________________________________\n",
      "add_107 (Add)                   (None, None, None, 7 0           block12_sepconv3_bn[0][0]        \n",
      "                                                                 add_106[0][0]                    \n",
      "__________________________________________________________________________________________________\n",
      "block13_sepconv1_act (Activatio (None, None, None, 7 0           add_107[0][0]                    \n",
      "__________________________________________________________________________________________________\n",
      "block13_sepconv1 (SeparableConv (None, None, None, 7 536536      block13_sepconv1_act[0][0]       \n",
      "__________________________________________________________________________________________________\n",
      "block13_sepconv1_bn (BatchNorma (None, None, None, 7 2912        block13_sepconv1[0][0]           \n",
      "__________________________________________________________________________________________________\n",
      "block13_sepconv2_act (Activatio (None, None, None, 7 0           block13_sepconv1_bn[0][0]        \n",
      "__________________________________________________________________________________________________\n",
      "block13_sepconv2 (SeparableConv (None, None, None, 1 752024      block13_sepconv2_act[0][0]       \n",
      "__________________________________________________________________________________________________\n",
      "block13_sepconv2_bn (BatchNorma (None, None, None, 1 4096        block13_sepconv2[0][0]           \n",
      "__________________________________________________________________________________________________\n",
      "conv2d_36 (Conv2D)              (None, None, None, 1 745472      add_107[0][0]                    \n",
      "__________________________________________________________________________________________________\n",
      "block13_pool (MaxPooling2D)     (None, None, None, 1 0           block13_sepconv2_bn[0][0]        \n",
      "__________________________________________________________________________________________________\n",
      "batch_normalization_36 (BatchNo (None, None, None, 1 4096        conv2d_36[0][0]                  \n",
      "__________________________________________________________________________________________________\n",
      "add_108 (Add)                   (None, None, None, 1 0           block13_pool[0][0]               \n",
      "                                                                 batch_normalization_36[0][0]     \n",
      "__________________________________________________________________________________________________\n",
      "block14_sepconv1 (SeparableConv (None, None, None, 1 1582080     add_108[0][0]                    \n",
      "__________________________________________________________________________________________________\n",
      "block14_sepconv1_bn (BatchNorma (None, None, None, 1 6144        block14_sepconv1[0][0]           \n",
      "__________________________________________________________________________________________________\n",
      "block14_sepconv1_act (Activatio (None, None, None, 1 0           block14_sepconv1_bn[0][0]        \n",
      "__________________________________________________________________________________________________\n",
      "block14_sepconv2 (SeparableConv (None, None, None, 2 3159552     block14_sepconv1_act[0][0]       \n",
      "__________________________________________________________________________________________________\n",
      "block14_sepconv2_bn (BatchNorma (None, None, None, 2 8192        block14_sepconv2[0][0]           \n",
      "__________________________________________________________________________________________________\n",
      "block14_sepconv2_act (Activatio (None, None, None, 2 0           block14_sepconv2_bn[0][0]        \n",
      "__________________________________________________________________________________________________\n",
      "global_average_pooling2d_8 (Glo (None, 2048)         0           block14_sepconv2_act[0][0]       \n",
      "__________________________________________________________________________________________________\n",
      "dropout_8 (Dropout)             (None, 2048)         0           global_average_pooling2d_8[0][0] \n",
      "__________________________________________________________________________________________________\n",
      "dense_15 (Dense)                (None, 256)          524544      dropout_8[0][0]                  \n",
      "__________________________________________________________________________________________________\n",
      "dense_16 (Dense)                (None, 2)            514         dense_15[0][0]                   \n",
      "==================================================================================================\n",
      "Total params: 21,386,538\n",
      "Trainable params: 21,332,010\n",
      "Non-trainable params: 54,528\n",
      "__________________________________________________________________________________________________\n",
      "**** Loading existing model: ../data/xception_heavyaug/models/xception_heavyaug.h5 ****\n"
     ]
    }
   ],
   "source": [
    "basepath= change_basepath('xception_heavyaug') ####change\n",
    "\n",
    "# Model settings    \n",
    "vggblocks     = 3        # Number of VGG blocks to create, 0-5 blocks\n",
    "xferlearning  = 2      # Enable transfer learning up to layer n (max 12, -1 = off)\n",
    "freeze_conv   = False    # Freeze convolutional layers\n",
    "fclayersize   = 64#128      # Size of fully connected (FC) layers\n",
    "fclayers      = 1        # Number of FC layers\n",
    "fcdropout     = 0.0      # Dropout regularization factor for FC layers\n",
    "alpha         = 0.0      # Leaky ReLU alpha\n",
    "l1_reg        = 0.0      # L1 regularization for FC\n",
    "l2_reg        = 0.0      # L2 regularization for FC\n",
    "\n",
    "# Optimizer settings\n",
    "optimizer = Adam()   \n",
    "# batch_size, nb_epoch = 32, 10000 # Change for early stopping regularization\n",
    "batchnorm     = True     # Batch normalization\n",
    "checkpoint    = True     # Checkpoint models to continue training\n",
    "\n",
    "# Visualization settings\n",
    "hsv             = False    # Convert images to Hue/Saturation/Value to be more robust to color variations\n",
    "vizfilt_timeout = 0        # Decrease for speed, increase for better viz. 0 = off.####changed\n",
    "\n",
    "# Model checkpointing/stats\n",
    "# modeltype     = 'xception'#'resnet50'#'vgg'      # Use default VGG model\n",
    "modeltype     = 'xception'#'resnet50'#'vgg'      # Use default VGG model\n",
    "#modeltype     = 'xception' # New Xception model, recommended imsize = (64, 64) or larger\n",
    "modelarch     = '%s%d-fcl%d-fcs%d-%s-%s' % (modeltype, vggblocks, fclayers, fclayersize, 'hsv' if hsv else 'rgb', socket.gethostname())\n",
    "\n",
    "##GE added start##: adding quick script to make a model folder for modelid for easier saving\n",
    "if not os.path.exists(os.path.join(basepath, \"models/\")):\n",
    "    os.makedirs(os.path.join(basepath, \"models/\"))\n",
    "##GE added end##\n",
    "modelid       = os.path.join(basepath, 'models/xception_heavyaug.h5')  ####change\n",
    "\n",
    "##make model\n",
    "if modeltype == 'vgg':\n",
    "    model, img_input = make_vgg()    \n",
    "elif modeltype == 'xception':\n",
    "    model, img_input = make_xception()\n",
    "elif modeltype == 'resnet50':\n",
    "    model, img_input = make_resnet50()\n",
    "elif modeltype == 'unet':\n",
    "    model, img_input = unet()\n",
    "\n",
    "layer_dict = dict([(layer.name, layer) for layer in model.layers]) ####IMPORTANT FIX FOR VISUALIZATION FILTER\n",
    "    \n",
    "#loading model weights\n",
    "if checkpoint and os.path.exists(modelid): \n",
    "    print(\"**** Loading existing model: %s ****\" % modelid)\n",
    "    try:\n",
    "        model.load_weights(modelid)\n",
    "    except ValueError:\n",
    "        print(\"Model restore failed. Model topology must match to restore weights. Please delete weight checkpoint model.h5.\")\n",
    "    except OSError:\n",
    "        print(\"Model checkpoint corrupted. Please delete.\")"
   ]
  },
  {
   "cell_type": "code",
   "execution_count": 131,
   "metadata": {},
   "outputs": [
    {
     "name": "stdout",
     "output_type": "stream",
     "text": [
      "Confusion Matrix\n"
     ]
    },
    {
     "data": {
      "image/png": "[encoded data removed]",
      "text/plain": [
       "<Figure size 432x288 with 2 Axes>"
      ]
     },
     "metadata": {},
     "output_type": "display_data"
    },
    {
     "data": {
      "image/png": "[encoded data removed]",
      "text/plain": [
       "<Figure size 432x288 with 1 Axes>"
      ]
     },
     "metadata": {},
     "output_type": "display_data"
    },
    {
     "data": {
      "image/png": "[encoded data removed]",
      "text/plain": [
       "<Figure size 720x432 with 2 Axes>"
      ]
     },
     "metadata": {},
     "output_type": "display_data"
    },
    {
     "data": {
      "image/png": "[encoded data removed]",
      "text/plain": [
       "<Figure size 432x288 with 1 Axes>"
      ]
     },
     "metadata": {},
     "output_type": "display_data"
    },
    {
     "data": {
      "image/png": "[encoded data removed]",
      "text/plain": [
       "<Figure size 1440x360 with 6 Axes>"
      ]
     },
     "metadata": {},
     "output_type": "display_data"
    },
    {
     "name": "stdout",
     "output_type": "stream",
     "text": [
      "Actual: True(1)\n",
      "    predicted:       True(1), confidence=0.99 [********* ]\n",
      "    predicted:      False(0), confidence=0.01 [          ]\n",
      "Total training time: 2.89 min, epoch: 2\n",
      "Average time per epoch: 86.63 s\n",
      "Epoch 3/50\n"
     ]
    },
    {
     "name": "stderr",
     "output_type": "stream",
     "text": [
      "Process ForkPoolWorker-19:\n",
      "Process ForkPoolWorker-17:\n",
      "Process ForkPoolWorker-18:\n",
      "Process ForkPoolWorker-20:\n",
      "Traceback (most recent call last):\n",
      "Traceback (most recent call last):\n",
      "Traceback (most recent call last):\n",
      "  File \"/home/gje1631/.conda/envs/tf_gpu2/lib/python3.7/multiprocessing/process.py\", line 297, in _bootstrap\n",
      "    self.run()\n",
      "  File \"/home/gje1631/.conda/envs/tf_gpu2/lib/python3.7/multiprocessing/process.py\", line 297, in _bootstrap\n",
      "    self.run()\n",
      "  File \"/home/gje1631/.conda/envs/tf_gpu2/lib/python3.7/multiprocessing/process.py\", line 297, in _bootstrap\n",
      "    self.run()\n",
      "Traceback (most recent call last):\n",
      "  File \"/home/gje1631/.conda/envs/tf_gpu2/lib/python3.7/multiprocessing/process.py\", line 99, in run\n",
      "    self._target(*self._args, **self._kwargs)\n",
      "  File \"/home/gje1631/.conda/envs/tf_gpu2/lib/python3.7/multiprocessing/process.py\", line 297, in _bootstrap\n",
      "    self.run()\n",
      "  File \"/home/gje1631/.conda/envs/tf_gpu2/lib/python3.7/multiprocessing/process.py\", line 99, in run\n",
      "    self._target(*self._args, **self._kwargs)\n",
      "  File \"/home/gje1631/.conda/envs/tf_gpu2/lib/python3.7/multiprocessing/process.py\", line 99, in run\n",
      "    self._target(*self._args, **self._kwargs)\n",
      "  File \"/home/gje1631/.conda/envs/tf_gpu2/lib/python3.7/multiprocessing/pool.py\", line 110, in worker\n",
      "    task = get()\n",
      "  File \"/home/gje1631/.conda/envs/tf_gpu2/lib/python3.7/multiprocessing/pool.py\", line 110, in worker\n",
      "    task = get()\n",
      "  File \"/home/gje1631/.conda/envs/tf_gpu2/lib/python3.7/multiprocessing/queues.py\", line 351, in get\n",
      "    with self._rlock:\n",
      "  File \"/home/gje1631/.conda/envs/tf_gpu2/lib/python3.7/multiprocessing/process.py\", line 99, in run\n",
      "    self._target(*self._args, **self._kwargs)\n",
      "  File \"/home/gje1631/.conda/envs/tf_gpu2/lib/python3.7/multiprocessing/queues.py\", line 351, in get\n",
      "    with self._rlock:\n",
      "  File \"/home/gje1631/.conda/envs/tf_gpu2/lib/python3.7/multiprocessing/synchronize.py\", line 95, in __enter__\n",
      "    return self._semlock.__enter__()\n",
      "  File \"/home/gje1631/.conda/envs/tf_gpu2/lib/python3.7/multiprocessing/pool.py\", line 110, in worker\n",
      "    task = get()\n",
      "  File \"/home/gje1631/.conda/envs/tf_gpu2/lib/python3.7/multiprocessing/pool.py\", line 110, in worker\n",
      "    task = get()\n",
      "  File \"/home/gje1631/.conda/envs/tf_gpu2/lib/python3.7/multiprocessing/queues.py\", line 351, in get\n",
      "    with self._rlock:\n",
      "KeyboardInterrupt\n",
      "  File \"/home/gje1631/.conda/envs/tf_gpu2/lib/python3.7/multiprocessing/synchronize.py\", line 95, in __enter__\n",
      "    return self._semlock.__enter__()\n",
      "KeyboardInterrupt\n",
      "  File \"/home/gje1631/.conda/envs/tf_gpu2/lib/python3.7/multiprocessing/queues.py\", line 352, in get\n",
      "    res = self._reader.recv_bytes()\n",
      "  File \"/home/gje1631/.conda/envs/tf_gpu2/lib/python3.7/multiprocessing/synchronize.py\", line 95, in __enter__\n",
      "    return self._semlock.__enter__()\n",
      "  File \"/home/gje1631/.conda/envs/tf_gpu2/lib/python3.7/multiprocessing/connection.py\", line 216, in recv_bytes\n",
      "    buf = self._recv_bytes(maxlength)\n",
      "KeyboardInterrupt\n",
      "  File \"/home/gje1631/.conda/envs/tf_gpu2/lib/python3.7/multiprocessing/connection.py\", line 407, in _recv_bytes\n",
      "    buf = self._recv(4)\n",
      "  File \"/home/gje1631/.conda/envs/tf_gpu2/lib/python3.7/multiprocessing/connection.py\", line 379, in _recv\n",
      "    chunk = read(handle, remaining)\n",
      "KeyboardInterrupt\n"
     ]
    },
    {
     "ename": "KeyboardInterrupt",
     "evalue": "",
     "output_type": "error",
     "traceback": [
      "\u001b[0;31m---------------------------------------------------------------------------\u001b[0m",
      "\u001b[0;31mKeyboardInterrupt\u001b[0m                         Traceback (most recent call last)",
      "\u001b[0;32m<ipython-input-131-987ac61468fb>\u001b[0m in \u001b[0;36m<module>\u001b[0;34m\u001b[0m\n\u001b[1;32m     17\u001b[0m     \u001b[0muse_multiprocessing\u001b[0m\u001b[0;34m=\u001b[0m\u001b[0;32mTrue\u001b[0m\u001b[0;34m,\u001b[0m\u001b[0;34m\u001b[0m\u001b[0;34m\u001b[0m\u001b[0m\n\u001b[1;32m     18\u001b[0m     \u001b[0mworkers\u001b[0m\u001b[0;34m=\u001b[0m\u001b[0;36m4\u001b[0m\u001b[0;34m,\u001b[0m\u001b[0;34m\u001b[0m\u001b[0;34m\u001b[0m\u001b[0m\n\u001b[0;32m---> 19\u001b[0;31m     \u001b[0mcallbacks\u001b[0m\u001b[0;34m=\u001b[0m\u001b[0;34m[\u001b[0m\u001b[0mVizTraining\u001b[0m\u001b[0;34m(\u001b[0m\u001b[0;34m)\u001b[0m\u001b[0;34m]\u001b[0m\u001b[0;34m\u001b[0m\u001b[0;34m\u001b[0m\u001b[0m\n\u001b[0m\u001b[1;32m     20\u001b[0m )\n",
      "\u001b[0;32m~/.conda/envs/tf_gpu2/lib/python3.7/site-packages/keras/legacy/interfaces.py\u001b[0m in \u001b[0;36mwrapper\u001b[0;34m(*args, **kwargs)\u001b[0m\n\u001b[1;32m     89\u001b[0m                 warnings.warn('Update your `' + object_name + '` call to the ' +\n\u001b[1;32m     90\u001b[0m                               'Keras 2 API: ' + signature, stacklevel=2)\n\u001b[0;32m---> 91\u001b[0;31m             \u001b[0;32mreturn\u001b[0m \u001b[0mfunc\u001b[0m\u001b[0;34m(\u001b[0m\u001b[0;34m*\u001b[0m\u001b[0margs\u001b[0m\u001b[0;34m,\u001b[0m \u001b[0;34m**\u001b[0m\u001b[0mkwargs\u001b[0m\u001b[0;34m)\u001b[0m\u001b[0;34m\u001b[0m\u001b[0;34m\u001b[0m\u001b[0m\n\u001b[0m\u001b[1;32m     92\u001b[0m         \u001b[0mwrapper\u001b[0m\u001b[0;34m.\u001b[0m\u001b[0m_original_function\u001b[0m \u001b[0;34m=\u001b[0m \u001b[0mfunc\u001b[0m\u001b[0;34m\u001b[0m\u001b[0;34m\u001b[0m\u001b[0m\n\u001b[1;32m     93\u001b[0m         \u001b[0;32mreturn\u001b[0m \u001b[0mwrapper\u001b[0m\u001b[0;34m\u001b[0m\u001b[0;34m\u001b[0m\u001b[0m\n",
      "\u001b[0;32m~/.conda/envs/tf_gpu2/lib/python3.7/site-packages/keras/engine/training.py\u001b[0m in \u001b[0;36mfit_generator\u001b[0;34m(self, generator, steps_per_epoch, epochs, verbose, callbacks, validation_data, validation_steps, class_weight, max_queue_size, workers, use_multiprocessing, shuffle, initial_epoch)\u001b[0m\n\u001b[1;32m   1416\u001b[0m             \u001b[0muse_multiprocessing\u001b[0m\u001b[0;34m=\u001b[0m\u001b[0muse_multiprocessing\u001b[0m\u001b[0;34m,\u001b[0m\u001b[0;34m\u001b[0m\u001b[0;34m\u001b[0m\u001b[0m\n\u001b[1;32m   1417\u001b[0m             \u001b[0mshuffle\u001b[0m\u001b[0;34m=\u001b[0m\u001b[0mshuffle\u001b[0m\u001b[0;34m,\u001b[0m\u001b[0;34m\u001b[0m\u001b[0;34m\u001b[0m\u001b[0m\n\u001b[0;32m-> 1418\u001b[0;31m             initial_epoch=initial_epoch)\n\u001b[0m\u001b[1;32m   1419\u001b[0m \u001b[0;34m\u001b[0m\u001b[0m\n\u001b[1;32m   1420\u001b[0m     \u001b[0;34m@\u001b[0m\u001b[0minterfaces\u001b[0m\u001b[0;34m.\u001b[0m\u001b[0mlegacy_generator_methods_support\u001b[0m\u001b[0;34m\u001b[0m\u001b[0;34m\u001b[0m\u001b[0m\n",
      "\u001b[0;32m~/.conda/envs/tf_gpu2/lib/python3.7/site-packages/keras/engine/training_generator.py\u001b[0m in \u001b[0;36mfit_generator\u001b[0;34m(model, generator, steps_per_epoch, epochs, verbose, callbacks, validation_data, validation_steps, class_weight, max_queue_size, workers, use_multiprocessing, shuffle, initial_epoch)\u001b[0m\n\u001b[1;32m    215\u001b[0m                 outs = model.train_on_batch(x, y,\n\u001b[1;32m    216\u001b[0m                                             \u001b[0msample_weight\u001b[0m\u001b[0;34m=\u001b[0m\u001b[0msample_weight\u001b[0m\u001b[0;34m,\u001b[0m\u001b[0;34m\u001b[0m\u001b[0;34m\u001b[0m\u001b[0m\n\u001b[0;32m--> 217\u001b[0;31m                                             class_weight=class_weight)\n\u001b[0m\u001b[1;32m    218\u001b[0m \u001b[0;34m\u001b[0m\u001b[0m\n\u001b[1;32m    219\u001b[0m                 \u001b[0mouts\u001b[0m \u001b[0;34m=\u001b[0m \u001b[0mto_list\u001b[0m\u001b[0;34m(\u001b[0m\u001b[0mouts\u001b[0m\u001b[0;34m)\u001b[0m\u001b[0;34m\u001b[0m\u001b[0;34m\u001b[0m\u001b[0m\n",
      "\u001b[0;32m~/.conda/envs/tf_gpu2/lib/python3.7/site-packages/keras/engine/training.py\u001b[0m in \u001b[0;36mtrain_on_batch\u001b[0;34m(self, x, y, sample_weight, class_weight)\u001b[0m\n\u001b[1;32m   1215\u001b[0m             \u001b[0mins\u001b[0m \u001b[0;34m=\u001b[0m \u001b[0mx\u001b[0m \u001b[0;34m+\u001b[0m \u001b[0my\u001b[0m \u001b[0;34m+\u001b[0m \u001b[0msample_weights\u001b[0m\u001b[0;34m\u001b[0m\u001b[0;34m\u001b[0m\u001b[0m\n\u001b[1;32m   1216\u001b[0m         \u001b[0mself\u001b[0m\u001b[0;34m.\u001b[0m\u001b[0m_make_train_function\u001b[0m\u001b[0;34m(\u001b[0m\u001b[0;34m)\u001b[0m\u001b[0;34m\u001b[0m\u001b[0;34m\u001b[0m\u001b[0m\n\u001b[0;32m-> 1217\u001b[0;31m         \u001b[0moutputs\u001b[0m \u001b[0;34m=\u001b[0m \u001b[0mself\u001b[0m\u001b[0;34m.\u001b[0m\u001b[0mtrain_function\u001b[0m\u001b[0;34m(\u001b[0m\u001b[0mins\u001b[0m\u001b[0;34m)\u001b[0m\u001b[0;34m\u001b[0m\u001b[0;34m\u001b[0m\u001b[0m\n\u001b[0m\u001b[1;32m   1218\u001b[0m         \u001b[0;32mreturn\u001b[0m \u001b[0munpack_singleton\u001b[0m\u001b[0;34m(\u001b[0m\u001b[0moutputs\u001b[0m\u001b[0;34m)\u001b[0m\u001b[0;34m\u001b[0m\u001b[0;34m\u001b[0m\u001b[0m\n\u001b[1;32m   1219\u001b[0m \u001b[0;34m\u001b[0m\u001b[0m\n",
      "\u001b[0;32m~/.conda/envs/tf_gpu2/lib/python3.7/site-packages/keras/backend/tensorflow_backend.py\u001b[0m in \u001b[0;36m__call__\u001b[0;34m(self, inputs)\u001b[0m\n\u001b[1;32m   2713\u001b[0m                 \u001b[0;32mreturn\u001b[0m \u001b[0mself\u001b[0m\u001b[0;34m.\u001b[0m\u001b[0m_legacy_call\u001b[0m\u001b[0;34m(\u001b[0m\u001b[0minputs\u001b[0m\u001b[0;34m)\u001b[0m\u001b[0;34m\u001b[0m\u001b[0;34m\u001b[0m\u001b[0m\n\u001b[1;32m   2714\u001b[0m \u001b[0;34m\u001b[0m\u001b[0m\n\u001b[0;32m-> 2715\u001b[0;31m             \u001b[0;32mreturn\u001b[0m \u001b[0mself\u001b[0m\u001b[0;34m.\u001b[0m\u001b[0m_call\u001b[0m\u001b[0;34m(\u001b[0m\u001b[0minputs\u001b[0m\u001b[0;34m)\u001b[0m\u001b[0;34m\u001b[0m\u001b[0;34m\u001b[0m\u001b[0m\n\u001b[0m\u001b[1;32m   2716\u001b[0m         \u001b[0;32melse\u001b[0m\u001b[0;34m:\u001b[0m\u001b[0;34m\u001b[0m\u001b[0;34m\u001b[0m\u001b[0m\n\u001b[1;32m   2717\u001b[0m             \u001b[0;32mif\u001b[0m \u001b[0mpy_any\u001b[0m\u001b[0;34m(\u001b[0m\u001b[0mis_tensor\u001b[0m\u001b[0;34m(\u001b[0m\u001b[0mx\u001b[0m\u001b[0;34m)\u001b[0m \u001b[0;32mfor\u001b[0m \u001b[0mx\u001b[0m \u001b[0;32min\u001b[0m \u001b[0minputs\u001b[0m\u001b[0;34m)\u001b[0m\u001b[0;34m:\u001b[0m\u001b[0;34m\u001b[0m\u001b[0;34m\u001b[0m\u001b[0m\n",
      "\u001b[0;32m~/.conda/envs/tf_gpu2/lib/python3.7/site-packages/keras/backend/tensorflow_backend.py\u001b[0m in \u001b[0;36m_call\u001b[0;34m(self, inputs)\u001b[0m\n\u001b[1;32m   2673\u001b[0m             \u001b[0mfetched\u001b[0m \u001b[0;34m=\u001b[0m \u001b[0mself\u001b[0m\u001b[0;34m.\u001b[0m\u001b[0m_callable_fn\u001b[0m\u001b[0;34m(\u001b[0m\u001b[0;34m*\u001b[0m\u001b[0marray_vals\u001b[0m\u001b[0;34m,\u001b[0m \u001b[0mrun_metadata\u001b[0m\u001b[0;34m=\u001b[0m\u001b[0mself\u001b[0m\u001b[0;34m.\u001b[0m\u001b[0mrun_metadata\u001b[0m\u001b[0;34m)\u001b[0m\u001b[0;34m\u001b[0m\u001b[0;34m\u001b[0m\u001b[0m\n\u001b[1;32m   2674\u001b[0m         \u001b[0;32melse\u001b[0m\u001b[0;34m:\u001b[0m\u001b[0;34m\u001b[0m\u001b[0;34m\u001b[0m\u001b[0m\n\u001b[0;32m-> 2675\u001b[0;31m             \u001b[0mfetched\u001b[0m \u001b[0;34m=\u001b[0m \u001b[0mself\u001b[0m\u001b[0;34m.\u001b[0m\u001b[0m_callable_fn\u001b[0m\u001b[0;34m(\u001b[0m\u001b[0;34m*\u001b[0m\u001b[0marray_vals\u001b[0m\u001b[0;34m)\u001b[0m\u001b[0;34m\u001b[0m\u001b[0;34m\u001b[0m\u001b[0m\n\u001b[0m\u001b[1;32m   2676\u001b[0m         \u001b[0;32mreturn\u001b[0m \u001b[0mfetched\u001b[0m\u001b[0;34m[\u001b[0m\u001b[0;34m:\u001b[0m\u001b[0mlen\u001b[0m\u001b[0;34m(\u001b[0m\u001b[0mself\u001b[0m\u001b[0;34m.\u001b[0m\u001b[0moutputs\u001b[0m\u001b[0;34m)\u001b[0m\u001b[0;34m]\u001b[0m\u001b[0;34m\u001b[0m\u001b[0;34m\u001b[0m\u001b[0m\n\u001b[1;32m   2677\u001b[0m \u001b[0;34m\u001b[0m\u001b[0m\n",
      "\u001b[0;32m~/.conda/envs/tf_gpu2/lib/python3.7/site-packages/tensorflow/python/client/session.py\u001b[0m in \u001b[0;36m__call__\u001b[0;34m(self, *args, **kwargs)\u001b[0m\n\u001b[1;32m   1437\u001b[0m           ret = tf_session.TF_SessionRunCallable(\n\u001b[1;32m   1438\u001b[0m               \u001b[0mself\u001b[0m\u001b[0;34m.\u001b[0m\u001b[0m_session\u001b[0m\u001b[0;34m.\u001b[0m\u001b[0m_session\u001b[0m\u001b[0;34m,\u001b[0m \u001b[0mself\u001b[0m\u001b[0;34m.\u001b[0m\u001b[0m_handle\u001b[0m\u001b[0;34m,\u001b[0m \u001b[0margs\u001b[0m\u001b[0;34m,\u001b[0m \u001b[0mstatus\u001b[0m\u001b[0;34m,\u001b[0m\u001b[0;34m\u001b[0m\u001b[0;34m\u001b[0m\u001b[0m\n\u001b[0;32m-> 1439\u001b[0;31m               run_metadata_ptr)\n\u001b[0m\u001b[1;32m   1440\u001b[0m         \u001b[0;32mif\u001b[0m \u001b[0mrun_metadata\u001b[0m\u001b[0;34m:\u001b[0m\u001b[0;34m\u001b[0m\u001b[0;34m\u001b[0m\u001b[0m\n\u001b[1;32m   1441\u001b[0m           \u001b[0mproto_data\u001b[0m \u001b[0;34m=\u001b[0m \u001b[0mtf_session\u001b[0m\u001b[0;34m.\u001b[0m\u001b[0mTF_GetBuffer\u001b[0m\u001b[0;34m(\u001b[0m\u001b[0mrun_metadata_ptr\u001b[0m\u001b[0;34m)\u001b[0m\u001b[0;34m\u001b[0m\u001b[0;34m\u001b[0m\u001b[0m\n",
      "\u001b[0;31mKeyboardInterrupt\u001b[0m: "
     ]
    }
   ],
   "source": [
    "#%% Training code\n",
    "##transfer learning\n",
    "from IPython.display import clear_output\n",
    "\n",
    "tm = time.time()\n",
    "trainstats = pd.DataFrame(columns=('Train loss', 'Test loss', 'Accuracy', 'Train accuracy'))\n",
    "epochs=50 ####change\n",
    "\n",
    "from keras.callbacks import Callback\n",
    "\n",
    "loss = model.fit_generator(\n",
    "    train_generator,\n",
    "    steps_per_epoch=int(len(train_generator.filenames)/batch_size),\n",
    "    validation_data=(X_test, Y_test),\n",
    "    validation_steps=1,\n",
    "    verbose=1, epochs=epochs,\n",
    "    use_multiprocessing=True,\n",
    "    workers=4,\n",
    "    callbacks=[VizTraining()]\n",
    ")"
   ]
  },
  {
   "cell_type": "code",
   "execution_count": null,
   "metadata": {},
   "outputs": [],
   "source": []
  },
  {
   "cell_type": "code",
   "execution_count": null,
   "metadata": {},
   "outputs": [],
   "source": []
  },
  {
   "cell_type": "code",
   "execution_count": null,
   "metadata": {},
   "outputs": [],
   "source": []
  },
  {
   "cell_type": "code",
   "execution_count": 56,
   "metadata": {},
   "outputs": [],
   "source": [
    "def target_category_loss(x, category_index, nb_classes):\n",
    "    return tf.multiply(x, K.one_hot([category_index], nb_classes))\n",
    "\n",
    "def target_category_loss_output_shape(input_shape):\n",
    "    return input_shape\n",
    "\n",
    "def normalize(x):\n",
    "    # utility function to normalize a tensor by its L2 norm\n",
    "    return x / (K.sqrt(K.mean(K.square(x))) + 1e-5)\n",
    "\n",
    "def grad_cam(input_model, image, category_index, layer_name):\n",
    "    from keras.preprocessing import image\n",
    "    from keras.layers.core import Lambda\n",
    "    from keras.models import Sequential\n",
    "    from tensorflow.python.framework import ops\n",
    "    import keras.backend as K\n",
    "    import tensorflow as tf\n",
    "    import numpy as np\n",
    "    import keras\n",
    "    import sys\n",
    "    import cv2\n",
    "    model = Sequential()\n",
    "    model.add(input_model)\n",
    "\n",
    "    nb_classes = 2\n",
    "    target_layer = lambda x: target_category_loss(x, category_index, nb_classes)\n",
    "    print(target_layer)\n",
    "    model.add(Lambda(target_layer,\n",
    "                     output_shape = target_category_loss_output_shape))\n",
    "    model.summary()\n",
    "\n",
    "    loss = K.sum(model.layers[-1].output)\n",
    "    conv_output =  [l for l in model.layers[0].layers if l.name is layer_name][0].output\n",
    "    grads = K.gradients(loss, conv_output)[0]#normalize(K.gradients(loss, conv_output)[0])\n",
    "    gradient_function = K.function([model.layers[0].input], [conv_output, grads])\n",
    "\n",
    "    output, grads_val = gradient_function([image])\n",
    "    output, grads_val = output[0, :], grads_val[0, :, :, :]\n",
    "\n",
    "    weights = np.mean(grads_val, axis = (0, 1))\n",
    "    cam = np.ones(output.shape[0 : 2], dtype = np.float32)\n",
    "\n",
    "    for i, w in enumerate(weights):\n",
    "        cam += w * output[:, :, i]\n",
    "\n",
    "    cam = cv2.resize(cam, (224, 224))\n",
    "    cam = np.maximum(cam, 0)\n",
    "    heatmap = cam / np.max(cam)\n",
    "\n",
    "    #Return to BGR [0..255] from the preprocessed image\n",
    "    image = image[0, :]\n",
    "    image -= np.min(image)\n",
    "    image = np.minimum(image, 255)\n",
    "\n",
    "    cam = cv2.applyColorMap(np.uint8(255*heatmap), cv2.COLORMAP_JET)\n",
    "    cam = np.float32(cam) + np.float32(image)\n",
    "    cam = 255 * cam / np.max(cam)\n",
    "    return np.uint8(cam), heatmap\n",
    "\n"
   ]
  },
  {
   "cell_type": "code",
   "execution_count": 55,
   "metadata": {},
   "outputs": [],
   "source": [
    "K.gradients(loss, conv_output)[0]"
   ]
  },
  {
   "cell_type": "code",
   "execution_count": 70,
   "metadata": {},
   "outputs": [
    {
     "name": "stdout",
     "output_type": "stream",
     "text": [
      "<function <lambda> at 0x7f6978b40488>\n",
      "_________________________________________________________________\n",
      "Layer (type)                 Output Shape              Param #   \n",
      "=================================================================\n",
      "model_1 (Model)              (None, 2)                 21386538  \n",
      "_________________________________________________________________\n",
      "lambda_12 (Lambda)           (None, 2)                 0         \n",
      "=================================================================\n",
      "Total params: 21,386,538\n",
      "Trainable params: 21,332,010\n",
      "Non-trainable params: 54,528\n",
      "_________________________________________________________________\n"
     ]
    },
    {
     "ename": "TypeError",
     "evalue": "Can not convert a NoneType into a Tensor or Operation.",
     "output_type": "error",
     "traceback": [
      "\u001b[0;31m---------------------------------------------------------------------------\u001b[0m",
      "\u001b[0;31mTypeError\u001b[0m                                 Traceback (most recent call last)",
      "\u001b[0;32m<ipython-input-70-1b5d7e52cfec>\u001b[0m in \u001b[0;36m<module>\u001b[0;34m\u001b[0m\n\u001b[1;32m     42\u001b[0m \u001b[0;31m#model2.inputs\u001b[0m\u001b[0;34m\u001b[0m\u001b[0;34m\u001b[0m\u001b[0;34m\u001b[0m\u001b[0m\n\u001b[1;32m     43\u001b[0m \u001b[0;31m#gradient_function = K.function([model2.layers[0].input], [conv_output, grads])\u001b[0m\u001b[0;34m\u001b[0m\u001b[0;34m\u001b[0m\u001b[0;34m\u001b[0m\u001b[0m\n\u001b[0;32m---> 44\u001b[0;31m \u001b[0mgradient_function\u001b[0m \u001b[0;34m=\u001b[0m \u001b[0mK\u001b[0m\u001b[0;34m.\u001b[0m\u001b[0mfunction\u001b[0m\u001b[0;34m(\u001b[0m\u001b[0;34m[\u001b[0m\u001b[0mmodel2\u001b[0m\u001b[0;34m.\u001b[0m\u001b[0minputs\u001b[0m\u001b[0;34m]\u001b[0m\u001b[0;34m,\u001b[0m \u001b[0;34m[\u001b[0m\u001b[0mconv_output\u001b[0m\u001b[0;34m,\u001b[0m \u001b[0mgrads\u001b[0m\u001b[0;34m]\u001b[0m\u001b[0;34m)\u001b[0m\u001b[0;34m\u001b[0m\u001b[0;34m\u001b[0m\u001b[0m\n\u001b[0m",
      "\u001b[0;32m~/.conda/envs/tf_gpu2/lib/python3.7/site-packages/keras/backend/tensorflow_backend.py\u001b[0m in \u001b[0;36mfunction\u001b[0;34m(inputs, outputs, updates, **kwargs)\u001b[0m\n\u001b[1;32m   2742\u001b[0m                 \u001b[0mmsg\u001b[0m \u001b[0;34m=\u001b[0m \u001b[0;34m'Invalid argument \"%s\" passed to K.function with TensorFlow backend'\u001b[0m \u001b[0;34m%\u001b[0m \u001b[0mkey\u001b[0m\u001b[0;34m\u001b[0m\u001b[0;34m\u001b[0m\u001b[0m\n\u001b[1;32m   2743\u001b[0m                 \u001b[0;32mraise\u001b[0m \u001b[0mValueError\u001b[0m\u001b[0;34m(\u001b[0m\u001b[0mmsg\u001b[0m\u001b[0;34m)\u001b[0m\u001b[0;34m\u001b[0m\u001b[0;34m\u001b[0m\u001b[0m\n\u001b[0;32m-> 2744\u001b[0;31m     \u001b[0;32mreturn\u001b[0m \u001b[0mFunction\u001b[0m\u001b[0;34m(\u001b[0m\u001b[0minputs\u001b[0m\u001b[0;34m,\u001b[0m \u001b[0moutputs\u001b[0m\u001b[0;34m,\u001b[0m \u001b[0mupdates\u001b[0m\u001b[0;34m=\u001b[0m\u001b[0mupdates\u001b[0m\u001b[0;34m,\u001b[0m \u001b[0;34m**\u001b[0m\u001b[0mkwargs\u001b[0m\u001b[0;34m)\u001b[0m\u001b[0;34m\u001b[0m\u001b[0;34m\u001b[0m\u001b[0m\n\u001b[0m\u001b[1;32m   2745\u001b[0m \u001b[0;34m\u001b[0m\u001b[0m\n\u001b[1;32m   2746\u001b[0m \u001b[0;34m\u001b[0m\u001b[0m\n",
      "\u001b[0;32m~/.conda/envs/tf_gpu2/lib/python3.7/site-packages/keras/backend/tensorflow_backend.py\u001b[0m in \u001b[0;36m__init__\u001b[0;34m(self, inputs, outputs, updates, name, **session_kwargs)\u001b[0m\n\u001b[1;32m   2544\u001b[0m         \u001b[0mself\u001b[0m\u001b[0;34m.\u001b[0m\u001b[0minputs\u001b[0m \u001b[0;34m=\u001b[0m \u001b[0mlist\u001b[0m\u001b[0;34m(\u001b[0m\u001b[0minputs\u001b[0m\u001b[0;34m)\u001b[0m\u001b[0;34m\u001b[0m\u001b[0;34m\u001b[0m\u001b[0m\n\u001b[1;32m   2545\u001b[0m         \u001b[0mself\u001b[0m\u001b[0;34m.\u001b[0m\u001b[0moutputs\u001b[0m \u001b[0;34m=\u001b[0m \u001b[0mlist\u001b[0m\u001b[0;34m(\u001b[0m\u001b[0moutputs\u001b[0m\u001b[0;34m)\u001b[0m\u001b[0;34m\u001b[0m\u001b[0;34m\u001b[0m\u001b[0m\n\u001b[0;32m-> 2546\u001b[0;31m         \u001b[0;32mwith\u001b[0m \u001b[0mtf\u001b[0m\u001b[0;34m.\u001b[0m\u001b[0mcontrol_dependencies\u001b[0m\u001b[0;34m(\u001b[0m\u001b[0mself\u001b[0m\u001b[0;34m.\u001b[0m\u001b[0moutputs\u001b[0m\u001b[0;34m)\u001b[0m\u001b[0;34m:\u001b[0m\u001b[0;34m\u001b[0m\u001b[0;34m\u001b[0m\u001b[0m\n\u001b[0m\u001b[1;32m   2547\u001b[0m             \u001b[0mupdates_ops\u001b[0m \u001b[0;34m=\u001b[0m \u001b[0;34m[\u001b[0m\u001b[0;34m]\u001b[0m\u001b[0;34m\u001b[0m\u001b[0;34m\u001b[0m\u001b[0m\n\u001b[1;32m   2548\u001b[0m             \u001b[0;32mfor\u001b[0m \u001b[0mupdate\u001b[0m \u001b[0;32min\u001b[0m \u001b[0mupdates\u001b[0m\u001b[0;34m:\u001b[0m\u001b[0;34m\u001b[0m\u001b[0;34m\u001b[0m\u001b[0m\n",
      "\u001b[0;32m~/.conda/envs/tf_gpu2/lib/python3.7/site-packages/tensorflow/python/framework/ops.py\u001b[0m in \u001b[0;36mcontrol_dependencies\u001b[0;34m(control_inputs)\u001b[0m\n\u001b[1;32m   5026\u001b[0m     \u001b[0;32mreturn\u001b[0m \u001b[0mNullContextmanager\u001b[0m\u001b[0;34m(\u001b[0m\u001b[0;34m)\u001b[0m\u001b[0;34m\u001b[0m\u001b[0;34m\u001b[0m\u001b[0m\n\u001b[1;32m   5027\u001b[0m   \u001b[0;32melse\u001b[0m\u001b[0;34m:\u001b[0m\u001b[0;34m\u001b[0m\u001b[0;34m\u001b[0m\u001b[0m\n\u001b[0;32m-> 5028\u001b[0;31m     \u001b[0;32mreturn\u001b[0m \u001b[0mget_default_graph\u001b[0m\u001b[0;34m(\u001b[0m\u001b[0;34m)\u001b[0m\u001b[0;34m.\u001b[0m\u001b[0mcontrol_dependencies\u001b[0m\u001b[0;34m(\u001b[0m\u001b[0mcontrol_inputs\u001b[0m\u001b[0;34m)\u001b[0m\u001b[0;34m\u001b[0m\u001b[0;34m\u001b[0m\u001b[0m\n\u001b[0m\u001b[1;32m   5029\u001b[0m \u001b[0;34m\u001b[0m\u001b[0m\n\u001b[1;32m   5030\u001b[0m \u001b[0;34m\u001b[0m\u001b[0m\n",
      "\u001b[0;32m~/.conda/envs/tf_gpu2/lib/python3.7/site-packages/tensorflow/python/framework/ops.py\u001b[0m in \u001b[0;36mcontrol_dependencies\u001b[0;34m(self, control_inputs)\u001b[0m\n\u001b[1;32m   4526\u001b[0m       \u001b[0;32mif\u001b[0m \u001b[0misinstance\u001b[0m\u001b[0;34m(\u001b[0m\u001b[0mc\u001b[0m\u001b[0;34m,\u001b[0m \u001b[0mIndexedSlices\u001b[0m\u001b[0;34m)\u001b[0m\u001b[0;34m:\u001b[0m\u001b[0;34m\u001b[0m\u001b[0;34m\u001b[0m\u001b[0m\n\u001b[1;32m   4527\u001b[0m         \u001b[0mc\u001b[0m \u001b[0;34m=\u001b[0m \u001b[0mc\u001b[0m\u001b[0;34m.\u001b[0m\u001b[0mop\u001b[0m\u001b[0;34m\u001b[0m\u001b[0;34m\u001b[0m\u001b[0m\n\u001b[0;32m-> 4528\u001b[0;31m       \u001b[0mc\u001b[0m \u001b[0;34m=\u001b[0m \u001b[0mself\u001b[0m\u001b[0;34m.\u001b[0m\u001b[0mas_graph_element\u001b[0m\u001b[0;34m(\u001b[0m\u001b[0mc\u001b[0m\u001b[0;34m)\u001b[0m\u001b[0;34m\u001b[0m\u001b[0;34m\u001b[0m\u001b[0m\n\u001b[0m\u001b[1;32m   4529\u001b[0m       \u001b[0;32mif\u001b[0m \u001b[0misinstance\u001b[0m\u001b[0;34m(\u001b[0m\u001b[0mc\u001b[0m\u001b[0;34m,\u001b[0m \u001b[0mTensor\u001b[0m\u001b[0;34m)\u001b[0m\u001b[0;34m:\u001b[0m\u001b[0;34m\u001b[0m\u001b[0;34m\u001b[0m\u001b[0m\n\u001b[1;32m   4530\u001b[0m         \u001b[0mc\u001b[0m \u001b[0;34m=\u001b[0m \u001b[0mc\u001b[0m\u001b[0;34m.\u001b[0m\u001b[0mop\u001b[0m\u001b[0;34m\u001b[0m\u001b[0;34m\u001b[0m\u001b[0m\n",
      "\u001b[0;32m~/.conda/envs/tf_gpu2/lib/python3.7/site-packages/tensorflow/python/framework/ops.py\u001b[0m in \u001b[0;36mas_graph_element\u001b[0;34m(self, obj, allow_tensor, allow_operation)\u001b[0m\n\u001b[1;32m   3476\u001b[0m \u001b[0;34m\u001b[0m\u001b[0m\n\u001b[1;32m   3477\u001b[0m     \u001b[0;32mwith\u001b[0m \u001b[0mself\u001b[0m\u001b[0;34m.\u001b[0m\u001b[0m_lock\u001b[0m\u001b[0;34m:\u001b[0m\u001b[0;34m\u001b[0m\u001b[0;34m\u001b[0m\u001b[0m\n\u001b[0;32m-> 3478\u001b[0;31m       \u001b[0;32mreturn\u001b[0m \u001b[0mself\u001b[0m\u001b[0;34m.\u001b[0m\u001b[0m_as_graph_element_locked\u001b[0m\u001b[0;34m(\u001b[0m\u001b[0mobj\u001b[0m\u001b[0;34m,\u001b[0m \u001b[0mallow_tensor\u001b[0m\u001b[0;34m,\u001b[0m \u001b[0mallow_operation\u001b[0m\u001b[0;34m)\u001b[0m\u001b[0;34m\u001b[0m\u001b[0;34m\u001b[0m\u001b[0m\n\u001b[0m\u001b[1;32m   3479\u001b[0m \u001b[0;34m\u001b[0m\u001b[0m\n\u001b[1;32m   3480\u001b[0m   \u001b[0;32mdef\u001b[0m \u001b[0m_as_graph_element_locked\u001b[0m\u001b[0;34m(\u001b[0m\u001b[0mself\u001b[0m\u001b[0;34m,\u001b[0m \u001b[0mobj\u001b[0m\u001b[0;34m,\u001b[0m \u001b[0mallow_tensor\u001b[0m\u001b[0;34m,\u001b[0m \u001b[0mallow_operation\u001b[0m\u001b[0;34m)\u001b[0m\u001b[0;34m:\u001b[0m\u001b[0;34m\u001b[0m\u001b[0;34m\u001b[0m\u001b[0m\n",
      "\u001b[0;32m~/.conda/envs/tf_gpu2/lib/python3.7/site-packages/tensorflow/python/framework/ops.py\u001b[0m in \u001b[0;36m_as_graph_element_locked\u001b[0;34m(self, obj, allow_tensor, allow_operation)\u001b[0m\n\u001b[1;32m   3565\u001b[0m       \u001b[0;31m# We give up!\u001b[0m\u001b[0;34m\u001b[0m\u001b[0;34m\u001b[0m\u001b[0;34m\u001b[0m\u001b[0m\n\u001b[1;32m   3566\u001b[0m       raise TypeError(\"Can not convert a %s into a %s.\" % (type(obj).__name__,\n\u001b[0;32m-> 3567\u001b[0;31m                                                            types_str))\n\u001b[0m\u001b[1;32m   3568\u001b[0m \u001b[0;34m\u001b[0m\u001b[0m\n\u001b[1;32m   3569\u001b[0m   \u001b[0;32mdef\u001b[0m \u001b[0mget_operations\u001b[0m\u001b[0;34m(\u001b[0m\u001b[0mself\u001b[0m\u001b[0;34m)\u001b[0m\u001b[0;34m:\u001b[0m\u001b[0;34m\u001b[0m\u001b[0;34m\u001b[0m\u001b[0m\n",
      "\u001b[0;31mTypeError\u001b[0m: Can not convert a NoneType into a Tensor or Operation."
     ]
    }
   ],
   "source": [
    "# ## testing adding this sequential layer \n",
    "# from keras.models import Sequential\n",
    "# from keras.layers.core import Lambda\n",
    "\n",
    "# ##importing predictions\n",
    "# def load_image(path):\n",
    "#     from keras.preprocessing import image\n",
    "#     import sys\n",
    "#     #img_path = sys.argv[1]\n",
    "#     img = image.load_img(img_path, target_size=(224, 224))\n",
    "#     x = image.img_to_array(img)\n",
    "#     x = np.expand_dims(x, axis=0)\n",
    "#     #x = preprocess_input(x)\n",
    "#     x= x/255\n",
    "#     return x\n",
    "# img_path='../data/train/False/1.png'\n",
    "# preprocessed_input= load_image(img_path)\n",
    "\n",
    "# predictions = model.predict(preprocessed_input)\n",
    "# #top_1 = decode_predictions(predictions)[0][0]\n",
    "# predicted_class = np.argmax(predictions)\n",
    "\n",
    "# ###testing fxn internals\n",
    "# input_model, image, category_index, layer_name= model, preprocessed_input, predicted_class, \"block14_sepconv2_act\"\n",
    "\n",
    "# model2 = Sequential()\n",
    "# model2.add(input_model)\n",
    "\n",
    "# nb_classes = 2\n",
    "# target_layer = lambda x: target_category_loss(x, category_index, nb_classes)\n",
    "# print(target_layer)\n",
    "# model2.add(Lambda(target_layer,\n",
    "#                  output_shape = target_category_loss_output_shape))\n",
    "# model2.summary()\n",
    "\n",
    "# loss = K.sum(model2.layers[-1].output)\n",
    "\n",
    "\n",
    "# conv_output =  [l for l in model2.layers[0].layers if l.name is layer_name][0].output\n",
    "# grads = K.gradients(loss, conv_output)[0]#normalize(K.gradients(loss, conv_output)[0])\n",
    "\n",
    "# #model2.inputs\n",
    "# #gradient_function = K.function([model2.layers[0].input], [conv_output, grads])\n",
    "# gradient_function = K.function([model2.inputs], [conv_output, grads])"
   ]
  },
  {
   "cell_type": "code",
   "execution_count": 76,
   "metadata": {},
   "outputs": [],
   "source": [
    "grads"
   ]
  },
  {
   "cell_type": "code",
   "execution_count": 75,
   "metadata": {},
   "outputs": [],
   "source": [
    "K.gradients(loss, conv_output)[0]"
   ]
  },
  {
   "cell_type": "code",
   "execution_count": 73,
   "metadata": {},
   "outputs": [],
   "source": [
    "grads"
   ]
  },
  {
   "cell_type": "code",
   "execution_count": 69,
   "metadata": {},
   "outputs": [
    {
     "data": {
      "text/plain": [
       "[<tf.Tensor 'model_1_input_10:0' shape=(?, ?, ?, 3) dtype=float32>]"
      ]
     },
     "execution_count": 69,
     "metadata": {},
     "output_type": "execute_result"
    }
   ],
   "source": [
    "model2.inputs"
   ]
  },
  {
   "cell_type": "code",
   "execution_count": 66,
   "metadata": {},
   "outputs": [
    {
     "data": {
      "text/plain": [
       "<keras.engine.input_layer.InputLayer at 0x7f6ae9374d30>"
      ]
     },
     "execution_count": 66,
     "metadata": {},
     "output_type": "execute_result"
    }
   ],
   "source": [
    "model2.layers[0].layers[0]#.input"
   ]
  },
  {
   "cell_type": "code",
   "execution_count": 57,
   "metadata": {},
   "outputs": [
    {
     "name": "stdout",
     "output_type": "stream",
     "text": [
      "<function grad_cam.<locals>.<lambda> at 0x7f698db79e18>\n",
      "_________________________________________________________________\n",
      "Layer (type)                 Output Shape              Param #   \n",
      "=================================================================\n",
      "model_1 (Model)              (None, 2)                 21386538  \n",
      "_________________________________________________________________\n",
      "lambda_8 (Lambda)            (None, 2)                 0         \n",
      "=================================================================\n",
      "Total params: 21,386,538\n",
      "Trainable params: 21,332,010\n",
      "Non-trainable params: 54,528\n",
      "_________________________________________________________________\n"
     ]
    },
    {
     "ename": "AttributeError",
     "evalue": "Layer model_1 has multiple inbound nodes, hence the notion of \"layer input\" is ill-defined. Use `get_input_at(node_index)` instead.",
     "output_type": "error",
     "traceback": [
      "\u001b[0;31m---------------------------------------------------------------------------\u001b[0m",
      "\u001b[0;31mAttributeError\u001b[0m                            Traceback (most recent call last)",
      "\u001b[0;32m<ipython-input-57-1796dd8b6930>\u001b[0m in \u001b[0;36m<module>\u001b[0;34m\u001b[0m\n\u001b[0;32m----> 1\u001b[0;31m \u001b[0mcam\u001b[0m\u001b[0;34m,\u001b[0m \u001b[0mheatmap\u001b[0m \u001b[0;34m=\u001b[0m \u001b[0mgrad_cam\u001b[0m\u001b[0;34m(\u001b[0m\u001b[0mmodel\u001b[0m\u001b[0;34m,\u001b[0m \u001b[0mpreprocessed_input\u001b[0m\u001b[0;34m,\u001b[0m \u001b[0mpredicted_class\u001b[0m\u001b[0;34m,\u001b[0m \u001b[0;34m\"block14_sepconv2_act\"\u001b[0m\u001b[0;34m)\u001b[0m\u001b[0;34m\u001b[0m\u001b[0;34m\u001b[0m\u001b[0m\n\u001b[0m",
      "\u001b[0;32m<ipython-input-56-ffa2fd450c0c>\u001b[0m in \u001b[0;36mgrad_cam\u001b[0;34m(input_model, image, category_index, layer_name)\u001b[0m\n\u001b[1;32m     33\u001b[0m     \u001b[0mconv_output\u001b[0m \u001b[0;34m=\u001b[0m  \u001b[0;34m[\u001b[0m\u001b[0ml\u001b[0m \u001b[0;32mfor\u001b[0m \u001b[0ml\u001b[0m \u001b[0;32min\u001b[0m \u001b[0mmodel\u001b[0m\u001b[0;34m.\u001b[0m\u001b[0mlayers\u001b[0m\u001b[0;34m[\u001b[0m\u001b[0;36m0\u001b[0m\u001b[0;34m]\u001b[0m\u001b[0;34m.\u001b[0m\u001b[0mlayers\u001b[0m \u001b[0;32mif\u001b[0m \u001b[0ml\u001b[0m\u001b[0;34m.\u001b[0m\u001b[0mname\u001b[0m \u001b[0;32mis\u001b[0m \u001b[0mlayer_name\u001b[0m\u001b[0;34m]\u001b[0m\u001b[0;34m[\u001b[0m\u001b[0;36m0\u001b[0m\u001b[0;34m]\u001b[0m\u001b[0;34m.\u001b[0m\u001b[0moutput\u001b[0m\u001b[0;34m\u001b[0m\u001b[0;34m\u001b[0m\u001b[0m\n\u001b[1;32m     34\u001b[0m     \u001b[0mgrads\u001b[0m \u001b[0;34m=\u001b[0m \u001b[0mK\u001b[0m\u001b[0;34m.\u001b[0m\u001b[0mgradients\u001b[0m\u001b[0;34m(\u001b[0m\u001b[0mloss\u001b[0m\u001b[0;34m,\u001b[0m \u001b[0mconv_output\u001b[0m\u001b[0;34m)\u001b[0m\u001b[0;34m[\u001b[0m\u001b[0;36m0\u001b[0m\u001b[0;34m]\u001b[0m\u001b[0;31m#normalize(K.gradients(loss, conv_output)[0])\u001b[0m\u001b[0;34m\u001b[0m\u001b[0;34m\u001b[0m\u001b[0m\n\u001b[0;32m---> 35\u001b[0;31m     \u001b[0mgradient_function\u001b[0m \u001b[0;34m=\u001b[0m \u001b[0mK\u001b[0m\u001b[0;34m.\u001b[0m\u001b[0mfunction\u001b[0m\u001b[0;34m(\u001b[0m\u001b[0;34m[\u001b[0m\u001b[0mmodel\u001b[0m\u001b[0;34m.\u001b[0m\u001b[0mlayers\u001b[0m\u001b[0;34m[\u001b[0m\u001b[0;36m0\u001b[0m\u001b[0;34m]\u001b[0m\u001b[0;34m.\u001b[0m\u001b[0minput\u001b[0m\u001b[0;34m]\u001b[0m\u001b[0;34m,\u001b[0m \u001b[0;34m[\u001b[0m\u001b[0mconv_output\u001b[0m\u001b[0;34m,\u001b[0m \u001b[0mgrads\u001b[0m\u001b[0;34m]\u001b[0m\u001b[0;34m)\u001b[0m\u001b[0;34m\u001b[0m\u001b[0;34m\u001b[0m\u001b[0m\n\u001b[0m\u001b[1;32m     36\u001b[0m \u001b[0;34m\u001b[0m\u001b[0m\n\u001b[1;32m     37\u001b[0m     \u001b[0moutput\u001b[0m\u001b[0;34m,\u001b[0m \u001b[0mgrads_val\u001b[0m \u001b[0;34m=\u001b[0m \u001b[0mgradient_function\u001b[0m\u001b[0;34m(\u001b[0m\u001b[0;34m[\u001b[0m\u001b[0mimage\u001b[0m\u001b[0;34m]\u001b[0m\u001b[0;34m)\u001b[0m\u001b[0;34m\u001b[0m\u001b[0;34m\u001b[0m\u001b[0m\n",
      "\u001b[0;32m~/.conda/envs/tf_gpu2/lib/python3.7/site-packages/keras/engine/base_layer.py\u001b[0m in \u001b[0;36minput\u001b[0;34m(self)\u001b[0m\n\u001b[1;32m    782\u001b[0m         \u001b[0;32mif\u001b[0m \u001b[0mlen\u001b[0m\u001b[0;34m(\u001b[0m\u001b[0mself\u001b[0m\u001b[0;34m.\u001b[0m\u001b[0m_inbound_nodes\u001b[0m\u001b[0;34m)\u001b[0m \u001b[0;34m>\u001b[0m \u001b[0;36m1\u001b[0m\u001b[0;34m:\u001b[0m\u001b[0;34m\u001b[0m\u001b[0;34m\u001b[0m\u001b[0m\n\u001b[1;32m    783\u001b[0m             raise AttributeError('Layer ' + self.name +\n\u001b[0;32m--> 784\u001b[0;31m                                  \u001b[0;34m' has multiple inbound nodes, '\u001b[0m\u001b[0;34m\u001b[0m\u001b[0;34m\u001b[0m\u001b[0m\n\u001b[0m\u001b[1;32m    785\u001b[0m                                  \u001b[0;34m'hence the notion of \"layer input\" '\u001b[0m\u001b[0;34m\u001b[0m\u001b[0;34m\u001b[0m\u001b[0m\n\u001b[1;32m    786\u001b[0m                                  \u001b[0;34m'is ill-defined. '\u001b[0m\u001b[0;34m\u001b[0m\u001b[0;34m\u001b[0m\u001b[0m\n",
      "\u001b[0;31mAttributeError\u001b[0m: Layer model_1 has multiple inbound nodes, hence the notion of \"layer input\" is ill-defined. Use `get_input_at(node_index)` instead."
     ]
    }
   ],
   "source": [
    "cam, heatmap = grad_cam(model, preprocessed_input, predicted_class, \"block14_sepconv2_act\")"
   ]
  },
  {
   "cell_type": "code",
   "execution_count": 44,
   "metadata": {},
   "outputs": [
    {
     "data": {
      "text/plain": [
       "<tf.Tensor 'Sum:0' shape=() dtype=float32>"
      ]
     },
     "execution_count": 44,
     "metadata": {},
     "output_type": "execute_result"
    }
   ],
   "source": [
    "loss"
   ]
  },
  {
   "cell_type": "code",
   "execution_count": null,
   "metadata": {},
   "outputs": [],
   "source": [
    "[model.layers[0].input]"
   ]
  },
  {
   "cell_type": "code",
   "execution_count": null,
   "metadata": {},
   "outputs": [],
   "source": [
    "visualize_cam(model, layer_idx, filter_indices, seed_input, penultimate_layer_idx=None, \\\n",
    "    backprop_modifier=None, grad_modifier=None)"
   ]
  },
  {
   "cell_type": "code",
   "execution_count": null,
   "metadata": {},
   "outputs": [],
   "source": []
  },
  {
   "cell_type": "code",
   "execution_count": 41,
   "metadata": {},
   "outputs": [],
   "source": [
    "def load_image(path):\n",
    "    from keras.preprocessing import image\n",
    "    import sys\n",
    "    #img_path = sys.argv[1]\n",
    "    img = image.load_img(img_path, target_size=(224, 224))\n",
    "    x = image.img_to_array(img)\n",
    "    x = np.expand_dims(x, axis=0)\n",
    "    #x = preprocess_input(x)\n",
    "    x= x/255\n",
    "    return x\n",
    "img_path='../data/train/False/1.png'\n",
    "preprocessed_input= load_image(img_path)\n",
    "\n",
    "predictions = model.predict(preprocessed_input)\n",
    "#top_1 = decode_predictions(predictions)[0][0]\n",
    "# print('Predicted class:')\n",
    "# print('%s (%s) with probability %.2f' % (top_1[1], top_1[0], top_1[2]))\n",
    "\n",
    "predicted_class = np.argmax(predictions)"
   ]
  },
  {
   "cell_type": "code",
   "execution_count": 143,
   "metadata": {},
   "outputs": [
    {
     "name": "stdout",
     "output_type": "stream",
     "text": [
      "<function grad_cam.<locals>.<lambda> at 0x7f439a8d4f28>\n",
      "_________________________________________________________________\n",
      "Layer (type)                 Output Shape              Param #   \n",
      "=================================================================\n",
      "model_1 (Model)              (None, 2)                 21386538  \n",
      "_________________________________________________________________\n",
      "lambda_7 (Lambda)            (None, 2)                 0         \n",
      "=================================================================\n",
      "Total params: 21,386,538\n",
      "Trainable params: 21,332,010\n",
      "Non-trainable params: 54,528\n",
      "_________________________________________________________________\n"
     ]
    },
    {
     "ename": "IndexError",
     "evalue": "list index out of range",
     "output_type": "error",
     "traceback": [
      "\u001b[0;31m---------------------------------------------------------------------------\u001b[0m",
      "\u001b[0;31mIndexError\u001b[0m                                Traceback (most recent call last)",
      "\u001b[0;32m<ipython-input-143-3fc27fe206ff>\u001b[0m in \u001b[0;36m<module>\u001b[0;34m\u001b[0m\n\u001b[1;32m      5\u001b[0m \u001b[0;34m\u001b[0m\u001b[0m\n\u001b[1;32m      6\u001b[0m \u001b[0mpredicted_class\u001b[0m \u001b[0;34m=\u001b[0m \u001b[0mnp\u001b[0m\u001b[0;34m.\u001b[0m\u001b[0margmax\u001b[0m\u001b[0;34m(\u001b[0m\u001b[0mpredictions\u001b[0m\u001b[0;34m)\u001b[0m\u001b[0;34m\u001b[0m\u001b[0;34m\u001b[0m\u001b[0m\n\u001b[0;32m----> 7\u001b[0;31m \u001b[0mcam\u001b[0m\u001b[0;34m,\u001b[0m \u001b[0mheatmap\u001b[0m \u001b[0;34m=\u001b[0m \u001b[0mgrad_cam\u001b[0m\u001b[0;34m(\u001b[0m\u001b[0mmodel\u001b[0m\u001b[0;34m,\u001b[0m \u001b[0mpreprocessed_input\u001b[0m\u001b[0;34m,\u001b[0m \u001b[0mpredicted_class\u001b[0m\u001b[0;34m,\u001b[0m \u001b[0;34m\"conv2d_4\"\u001b[0m\u001b[0;34m)\u001b[0m\u001b[0;34m\u001b[0m\u001b[0;34m\u001b[0m\u001b[0m\n\u001b[0m",
      "\u001b[0;32m<ipython-input-142-61e5cbc0c783>\u001b[0m in \u001b[0;36mgrad_cam\u001b[0;34m(input_model, image, category_index, layer_name)\u001b[0m\n\u001b[1;32m     21\u001b[0m \u001b[0;34m\u001b[0m\u001b[0m\n\u001b[1;32m     22\u001b[0m     \u001b[0mloss\u001b[0m \u001b[0;34m=\u001b[0m \u001b[0mK\u001b[0m\u001b[0;34m.\u001b[0m\u001b[0msum\u001b[0m\u001b[0;34m(\u001b[0m\u001b[0mmodel\u001b[0m\u001b[0;34m.\u001b[0m\u001b[0mlayers\u001b[0m\u001b[0;34m[\u001b[0m\u001b[0;34m-\u001b[0m\u001b[0;36m1\u001b[0m\u001b[0;34m]\u001b[0m\u001b[0;34m.\u001b[0m\u001b[0moutput\u001b[0m\u001b[0;34m)\u001b[0m\u001b[0;34m\u001b[0m\u001b[0;34m\u001b[0m\u001b[0m\n\u001b[0;32m---> 23\u001b[0;31m     \u001b[0mconv_output\u001b[0m \u001b[0;34m=\u001b[0m  \u001b[0;34m[\u001b[0m\u001b[0ml\u001b[0m \u001b[0;32mfor\u001b[0m \u001b[0ml\u001b[0m \u001b[0;32min\u001b[0m \u001b[0mmodel\u001b[0m\u001b[0;34m.\u001b[0m\u001b[0mlayers\u001b[0m\u001b[0;34m[\u001b[0m\u001b[0;36m0\u001b[0m\u001b[0;34m]\u001b[0m\u001b[0;34m.\u001b[0m\u001b[0mlayers\u001b[0m \u001b[0;32mif\u001b[0m \u001b[0ml\u001b[0m\u001b[0;34m.\u001b[0m\u001b[0mname\u001b[0m \u001b[0;32mis\u001b[0m \u001b[0mlayer_name\u001b[0m\u001b[0;34m]\u001b[0m\u001b[0;34m[\u001b[0m\u001b[0;36m0\u001b[0m\u001b[0;34m]\u001b[0m\u001b[0;34m.\u001b[0m\u001b[0moutput\u001b[0m\u001b[0;34m\u001b[0m\u001b[0;34m\u001b[0m\u001b[0m\n\u001b[0m\u001b[1;32m     24\u001b[0m     \u001b[0mgrads\u001b[0m \u001b[0;34m=\u001b[0m \u001b[0mnormalize\u001b[0m\u001b[0;34m(\u001b[0m\u001b[0mK\u001b[0m\u001b[0;34m.\u001b[0m\u001b[0mgradients\u001b[0m\u001b[0;34m(\u001b[0m\u001b[0mloss\u001b[0m\u001b[0;34m,\u001b[0m \u001b[0mconv_output\u001b[0m\u001b[0;34m)\u001b[0m\u001b[0;34m[\u001b[0m\u001b[0;36m0\u001b[0m\u001b[0;34m]\u001b[0m\u001b[0;34m)\u001b[0m\u001b[0;34m\u001b[0m\u001b[0;34m\u001b[0m\u001b[0m\n\u001b[1;32m     25\u001b[0m     \u001b[0mgradient_function\u001b[0m \u001b[0;34m=\u001b[0m \u001b[0mK\u001b[0m\u001b[0;34m.\u001b[0m\u001b[0mfunction\u001b[0m\u001b[0;34m(\u001b[0m\u001b[0;34m[\u001b[0m\u001b[0mmodel\u001b[0m\u001b[0;34m.\u001b[0m\u001b[0mlayers\u001b[0m\u001b[0;34m[\u001b[0m\u001b[0;36m0\u001b[0m\u001b[0;34m]\u001b[0m\u001b[0;34m.\u001b[0m\u001b[0minput\u001b[0m\u001b[0;34m]\u001b[0m\u001b[0;34m,\u001b[0m \u001b[0;34m[\u001b[0m\u001b[0mconv_output\u001b[0m\u001b[0;34m,\u001b[0m \u001b[0mgrads\u001b[0m\u001b[0;34m]\u001b[0m\u001b[0;34m)\u001b[0m\u001b[0;34m\u001b[0m\u001b[0;34m\u001b[0m\u001b[0m\n",
      "\u001b[0;31mIndexError\u001b[0m: list index out of range"
     ]
    }
   ],
   "source": [
    "predictions = model.predict(preprocessed_input)\n",
    "#top_1 = decode_predictions(predictions)[0][0]\n",
    "# print('Predicted class:')\n",
    "# print('%s (%s) with probability %.2f' % (top_1[1], top_1[0], top_1[2]))\n",
    "\n",
    "predicted_class = np.argmax(predictions)\n",
    "cam, heatmap = grad_cam(model, preprocessed_input, predicted_class, \"conv2d_4\")"
   ]
  },
  {
   "cell_type": "code",
   "execution_count": null,
   "metadata": {},
   "outputs": [],
   "source": []
  },
  {
   "cell_type": "code",
   "execution_count": 136,
   "metadata": {},
   "outputs": [
    {
     "ename": "AttributeError",
     "evalue": "'InputLayer' object has no attribute 'layers'",
     "output_type": "error",
     "traceback": [
      "\u001b[0;31m---------------------------------------------------------------------------\u001b[0m",
      "\u001b[0;31mAttributeError\u001b[0m                            Traceback (most recent call last)",
      "\u001b[0;32m<ipython-input-136-5d0616cf081a>\u001b[0m in \u001b[0;36m<module>\u001b[0;34m\u001b[0m\n\u001b[0;32m----> 1\u001b[0;31m \u001b[0mmodel\u001b[0m\u001b[0;34m.\u001b[0m\u001b[0mlayers\u001b[0m\u001b[0;34m[\u001b[0m\u001b[0;36m0\u001b[0m\u001b[0;34m]\u001b[0m\u001b[0;34m.\u001b[0m\u001b[0mlayers\u001b[0m\u001b[0;34m\u001b[0m\u001b[0;34m\u001b[0m\u001b[0m\n\u001b[0m",
      "\u001b[0;31mAttributeError\u001b[0m: 'InputLayer' object has no attribute 'layers'"
     ]
    }
   ],
   "source": [
    "model.layers[0].layers"
   ]
  },
  {
   "cell_type": "code",
   "execution_count": 116,
   "metadata": {},
   "outputs": [
    {
     "data": {
      "text/plain": [
       "(1, 224, 224, 3)"
      ]
     },
     "execution_count": 116,
     "metadata": {},
     "output_type": "execute_result"
    }
   ],
   "source": [
    "preprocessed_input.shape"
   ]
  },
  {
   "cell_type": "code",
   "execution_count": 113,
   "metadata": {},
   "outputs": [
    {
     "data": {
      "text/plain": [
       "array([[1.0000000e+00, 2.3169738e-14]], dtype=float32)"
      ]
     },
     "execution_count": 113,
     "metadata": {},
     "output_type": "execute_result"
    }
   ],
   "source": [
    "predictions"
   ]
  },
  {
   "cell_type": "code",
   "execution_count": 122,
   "metadata": {},
   "outputs": [
    {
     "data": {
      "text/plain": [
       "0"
      ]
     },
     "execution_count": 122,
     "metadata": {},
     "output_type": "execute_result"
    }
   ],
   "source": [
    "top_1"
   ]
  },
  {
   "cell_type": "code",
   "execution_count": 126,
   "metadata": {},
   "outputs": [
    {
     "ename": "IndentationError",
     "evalue": "unexpected indent (<ipython-input-126-9dde363b5b09>, line 4)",
     "output_type": "error",
     "traceback": [
      "\u001b[0;36m  File \u001b[0;32m\"<ipython-input-126-9dde363b5b09>\"\u001b[0;36m, line \u001b[0;32m4\u001b[0m\n\u001b[0;31m    def on_epoch_end(self, epoch, logs={}):\u001b[0m\n\u001b[0m    ^\u001b[0m\n\u001b[0;31mIndentationError\u001b[0m\u001b[0;31m:\u001b[0m unexpected indent\n"
     ]
    }
   ],
   "source": [
    "predictions = model.predict(X_test)\n",
    "top_1 = decode_predictions(predictions)[0][0]\n",
    "\n",
    "    def on_epoch_end(self, epoch, logs={}):\n",
    "        clear_output(wait=True)\n",
    "        tacc  = logs.get('val_acc')\n",
    "        trainstats.loc[len(trainstats)] = (logs.get('loss'), logs.get('val_loss'), tacc, logs.get('acc')) \n",
    "        confusion_matrix(model, X_test, Y_test, tacc, save=False)\n",
    "\n",
    "\n",
    "\n",
    "pred = model.predict(np.expand_dims(im, 0))\n",
    "\n",
    "# print('Predicted class:')\n",
    "# print('%s (%s) with probability %.2f' % (top_1[1], top_1[0], top_1[2]))\n",
    "\n",
    "# predicted_class = np.argmax(predictions)"
   ]
  },
  {
   "cell_type": "code",
   "execution_count": null,
   "metadata": {},
   "outputs": [],
   "source": [
    "cam, heatmap = grad_cam(model, preprocessed_input, predicted_class, \"block5_conv3\")"
   ]
  },
  {
   "cell_type": "code",
   "execution_count": null,
   "metadata": {},
   "outputs": [],
   "source": []
  },
  {
   "cell_type": "code",
   "execution_count": 105,
   "metadata": {},
   "outputs": [
    {
     "data": {
      "text/plain": [
       "'../data/train/False/1.png'"
      ]
     },
     "execution_count": 105,
     "metadata": {},
     "output_type": "execute_result"
    }
   ],
   "source": [
    "img_path"
   ]
  },
  {
   "cell_type": "code",
   "execution_count": 96,
   "metadata": {},
   "outputs": [
    {
     "data": {
      "text/plain": [
       "(50, 224, 224, 3)"
      ]
     },
     "execution_count": 96,
     "metadata": {},
     "output_type": "execute_result"
    }
   ],
   "source": [
    "X_test.shape"
   ]
  },
  {
   "cell_type": "code",
   "execution_count": 107,
   "metadata": {},
   "outputs": [],
   "source": [
    "def load_image(path):\n",
    "    from keras.preprocessing import image\n",
    "    import sys\n",
    "    #img_path = sys.argv[1]\n",
    "    img = image.load_img(img_path, target_size=(224, 224))\n",
    "    x = image.img_to_array(img)\n",
    "    x = np.expand_dims(x, axis=0)\n",
    "    #x = preprocess_input(x)\n",
    "    x= x/255\n",
    "    return x\n",
    "\n",
    "img_cam= load_image(img_path)"
   ]
  },
  {
   "cell_type": "code",
   "execution_count": null,
   "metadata": {},
   "outputs": [],
   "source": []
  },
  {
   "cell_type": "code",
   "execution_count": null,
   "metadata": {},
   "outputs": [],
   "source": []
  },
  {
   "cell_type": "code",
   "execution_count": null,
   "metadata": {},
   "outputs": [],
   "source": []
  },
  {
   "cell_type": "code",
   "execution_count": null,
   "metadata": {},
   "outputs": [],
   "source": []
  },
  {
   "cell_type": "code",
   "execution_count": null,
   "metadata": {},
   "outputs": [],
   "source": []
  },
  {
   "cell_type": "code",
   "execution_count": 38,
   "metadata": {},
   "outputs": [],
   "source": [
    "def visualize_class_activation_map(model_path, img_path, output_path):\n",
    "    from keras.models import load_model\n",
    "    from keras import model\n",
    "    model = model#load_model(model_path)\n",
    "    original_img = cv2.imread(img_path, 1)\n",
    "    width, height, _ = original_img.shape\n",
    "\n",
    "    #Reshape to the network input shape (3, w, h).\n",
    "    img = np.array([np.transpose(np.float32(original_img), (2, 0, 1))])\n",
    "\n",
    "    #Get the 512 input weights to the softmax.\n",
    "    class_weights = model.layers[-1].get_weights()[0]\n",
    "    final_conv_layer = get_output_layer(model, \"block14_sepconv2_act\")#get_output_layer(model, \"block14_sepconv2_act\") #changed\n",
    "    get_output = K.function([model.layers[0].input], \\\n",
    "                [final_conv_layer.output, \n",
    "    model.layers[-1].output])\n",
    "    \n",
    "    [conv_outputs, predictions] = get_output([img])\n",
    "    #[conv_outputs, predictions] = model.output([img])#get_output([img])\n",
    "    conv_outputs = conv_outputs[0, :, :, :]\n",
    "\n",
    "    #Create the class activation map.\n",
    "    cam = np.zeros(dtype = np.float32, shape = conv_outputs.shape[1:3])\n",
    "    target_class = 1\n",
    "    for i, w in enumerate(class_weights[:, target_class]):\n",
    "            cam += w * conv_outputs[i, :, :]"
   ]
  },
  {
   "cell_type": "code",
   "execution_count": 56,
   "metadata": {},
   "outputs": [],
   "source": [
    "model= model\n",
    "img_path='../data/train/False/1.png'\n",
    "origional_img=cv2.imread(img_path,1)\n",
    "original_img = cv2.imread(img_path, 1)\n",
    "width, height, _ = original_img.shape\n",
    "\n",
    "#Reshape to the network input shape (3, w, h).\n",
    "img = np.array([np.transpose(np.float32(original_img), (2, 0, 1))]) #(224, 224, 3)\n",
    "class_weights = model.layers[-1].get_weights()[0]\n",
    "\n",
    "final_conv_layer = get_output_layer(model, \"block14_sepconv2_act\")#get_output_layer(model, \"block14_sepconv2_act\") #changed #<tf.Tensor 'block14_sepconv2_act/Relu:0' shape=(?, ?, ?, 2048) dtype=float32>\n"
   ]
  },
  {
   "cell_type": "code",
   "execution_count": null,
   "metadata": {},
   "outputs": [],
   "source": []
  },
  {
   "cell_type": "code",
   "execution_count": 74,
   "metadata": {},
   "outputs": [],
   "source": [
    "get_output = K.function(\n",
    "    [model.layers[0].input], #[<tf.Tensor 'input_1:0' shape=(?, ?, ?, 3) dtype=float32>]\n",
    "    [final_conv_layer.output, #[<tf.Tensor 'block14_sepconv2_act/Relu:0' shape=(?, ?, ?, 2048) dtype=float32>\n",
    "     model.layers[-1].output] # <tf.Tensor 'dense_2/Softmax:0' shape=(?, 2) dtype=float32>\n",
    ")"
   ]
  },
  {
   "cell_type": "code",
   "execution_count": 86,
   "metadata": {},
   "outputs": [
    {
     "ename": "InvalidArgumentError",
     "evalue": "transpose expects a vector of size 3. But input(1) is a vector of size 4\n\t [[{{node block1_conv1/convolution-0-TransposeNHWCToNCHW-LayoutOptimizer}}]]\n\t [[{{node dense_2/Softmax}}]]",
     "output_type": "error",
     "traceback": [
      "\u001b[0;31m---------------------------------------------------------------------------\u001b[0m",
      "\u001b[0;31mInvalidArgumentError\u001b[0m                      Traceback (most recent call last)",
      "\u001b[0;32m<ipython-input-86-d60128e02007>\u001b[0m in \u001b[0;36m<module>\u001b[0;34m\u001b[0m\n\u001b[0;32m----> 1\u001b[0;31m \u001b[0mget_output\u001b[0m\u001b[0;34m(\u001b[0m\u001b[0;34m[\u001b[0m\u001b[0mimg\u001b[0m\u001b[0;34m]\u001b[0m\u001b[0;34m)\u001b[0m\u001b[0;34m\u001b[0m\u001b[0;34m\u001b[0m\u001b[0m\n\u001b[0m",
      "\u001b[0;32m~/.conda/envs/tf_gpu2/lib/python3.7/site-packages/keras/backend/tensorflow_backend.py\u001b[0m in \u001b[0;36m__call__\u001b[0;34m(self, inputs)\u001b[0m\n\u001b[1;32m   2713\u001b[0m                 \u001b[0;32mreturn\u001b[0m \u001b[0mself\u001b[0m\u001b[0;34m.\u001b[0m\u001b[0m_legacy_call\u001b[0m\u001b[0;34m(\u001b[0m\u001b[0minputs\u001b[0m\u001b[0;34m)\u001b[0m\u001b[0;34m\u001b[0m\u001b[0;34m\u001b[0m\u001b[0m\n\u001b[1;32m   2714\u001b[0m \u001b[0;34m\u001b[0m\u001b[0m\n\u001b[0;32m-> 2715\u001b[0;31m             \u001b[0;32mreturn\u001b[0m \u001b[0mself\u001b[0m\u001b[0;34m.\u001b[0m\u001b[0m_call\u001b[0m\u001b[0;34m(\u001b[0m\u001b[0minputs\u001b[0m\u001b[0;34m)\u001b[0m\u001b[0;34m\u001b[0m\u001b[0;34m\u001b[0m\u001b[0m\n\u001b[0m\u001b[1;32m   2716\u001b[0m         \u001b[0;32melse\u001b[0m\u001b[0;34m:\u001b[0m\u001b[0;34m\u001b[0m\u001b[0;34m\u001b[0m\u001b[0m\n\u001b[1;32m   2717\u001b[0m             \u001b[0;32mif\u001b[0m \u001b[0mpy_any\u001b[0m\u001b[0;34m(\u001b[0m\u001b[0mis_tensor\u001b[0m\u001b[0;34m(\u001b[0m\u001b[0mx\u001b[0m\u001b[0;34m)\u001b[0m \u001b[0;32mfor\u001b[0m \u001b[0mx\u001b[0m \u001b[0;32min\u001b[0m \u001b[0minputs\u001b[0m\u001b[0;34m)\u001b[0m\u001b[0;34m:\u001b[0m\u001b[0;34m\u001b[0m\u001b[0;34m\u001b[0m\u001b[0m\n",
      "\u001b[0;32m~/.conda/envs/tf_gpu2/lib/python3.7/site-packages/keras/backend/tensorflow_backend.py\u001b[0m in \u001b[0;36m_call\u001b[0;34m(self, inputs)\u001b[0m\n\u001b[1;32m   2673\u001b[0m             \u001b[0mfetched\u001b[0m \u001b[0;34m=\u001b[0m \u001b[0mself\u001b[0m\u001b[0;34m.\u001b[0m\u001b[0m_callable_fn\u001b[0m\u001b[0;34m(\u001b[0m\u001b[0;34m*\u001b[0m\u001b[0marray_vals\u001b[0m\u001b[0;34m,\u001b[0m \u001b[0mrun_metadata\u001b[0m\u001b[0;34m=\u001b[0m\u001b[0mself\u001b[0m\u001b[0;34m.\u001b[0m\u001b[0mrun_metadata\u001b[0m\u001b[0;34m)\u001b[0m\u001b[0;34m\u001b[0m\u001b[0;34m\u001b[0m\u001b[0m\n\u001b[1;32m   2674\u001b[0m         \u001b[0;32melse\u001b[0m\u001b[0;34m:\u001b[0m\u001b[0;34m\u001b[0m\u001b[0;34m\u001b[0m\u001b[0m\n\u001b[0;32m-> 2675\u001b[0;31m             \u001b[0mfetched\u001b[0m \u001b[0;34m=\u001b[0m \u001b[0mself\u001b[0m\u001b[0;34m.\u001b[0m\u001b[0m_callable_fn\u001b[0m\u001b[0;34m(\u001b[0m\u001b[0;34m*\u001b[0m\u001b[0marray_vals\u001b[0m\u001b[0;34m)\u001b[0m\u001b[0;34m\u001b[0m\u001b[0;34m\u001b[0m\u001b[0m\n\u001b[0m\u001b[1;32m   2676\u001b[0m         \u001b[0;32mreturn\u001b[0m \u001b[0mfetched\u001b[0m\u001b[0;34m[\u001b[0m\u001b[0;34m:\u001b[0m\u001b[0mlen\u001b[0m\u001b[0;34m(\u001b[0m\u001b[0mself\u001b[0m\u001b[0;34m.\u001b[0m\u001b[0moutputs\u001b[0m\u001b[0;34m)\u001b[0m\u001b[0;34m]\u001b[0m\u001b[0;34m\u001b[0m\u001b[0;34m\u001b[0m\u001b[0m\n\u001b[1;32m   2677\u001b[0m \u001b[0;34m\u001b[0m\u001b[0m\n",
      "\u001b[0;32m~/.conda/envs/tf_gpu2/lib/python3.7/site-packages/tensorflow/python/client/session.py\u001b[0m in \u001b[0;36m__call__\u001b[0;34m(self, *args, **kwargs)\u001b[0m\n\u001b[1;32m   1437\u001b[0m           ret = tf_session.TF_SessionRunCallable(\n\u001b[1;32m   1438\u001b[0m               \u001b[0mself\u001b[0m\u001b[0;34m.\u001b[0m\u001b[0m_session\u001b[0m\u001b[0;34m.\u001b[0m\u001b[0m_session\u001b[0m\u001b[0;34m,\u001b[0m \u001b[0mself\u001b[0m\u001b[0;34m.\u001b[0m\u001b[0m_handle\u001b[0m\u001b[0;34m,\u001b[0m \u001b[0margs\u001b[0m\u001b[0;34m,\u001b[0m \u001b[0mstatus\u001b[0m\u001b[0;34m,\u001b[0m\u001b[0;34m\u001b[0m\u001b[0;34m\u001b[0m\u001b[0m\n\u001b[0;32m-> 1439\u001b[0;31m               run_metadata_ptr)\n\u001b[0m\u001b[1;32m   1440\u001b[0m         \u001b[0;32mif\u001b[0m \u001b[0mrun_metadata\u001b[0m\u001b[0;34m:\u001b[0m\u001b[0;34m\u001b[0m\u001b[0;34m\u001b[0m\u001b[0m\n\u001b[1;32m   1441\u001b[0m           \u001b[0mproto_data\u001b[0m \u001b[0;34m=\u001b[0m \u001b[0mtf_session\u001b[0m\u001b[0;34m.\u001b[0m\u001b[0mTF_GetBuffer\u001b[0m\u001b[0;34m(\u001b[0m\u001b[0mrun_metadata_ptr\u001b[0m\u001b[0;34m)\u001b[0m\u001b[0;34m\u001b[0m\u001b[0;34m\u001b[0m\u001b[0m\n",
      "\u001b[0;32m~/.conda/envs/tf_gpu2/lib/python3.7/site-packages/tensorflow/python/framework/errors_impl.py\u001b[0m in \u001b[0;36m__exit__\u001b[0;34m(self, type_arg, value_arg, traceback_arg)\u001b[0m\n\u001b[1;32m    526\u001b[0m             \u001b[0;32mNone\u001b[0m\u001b[0;34m,\u001b[0m \u001b[0;32mNone\u001b[0m\u001b[0;34m,\u001b[0m\u001b[0;34m\u001b[0m\u001b[0;34m\u001b[0m\u001b[0m\n\u001b[1;32m    527\u001b[0m             \u001b[0mcompat\u001b[0m\u001b[0;34m.\u001b[0m\u001b[0mas_text\u001b[0m\u001b[0;34m(\u001b[0m\u001b[0mc_api\u001b[0m\u001b[0;34m.\u001b[0m\u001b[0mTF_Message\u001b[0m\u001b[0;34m(\u001b[0m\u001b[0mself\u001b[0m\u001b[0;34m.\u001b[0m\u001b[0mstatus\u001b[0m\u001b[0;34m.\u001b[0m\u001b[0mstatus\u001b[0m\u001b[0;34m)\u001b[0m\u001b[0;34m)\u001b[0m\u001b[0;34m,\u001b[0m\u001b[0;34m\u001b[0m\u001b[0;34m\u001b[0m\u001b[0m\n\u001b[0;32m--> 528\u001b[0;31m             c_api.TF_GetCode(self.status.status))\n\u001b[0m\u001b[1;32m    529\u001b[0m     \u001b[0;31m# Delete the underlying status object from memory otherwise it stays alive\u001b[0m\u001b[0;34m\u001b[0m\u001b[0;34m\u001b[0m\u001b[0;34m\u001b[0m\u001b[0m\n\u001b[1;32m    530\u001b[0m     \u001b[0;31m# as there is a reference to status from this from the traceback due to\u001b[0m\u001b[0;34m\u001b[0m\u001b[0;34m\u001b[0m\u001b[0;34m\u001b[0m\u001b[0m\n",
      "\u001b[0;31mInvalidArgumentError\u001b[0m: transpose expects a vector of size 3. But input(1) is a vector of size 4\n\t [[{{node block1_conv1/convolution-0-TransposeNHWCToNCHW-LayoutOptimizer}}]]\n\t [[{{node dense_2/Softmax}}]]"
     ]
    }
   ],
   "source": [
    "get_output([img])"
   ]
  },
  {
   "cell_type": "code",
   "execution_count": 87,
   "metadata": {},
   "outputs": [
    {
     "data": {
      "text/plain": [
       "(224, 224, 3)"
      ]
     },
     "execution_count": 87,
     "metadata": {},
     "output_type": "execute_result"
    }
   ],
   "source": [
    "img.shape"
   ]
  },
  {
   "cell_type": "code",
   "execution_count": 80,
   "metadata": {},
   "outputs": [
    {
     "data": {
      "text/plain": [
       "<tf.Tensor 'block14_sepconv2_act/Relu:0' shape=(?, ?, ?, 2048) dtype=float32>"
      ]
     },
     "execution_count": 80,
     "metadata": {},
     "output_type": "execute_result"
    }
   ],
   "source": [
    "#get_output([3,])\n",
    "#[model.layers[0].input]\n",
    "final_conv_layer.output"
   ]
  },
  {
   "cell_type": "code",
   "execution_count": 81,
   "metadata": {},
   "outputs": [
    {
     "data": {
      "text/plain": [
       "<tf.Tensor 'dense_2/Softmax:0' shape=(?, 2) dtype=float32>"
      ]
     },
     "execution_count": 81,
     "metadata": {},
     "output_type": "execute_result"
    }
   ],
   "source": [
    "model.layers[-1].output"
   ]
  },
  {
   "cell_type": "code",
   "execution_count": 69,
   "metadata": {},
   "outputs": [],
   "source": [
    "def get_output_layer(model, layer_name):\n",
    "    # get the symbolic outputs of each \"key\" layer (we gave them unique names).\n",
    "    layer_dict = dict([(layer.name, layer) for layer in model.layers])\n",
    "    layer = layer_dict[layer_name]\n",
    "    return layer"
   ]
  },
  {
   "cell_type": "code",
   "execution_count": 72,
   "metadata": {},
   "outputs": [
    {
     "data": {
      "text/plain": [
       "<keras.layers.core.Activation at 0x7f43b6ad5400>"
      ]
     },
     "execution_count": 72,
     "metadata": {},
     "output_type": "execute_result"
    }
   ],
   "source": [
    "final_conv_layer"
   ]
  },
  {
   "cell_type": "code",
   "execution_count": 83,
   "metadata": {},
   "outputs": [
    {
     "data": {
      "text/plain": [
       "[array([[[0., 0., 0., ..., 0., 0., 0.],\n",
       "         [0., 0., 0., ..., 0., 0., 0.],\n",
       "         [0., 0., 0., ..., 0., 0., 0.],\n",
       "         ...,\n",
       "         [0., 0., 0., ..., 0., 0., 0.],\n",
       "         [0., 0., 0., ..., 0., 0., 0.],\n",
       "         [0., 0., 0., ..., 0., 0., 0.]],\n",
       " \n",
       "        [[0., 0., 0., ..., 0., 0., 0.],\n",
       "         [0., 0., 0., ..., 0., 0., 0.],\n",
       "         [0., 0., 0., ..., 0., 0., 0.],\n",
       "         ...,\n",
       "         [0., 0., 0., ..., 0., 0., 0.],\n",
       "         [0., 0., 0., ..., 0., 0., 0.],\n",
       "         [0., 0., 0., ..., 0., 0., 0.]],\n",
       " \n",
       "        [[0., 0., 0., ..., 0., 0., 0.],\n",
       "         [0., 0., 0., ..., 0., 0., 0.],\n",
       "         [0., 0., 0., ..., 0., 0., 0.],\n",
       "         ...,\n",
       "         [0., 0., 0., ..., 0., 0., 0.],\n",
       "         [0., 0., 0., ..., 0., 0., 0.],\n",
       "         [0., 0., 0., ..., 0., 0., 0.]]], dtype=float32)]"
      ]
     },
     "execution_count": 83,
     "metadata": {},
     "output_type": "execute_result"
    }
   ],
   "source": [
    "[np.transpose(np.float32(original_img), (2, 0, 1))]"
   ]
  },
  {
   "cell_type": "code",
   "execution_count": 84,
   "metadata": {},
   "outputs": [
    {
     "data": {
      "text/plain": [
       "array([[[0., 0., 0.],\n",
       "        [0., 0., 0.],\n",
       "        [0., 0., 0.],\n",
       "        ...,\n",
       "        [0., 0., 0.],\n",
       "        [0., 0., 0.],\n",
       "        [0., 0., 0.]],\n",
       "\n",
       "       [[0., 0., 0.],\n",
       "        [0., 0., 0.],\n",
       "        [0., 0., 0.],\n",
       "        ...,\n",
       "        [0., 0., 0.],\n",
       "        [0., 0., 0.],\n",
       "        [0., 0., 0.]],\n",
       "\n",
       "       [[0., 0., 0.],\n",
       "        [0., 0., 0.],\n",
       "        [0., 0., 0.],\n",
       "        ...,\n",
       "        [0., 0., 0.],\n",
       "        [0., 0., 0.],\n",
       "        [0., 0., 0.]],\n",
       "\n",
       "       ...,\n",
       "\n",
       "       [[0., 0., 0.],\n",
       "        [0., 0., 0.],\n",
       "        [0., 0., 0.],\n",
       "        ...,\n",
       "        [0., 0., 0.],\n",
       "        [0., 0., 0.],\n",
       "        [0., 0., 0.]],\n",
       "\n",
       "       [[0., 0., 0.],\n",
       "        [0., 0., 0.],\n",
       "        [0., 0., 0.],\n",
       "        ...,\n",
       "        [0., 0., 0.],\n",
       "        [0., 0., 0.],\n",
       "        [0., 0., 0.]],\n",
       "\n",
       "       [[0., 0., 0.],\n",
       "        [0., 0., 0.],\n",
       "        [0., 0., 0.],\n",
       "        ...,\n",
       "        [0., 0., 0.],\n",
       "        [0., 0., 0.],\n",
       "        [0., 0., 0.]]], dtype=float32)"
      ]
     },
     "execution_count": 84,
     "metadata": {},
     "output_type": "execute_result"
    }
   ],
   "source": [
    "img"
   ]
  },
  {
   "cell_type": "code",
   "execution_count": 75,
   "metadata": {},
   "outputs": [
    {
     "ename": "TypeError",
     "evalue": "'Tensor' object is not callable",
     "output_type": "error",
     "traceback": [
      "\u001b[0;31m---------------------------------------------------------------------------\u001b[0m",
      "\u001b[0;31mTypeError\u001b[0m                                 Traceback (most recent call last)",
      "\u001b[0;32m<ipython-input-75-6bb1cded5238>\u001b[0m in \u001b[0;36m<module>\u001b[0;34m\u001b[0m\n\u001b[0;32m----> 1\u001b[0;31m \u001b[0;34m[\u001b[0m\u001b[0mconv_outputs\u001b[0m\u001b[0;34m,\u001b[0m \u001b[0mpredictions\u001b[0m\u001b[0;34m]\u001b[0m \u001b[0;34m=\u001b[0m \u001b[0mmodel\u001b[0m\u001b[0;34m.\u001b[0m\u001b[0moutput\u001b[0m\u001b[0;34m(\u001b[0m\u001b[0;34m[\u001b[0m\u001b[0mimg\u001b[0m\u001b[0;34m]\u001b[0m\u001b[0;34m)\u001b[0m\u001b[0;34m\u001b[0m\u001b[0;34m\u001b[0m\u001b[0m\n\u001b[0m",
      "\u001b[0;31mTypeError\u001b[0m: 'Tensor' object is not callable"
     ]
    }
   ],
   "source": [
    "[conv_outputs, predictions] = model.output([img])"
   ]
  },
  {
   "cell_type": "code",
   "execution_count": 45,
   "metadata": {},
   "outputs": [
    {
     "ename": "AttributeError",
     "evalue": "'Model' object has no attribute 'get_input'",
     "output_type": "error",
     "traceback": [
      "\u001b[0;31m---------------------------------------------------------------------------\u001b[0m",
      "\u001b[0;31mAttributeError\u001b[0m                            Traceback (most recent call last)",
      "\u001b[0;32m<ipython-input-45-949a0f607ad1>\u001b[0m in \u001b[0;36m<module>\u001b[0;34m\u001b[0m\n\u001b[1;32m      7\u001b[0m model.layers[-1].output])\n\u001b[1;32m      8\u001b[0m \u001b[0;34m\u001b[0m\u001b[0m\n\u001b[0;32m----> 9\u001b[0;31m \u001b[0mconvout1_f\u001b[0m \u001b[0;34m=\u001b[0m \u001b[0mtheano\u001b[0m\u001b[0;34m.\u001b[0m\u001b[0mfunction\u001b[0m\u001b[0;34m(\u001b[0m\u001b[0;34m[\u001b[0m\u001b[0mmodel\u001b[0m\u001b[0;34m.\u001b[0m\u001b[0mget_input\u001b[0m\u001b[0;34m(\u001b[0m\u001b[0mtrain\u001b[0m\u001b[0;34m=\u001b[0m\u001b[0;32mFalse\u001b[0m\u001b[0;34m)\u001b[0m\u001b[0;34m]\u001b[0m\u001b[0;34m,\u001b[0m \u001b[0mconvout1\u001b[0m\u001b[0;34m.\u001b[0m\u001b[0mget_output\u001b[0m\u001b[0;34m(\u001b[0m\u001b[0mtrain\u001b[0m\u001b[0;34m=\u001b[0m\u001b[0;32mFalse\u001b[0m\u001b[0;34m)\u001b[0m\u001b[0;34m)\u001b[0m\u001b[0;34m\u001b[0m\u001b[0;34m\u001b[0m\u001b[0m\n\u001b[0m\u001b[1;32m     10\u001b[0m \u001b[0;34m\u001b[0m\u001b[0m\n\u001b[1;32m     11\u001b[0m \u001b[0;34m[\u001b[0m\u001b[0mconv_outputs\u001b[0m\u001b[0;34m,\u001b[0m \u001b[0mpredictions\u001b[0m\u001b[0;34m]\u001b[0m \u001b[0;34m=\u001b[0m \u001b[0mget_output\u001b[0m\u001b[0;34m(\u001b[0m\u001b[0;34m[\u001b[0m\u001b[0mimg\u001b[0m\u001b[0;34m]\u001b[0m\u001b[0;34m)\u001b[0m\u001b[0;34m\u001b[0m\u001b[0;34m\u001b[0m\u001b[0m\n",
      "\u001b[0;31mAttributeError\u001b[0m: 'Model' object has no attribute 'get_input'"
     ]
    }
   ],
   "source": [
    "model_save= model\n",
    "\n",
    "class_weights = model.layers[-1].get_weights()[0]\n",
    "final_conv_layer = get_output_layer(model, \"block14_sepconv2_act\")\n",
    "get_output = K.function([model.layers[0].input], \\\n",
    "            [final_conv_layer.output, \n",
    "model.layers[-1].output])\n",
    "\n",
    "convout1_f = theano.function([model.get_input(train=False)], convout1.get_output(train=False))\n",
    "\n",
    "[conv_outputs, predictions] = get_output([img])\n",
    "conv_outputs = conv_outputs[0, :, :, :]"
   ]
  },
  {
   "cell_type": "code",
   "execution_count": 42,
   "metadata": {},
   "outputs": [
    {
     "data": {
      "text/plain": [
       "<keras.layers.core.Activation at 0x7f43b6ad5400>"
      ]
     },
     "execution_count": 42,
     "metadata": {},
     "output_type": "execute_result"
    }
   ],
   "source": [
    "final_conv_layer"
   ]
  },
  {
   "cell_type": "code",
   "execution_count": 49,
   "metadata": {},
   "outputs": [
    {
     "ename": "NameError",
     "evalue": "name 'layer' is not defined",
     "output_type": "error",
     "traceback": [
      "\u001b[0;31m---------------------------------------------------------------------------\u001b[0m",
      "\u001b[0;31mNameError\u001b[0m                                 Traceback (most recent call last)",
      "\u001b[0;32m<ipython-input-49-3140d7e5a1a6>\u001b[0m in \u001b[0;36m<module>\u001b[0;34m\u001b[0m\n\u001b[0;32m----> 1\u001b[0;31m \u001b[0mlayer\u001b[0m\u001b[0;34m.\u001b[0m\u001b[0moutput\u001b[0m\u001b[0;34m\u001b[0m\u001b[0;34m\u001b[0m\u001b[0m\n\u001b[0m",
      "\u001b[0;31mNameError\u001b[0m: name 'layer' is not defined"
     ]
    }
   ],
   "source": [
    "layer.output"
   ]
  },
  {
   "cell_type": "code",
   "execution_count": 50,
   "metadata": {},
   "outputs": [
    {
     "data": {
      "text/plain": [
       "<keras.layers.core.Activation at 0x7f43b6ad5400>"
      ]
     },
     "execution_count": 50,
     "metadata": {},
     "output_type": "execute_result"
    }
   ],
   "source": [
    "final_conv_layer"
   ]
  },
  {
   "cell_type": "code",
   "execution_count": 40,
   "metadata": {},
   "outputs": [],
   "source": [
    "def get_output_layer(model, layer_name):\n",
    "    # get the symbolic outputs of each \"key\" layer (we gave them unique names).\n",
    "    layer_dict = dict([(layer.name, layer) for layer in model.layers])\n",
    "    layer = layer_dict[layer_name]\n",
    "    return layer"
   ]
  },
  {
   "cell_type": "code",
   "execution_count": 46,
   "metadata": {},
   "outputs": [
    {
     "data": {
      "text/plain": [
       "(1, 3, 400, 400)"
      ]
     },
     "execution_count": 46,
     "metadata": {},
     "output_type": "execute_result"
    }
   ],
   "source": [
    "test_img=cv2.imread('../data/train/False/1.png', 1)\n",
    "test_img.shape\n",
    "img = np.array([np.transpose(np.float32(test_img), (2, 0, 1))])\n",
    "img.shape"
   ]
  },
  {
   "cell_type": "code",
   "execution_count": null,
   "metadata": {},
   "outputs": [],
   "source": [
    "visualize_class_activation_map(modelid, '../data/train/False/1.png', '../data/')"
   ]
  },
  {
   "cell_type": "code",
   "execution_count": 112,
   "metadata": {},
   "outputs": [
    {
     "name": "stdout",
     "output_type": "stream",
     "text": [
      "Confusion Matrix\n"
     ]
    },
    {
     "data": {
      "image/png": "[encoded data removed]",
      "text/plain": [
       "<Figure size 432x288 with 2 Axes>"
      ]
     },
     "metadata": {},
     "output_type": "display_data"
    },
    {
     "data": {
      "image/png": "[encoded data removed]",
      "text/plain": [
       "<Figure size 432x288 with 1 Axes>"
      ]
     },
     "metadata": {},
     "output_type": "display_data"
    },
    {
     "data": {
      "image/png": "[encoded data removed]",
      "text/plain": [
       "<Figure size 720x432 with 2 Axes>"
      ]
     },
     "metadata": {},
     "output_type": "display_data"
    },
    {
     "data": {
      "image/png": "[encoded data removed]",
      "text/plain": [
       "<Figure size 432x288 with 1 Axes>"
      ]
     },
     "metadata": {},
     "output_type": "display_data"
    },
    {
     "data": {
      "image/png": "[encoded data removed]",
      "text/plain": [
       "<Figure size 1440x360 with 6 Axes>"
      ]
     },
     "metadata": {},
     "output_type": "display_data"
    },
    {
     "name": "stdout",
     "output_type": "stream",
     "text": [
      "Actual: True(1)\n",
      "    predicted:       True(1), confidence=1.00 [**********]\n",
      "    predicted:      False(0), confidence=0.00 [          ]\n",
      "Total training time: 14.71 min, epoch: 50\n",
      "Average time per epoch: 17.65 s\n"
     ]
    }
   ],
   "source": [
    "#%% Training code\n",
    "##transfer learning\n",
    "from IPython.display import clear_output\n",
    "\n",
    "tm = time.time()\n",
    "trainstats = pd.DataFrame(columns=('Train loss', 'Test loss', 'Accuracy', 'Train accuracy'))\n",
    "epochs=50 ####change\n",
    "\n",
    "from keras.callbacks import Callback\n",
    "\n",
    "loss = model.fit_generator(\n",
    "    train_generator,\n",
    "    steps_per_epoch=int(len(train_generator.filenames)/batch_size),\n",
    "    validation_data=(X_test, Y_test),\n",
    "    validation_steps=1,\n",
    "    verbose=1, epochs=epochs,\n",
    "    use_multiprocessing=True,\n",
    "    workers=4,\n",
    "    callbacks=[VizTraining()]\n",
    ")"
   ]
  },
  {
   "cell_type": "code",
   "execution_count": 113,
   "metadata": {},
   "outputs": [
    {
     "data": {
      "text/plain": [
       "<keras.callbacks.History at 0x7fe3d75bef98>"
      ]
     },
     "execution_count": 113,
     "metadata": {},
     "output_type": "execute_result"
    }
   ],
   "source": [
    "# loss"
   ]
  },
  {
   "cell_type": "code",
   "execution_count": 141,
   "metadata": {},
   "outputs": [
    {
     "ename": "NameError",
     "evalue": "name 'loss' is not defined",
     "output_type": "error",
     "traceback": [
      "\u001b[0;31m---------------------------------------------------------------------------\u001b[0m",
      "\u001b[0;31mNameError\u001b[0m                                 Traceback (most recent call last)",
      "\u001b[0;32m<ipython-input-141-de191f53719d>\u001b[0m in \u001b[0;36m<module>\u001b[0;34m\u001b[0m\n\u001b[0;32m----> 1\u001b[0;31m \u001b[0mloss\u001b[0m\u001b[0;34m\u001b[0m\u001b[0;34m\u001b[0m\u001b[0m\n\u001b[0m",
      "\u001b[0;31mNameError\u001b[0m: name 'loss' is not defined"
     ]
    }
   ],
   "source": [
    "loss"
   ]
  },
  {
   "cell_type": "code",
   "execution_count": null,
   "metadata": {},
   "outputs": [],
   "source": []
  },
  {
   "cell_type": "markdown",
   "metadata": {},
   "source": [
    "# working heatmap"
   ]
  },
  {
   "cell_type": "code",
   "execution_count": null,
   "metadata": {},
   "outputs": [],
   "source": []
  },
  {
   "cell_type": "code",
   "execution_count": 38,
   "metadata": {},
   "outputs": [],
   "source": [
    "##### Author: Yanrong Ji, Yucheng Zhu, Sharon Zhang, Claudia Xu #####\n",
    "\n",
    "import os\n",
    "import cv2\n",
    "import sys\n",
    "import glob\n",
    "import math\n",
    "import tempfile\n",
    "import argparse\n",
    "import numpy as np\n",
    "import pandas as pd\n",
    "from PIL import Image\n",
    "from PIL import ImageFile\n",
    "import matplotlib.pyplot as plt\n",
    "import matplotlib.image as mpimg\n",
    "\n",
    "\n",
    "import tensorflow as tf\n",
    "from tensorflow import keras\n",
    "import tensorflow.keras.backend as K\n",
    "from tensorflow.keras.models import *\n",
    "from tensorflow.keras import activations\n",
    "from tensorflow.keras import optimizers\n",
    "from tensorflow.keras.callbacks import *\n",
    "from tensorflow.keras.preprocessing import image\n",
    "from tensorflow.keras.utils import to_categorical\n",
    "from tensorflow.python.keras.optimizers import Adam\n",
    "from tensorflow.keras.layers import Dense,Input,Flatten, Dropout\n",
    "from tensorflow.keras.preprocessing.image import ImageDataGenerator\n",
    "from tensorflow.python.keras.applications.inception_resnet_v2 import InceptionResNetV2, preprocess_input, decode_predictions\n",
    "\n",
    "ImageFile.LOAD_TRUNCATED_IMAGES = True\n",
    "os.environ[\"KMP_DUPLICATE_LIB_OK\"]=\"TRUE\"\n",
    "os.environ[\"CUDA_VISIBLE_DEVICES\"]=\"-1\" # do not use gpu\n",
    "os.environ['TF_CPP_MIN_LOG_LEVEL'] =\"3\" # Supress tensorflow warning\n",
    "\n",
    "# # Fix tensorflow GPU allocation\n",
    "# #%% GPU memory fix\n",
    "# def get_session(gpu_fraction=0.5):    \n",
    "#     gpu_options = tf.GPUOptions(per_process_gpu_memory_fraction=gpu_fraction, allow_growth=True)    \n",
    "#     return tf.Session(config=tf.ConfigProto(gpu_options=gpu_options))\n",
    "# keras.backend.set_session(get_session())\n",
    "\n",
    "# # Qucik check if it is using GPU\n",
    "# from tensorflow.python.client import device_lib\n",
    "# def get_available_gpus():\n",
    "#     local_device_protos = device_lib.list_local_devices()\n",
    "#     return [x.name for x in local_device_protos if x.device_type == 'GPU']\n",
    "     \n",
    "\n",
    "# print(\"Tensorflow Version:\", tf.__version__)\n",
    "# print(tf.keras.__version__)\n",
    "# print(get_available_gpus())\n",
    "\n",
    "\n",
    "\n",
    "def find_layer_idx(model, layer_name):\n",
    "    \"\"\"Looks up the layer index corresponding to `layer_name` from `model`.\n",
    "    Args:\n",
    "        model: The `keras.models.Model` instance.\n",
    "        layer_name: The name of the layer to lookup.\n",
    "    Returns:\n",
    "        The layer index if found. Raises an exception otherwise.\n",
    "    \"\"\"\n",
    "    layer_idx = None\n",
    "    for idx, layer in enumerate(model.layers):\n",
    "        if layer.name == layer_name:\n",
    "            layer_idx = idx\n",
    "            break\n",
    "\n",
    "    if layer_idx is None:\n",
    "        raise ValueError(\"No layer with name '{}' within the model\".format(layer_name))\n",
    "    return layer_idx\n",
    "\n",
    "def apply_modifications(model, custom_objects=None):\n",
    "    \"\"\"Applies modifications to the model layers to create a new Graph. For example, simply changing\n",
    "    `model.layers[idx].activation = new activation` does not change the graph. The entire graph needs to be updated\n",
    "    with modified inbound and outbound tensors because of change in layer building function.\n",
    "    Args:\n",
    "        model: The `keras.models.Model` instance.\n",
    "    Returns:\n",
    "        The modified model with changes applied. Does not mutate the original `model`.\n",
    "    \"\"\"\n",
    "    # The strategy is to save the modified model and load it back. This is done because setting the activation\n",
    "    # in a Keras layer doesnt actually change the graph. We have to iterate the entire graph and change the\n",
    "    # layer inbound and outbound nodes with modified tensors. This is doubly complicated in Keras 2.x since\n",
    "    # multiple inbound and outbound nodes are allowed with the Graph API.\n",
    "    model_path = os.path.join(tempfile.gettempdir(), next(tempfile._get_candidate_names()) + '.h5')\n",
    "    try:\n",
    "        model.save(model_path)\n",
    "        return load_model(model_path, custom_objects=custom_objects)\n",
    "    finally:\n",
    "        os.remove(model_path)\n",
    "\n",
    "def convert_model(current_model):\n",
    "    # Utility to search for layer index by name. \n",
    "    # Alternatively we can specify this as -1 since it corresponds to the last layer.\n",
    "    layer_idx = find_layer_idx(current_model, 'dense_2')\n",
    "\n",
    "    # Swap softmax with linear\n",
    "    current_model.layers[layer_idx].activation = activations.linear\n",
    "    new_model = apply_modifications(current_model)\n",
    "    return new_model\n",
    "\n",
    "def visualize_cam(model, img_path, conv_layer = 'conv_7b', size = (300,300), hif = .8, bw = False):\n",
    "    original_img = cv2.imread(img_path, 3)\n",
    "    \n",
    "    img = image.load_img(img_path, target_size=size)\n",
    "    x = image.img_to_array(img)\n",
    "    x = np.expand_dims(x, axis=0)\n",
    "    x = preprocess_input(x)\n",
    "    x = x/255\n",
    "\n",
    "    # Prediction\n",
    "    preds = model.predict(x)\n",
    "    print(preds)\n",
    "    argmax = np.argmax(preds[0])\n",
    "    output = model.output[:, argmax]\n",
    "    print(\"* Predicted class for color: \", argmax)\n",
    "    \n",
    "    \n",
    "\n",
    "    last_conv_layer = model.get_layer(conv_layer)\n",
    "    grads = K.gradients(output, last_conv_layer.output)[0]\n",
    "    pooled_grads = K.mean(grads, axis=(0, 1, 2))\n",
    "    iterate = K.function([model.input], [pooled_grads, last_conv_layer.output[0]])\n",
    "    pooled_grads_value, conv_layer_output_value = iterate([x])\n",
    "    \n",
    "    for i in range(last_conv_layer.output_shape[3]):\n",
    "        conv_layer_output_value[:, :, i] *= pooled_grads_value[i]\n",
    "\n",
    "    heatmap = np.mean(conv_layer_output_value, axis=-1)\n",
    "    heatmap = np.maximum(heatmap, 0)\n",
    "    heatmap /= np.max(heatmap)\n",
    "    heatmap = cv2.resize(heatmap, (original_img.shape[1], original_img.shape[0]))\n",
    "    heatmap = np.uint8(255 * heatmap)\n",
    "    heatmap = cv2.applyColorMap(heatmap, cv2.COLORMAP_JET)\n",
    "    \n",
    "    superimposed_img = heatmap * hif + original_img\n",
    "\n",
    "    if bw:\n",
    "        # grayscale\n",
    "        original_img_bw = cv2.imread(img_path, 0)\n",
    "        img_bw = cv2.resize(original_img_bw,(300,300))\n",
    "        img_bw = cv2.cvtColor(img_bw, cv2.COLOR_GRAY2RGB);\n",
    "        \n",
    "        x_bw = image.img_to_array(img_bw)\n",
    "        x_bw = np.expand_dims(x_bw, axis=0)\n",
    "        x_bw = preprocess_input(x_bw)\n",
    "        x_bw = x_bw/255\n",
    "\n",
    "        # Prediction\n",
    "        preds_bw = model.predict(x_bw)\n",
    "        print(preds_bw)\n",
    "        argmax_bw = np.argmax(preds_bw[0])\n",
    "        output_bw = model.output[:, argmax_bw]\n",
    "        print(\"* Predicted class for bw: \", argmax_bw)\n",
    "\n",
    "        last_conv_layer = model.get_layer(conv_layer)\n",
    "        grads_bw = K.gradients(output_bw, last_conv_layer.output)[0]\n",
    "        pooled_grads_bw = K.mean(grads_bw, axis=(0, 1, 2))\n",
    "        iterate = K.function([model.input], [pooled_grads_bw, last_conv_layer.output[0]])\n",
    "        pooled_grads_value_bw, conv_layer_output_value_bw = iterate([x])\n",
    "\n",
    "        for i in range(last_conv_layer.output_shape[3]):\n",
    "            conv_layer_output_value_bw[:, :, i] *= pooled_grads_value_bw[i]\n",
    "        \n",
    "        heatmap_bw = np.mean(conv_layer_output_value_bw, axis=-1)\n",
    "        heatmap_bw = np.maximum(heatmap_bw, 0)\n",
    "        heatmap_bw /= np.max(heatmap_bw)\n",
    "\n",
    "        heatmap_bw = cv2.resize(heatmap_bw, (original_img_bw.shape[1], original_img_bw.shape[0]))\n",
    "        heatmap_bw = np.uint8(255 * heatmap_bw)\n",
    "        heatmap_bw = cv2.applyColorMap(heatmap_bw, cv2.COLORMAP_BONE)\n",
    "        original_img_bw = cv2.cvtColor(original_img_bw, cv2.COLOR_GRAY2RGB);\n",
    "        superimposed_img_bw = heatmap_bw * hif + original_img_bw\n",
    "\n",
    "        return [original_img, superimposed_img, superimposed_img_bw]\n",
    "\n",
    "    else:\n",
    "        return [original_img, superimposed_img, 0]\n",
    "\n",
    "\n",
    "def get_args():\n",
    "    parser = argparse.ArgumentParser()\n",
    "    parser.add_argument(\"--image_path\", type = str, help = \"Path of an image to run the network on\")\n",
    "    parser.add_argument(\"--output_path\", type = str, default = \"./\", help = \"Output path + basename\")\n",
    "    parser.add_argument(\"--model_path\", type = str, default = \"./model.h5\", help = \"Path of the trained (and converted) model\")\n",
    "    parser.add_argument(\"--convert_model\", type = bool, default = False, help = 'Convert model softmax layer to linear layer?')\n",
    "    parser.add_argument(\"--output_all\", type = bool, default = False, help = 'Output all images (original+color+bw)?')\n",
    "    parser.add_argument(\"--conv_layer_name\", type = str, default = 'conv', help = 'Name of last convolutional layer?')\n",
    "    parser.add_argument(\"--image_size\", type = int, default = 300, help = 'Image size of model (an int)?')\n",
    "    parser.add_argument(\"--hif\", type = float, default = .8, help = 'Heatmap factor?')\n",
    "    args = parser.parse_args()\n",
    "    return args\n",
    "\n"
   ]
  },
  {
   "cell_type": "code",
   "execution_count": 78,
   "metadata": {},
   "outputs": [],
   "source": [
    "cmodel = convert_model(model)"
   ]
  },
  {
   "cell_type": "code",
   "execution_count": 74,
   "metadata": {},
   "outputs": [
    {
     "name": "stdout",
     "output_type": "stream",
     "text": [
      "[[-0.3445811   0.28750333]]\n",
      "* Predicted class for color:  1\n",
      "[[ 0.08639864 -0.08652093]]\n",
      "* Predicted class for bw:  0\n",
      "* Saving color heatmap at:  ../misc/testingF_heatmap_color.jpg\n",
      "* Saving original image at:  ../misc/testingF_original.jpg\n",
      "* Saving grayscale heatmap at:  ../misc/testingF_heatmap_bw.jpg\n"
     ]
    }
   ],
   "source": [
    "# model_path=modelid\n",
    "# model=model\n",
    "# output_path=\"../misc/testingF\"\n",
    "# img_size=224\n",
    "# image_path='../data/test/False/19.png' #'../data/train/False/1.png'\n",
    "# conv_layer_name='block14_sepconv2_act'\n",
    "# convert=True\n",
    "# hif=0.6\n",
    "# output_all=True\n",
    "\n",
    "# # print('* Loading model from: ', model_path)\n",
    "# # model = model#modload_model(model_path)\n",
    "\n",
    "\n",
    "# img_size = img_size\n",
    "# imgs = visualize_cam(cmodel, image_path, conv_layer = conv_layer_name, size = (img_size,img_size), hif = hif, bw = True)\n",
    "\n",
    "# print('* Saving color heatmap at: ', output_path + '_heatmap_color.jpg')\n",
    "# cv2.imwrite(output_path + '_heatmap_color.jpg', imgs[1])\n",
    "\n",
    "# if output_all==True:\n",
    "#     print('* Saving original image at: ', output_path + '_original.jpg')\n",
    "#     cv2.imwrite(output_path + '_original.jpg', imgs[0])\n",
    "#     print('* Saving grayscale heatmap at: ', output_path + '_heatmap_bw.jpg')\n",
    "#     cv2.imwrite(output_path + '_heatmap_bw.jpg', imgs[2])\n"
   ]
  },
  {
   "cell_type": "code",
   "execution_count": 81,
   "metadata": {},
   "outputs": [
    {
     "name": "stdout",
     "output_type": "stream",
     "text": [
      "[[-0.35993207  0.3014586 ]]\n",
      "* Predicted class for color:  1\n",
      "* Saving color heatmap at:  ../misc/no_aug_true/10_heatmap_color.jpg\n",
      "* Saving original image at:  ../misc/no_aug_true/10_original.jpg\n",
      "* Saving grayscale heatmap at:  ../misc/no_aug_true/10_heatmap_bw.jpg\n",
      "[[-0.36069828  0.3021196 ]]\n",
      "* Predicted class for color:  1\n",
      "* Saving color heatmap at:  ../misc/no_aug_true/28_heatmap_color.jpg\n",
      "* Saving original image at:  ../misc/no_aug_true/28_original.jpg\n",
      "* Saving grayscale heatmap at:  ../misc/no_aug_true/28_heatmap_bw.jpg\n",
      "[[-0.37731555  0.3169815 ]]\n",
      "* Predicted class for color:  1\n",
      "* Saving color heatmap at:  ../misc/no_aug_true/6_heatmap_color.jpg\n",
      "* Saving original image at:  ../misc/no_aug_true/6_original.jpg\n",
      "* Saving grayscale heatmap at:  ../misc/no_aug_true/6_heatmap_bw.jpg\n",
      "[[-0.3668093  0.30755  ]]\n",
      "* Predicted class for color:  1\n",
      "* Saving color heatmap at:  ../misc/no_aug_true/26_heatmap_color.jpg\n",
      "* Saving original image at:  ../misc/no_aug_true/26_original.jpg\n",
      "* Saving grayscale heatmap at:  ../misc/no_aug_true/26_heatmap_bw.jpg\n",
      "[[-0.3713243   0.31169772]]\n",
      "* Predicted class for color:  1\n",
      "* Saving color heatmap at:  ../misc/no_aug_true/19_heatmap_color.jpg\n",
      "* Saving original image at:  ../misc/no_aug_true/19_original.jpg\n",
      "* Saving grayscale heatmap at:  ../misc/no_aug_true/19_heatmap_bw.jpg\n",
      "[[-0.38638783  0.3251084 ]]\n",
      "* Predicted class for color:  1\n",
      "* Saving color heatmap at:  ../misc/no_aug_true/12_heatmap_color.jpg\n",
      "* Saving original image at:  ../misc/no_aug_true/12_original.jpg\n",
      "* Saving grayscale heatmap at:  ../misc/no_aug_true/12_heatmap_bw.jpg\n",
      "[[-0.3720303   0.31239924]]\n",
      "* Predicted class for color:  1\n",
      "* Saving color heatmap at:  ../misc/no_aug_true/9_heatmap_color.jpg\n",
      "* Saving original image at:  ../misc/no_aug_true/9_original.jpg\n",
      "* Saving grayscale heatmap at:  ../misc/no_aug_true/9_heatmap_bw.jpg\n",
      "[[-0.34964475  0.2920851 ]]\n",
      "* Predicted class for color:  1\n",
      "* Saving color heatmap at:  ../misc/no_aug_true/4_heatmap_color.jpg\n",
      "* Saving original image at:  ../misc/no_aug_true/4_original.jpg\n",
      "* Saving grayscale heatmap at:  ../misc/no_aug_true/4_heatmap_bw.jpg\n",
      "[[-0.357759   0.2994168]]\n",
      "* Predicted class for color:  1\n",
      "* Saving color heatmap at:  ../misc/no_aug_true/1_heatmap_color.jpg\n",
      "* Saving original image at:  ../misc/no_aug_true/1_original.jpg\n",
      "* Saving grayscale heatmap at:  ../misc/no_aug_true/1_heatmap_bw.jpg\n",
      "[[-0.3637785   0.30487454]]\n",
      "* Predicted class for color:  1\n",
      "* Saving color heatmap at:  ../misc/no_aug_true/7_heatmap_color.jpg\n",
      "* Saving original image at:  ../misc/no_aug_true/7_original.jpg\n",
      "* Saving grayscale heatmap at:  ../misc/no_aug_true/7_heatmap_bw.jpg\n",
      "[[-0.3752212   0.31519014]]\n",
      "* Predicted class for color:  1\n",
      "* Saving color heatmap at:  ../misc/no_aug_true/5_heatmap_color.jpg\n",
      "* Saving original image at:  ../misc/no_aug_true/5_original.jpg\n",
      "* Saving grayscale heatmap at:  ../misc/no_aug_true/5_heatmap_bw.jpg\n",
      "[[-0.36594415  0.30681542]]\n",
      "* Predicted class for color:  1\n",
      "* Saving color heatmap at:  ../misc/no_aug_true/8_heatmap_color.jpg\n",
      "* Saving original image at:  ../misc/no_aug_true/8_original.jpg\n",
      "* Saving grayscale heatmap at:  ../misc/no_aug_true/8_heatmap_bw.jpg\n",
      "[[-0.3799057   0.31930605]]\n",
      "* Predicted class for color:  1\n",
      "* Saving color heatmap at:  ../misc/no_aug_true/20_heatmap_color.jpg\n",
      "* Saving original image at:  ../misc/no_aug_true/20_original.jpg\n",
      "* Saving grayscale heatmap at:  ../misc/no_aug_true/20_heatmap_bw.jpg\n",
      "[[-0.34017253  0.28357372]]\n",
      "* Predicted class for color:  1\n",
      "* Saving color heatmap at:  ../misc/no_aug_true/2_heatmap_color.jpg\n",
      "* Saving original image at:  ../misc/no_aug_true/2_original.jpg\n",
      "* Saving grayscale heatmap at:  ../misc/no_aug_true/2_heatmap_bw.jpg\n",
      "[[-0.35834998  0.30005416]]\n",
      "* Predicted class for color:  1\n",
      "* Saving color heatmap at:  ../misc/no_aug_true/13_heatmap_color.jpg\n",
      "* Saving original image at:  ../misc/no_aug_true/13_original.jpg\n",
      "* Saving grayscale heatmap at:  ../misc/no_aug_true/13_heatmap_bw.jpg\n",
      "[[-0.37433815  0.31438762]]\n",
      "* Predicted class for color:  1\n",
      "* Saving color heatmap at:  ../misc/no_aug_true/21_heatmap_color.jpg\n",
      "* Saving original image at:  ../misc/no_aug_true/21_original.jpg\n",
      "* Saving grayscale heatmap at:  ../misc/no_aug_true/21_heatmap_bw.jpg\n",
      "[[-0.3556294   0.29742366]]\n",
      "* Predicted class for color:  1\n",
      "* Saving color heatmap at:  ../misc/no_aug_true/3_heatmap_color.jpg\n",
      "* Saving original image at:  ../misc/no_aug_true/3_original.jpg\n",
      "* Saving grayscale heatmap at:  ../misc/no_aug_true/3_heatmap_bw.jpg\n",
      "[[-0.3632413   0.30432203]]\n",
      "* Predicted class for color:  1\n",
      "* Saving color heatmap at:  ../misc/no_aug_true/18_heatmap_color.jpg\n",
      "* Saving original image at:  ../misc/no_aug_true/18_original.jpg\n",
      "* Saving grayscale heatmap at:  ../misc/no_aug_true/18_heatmap_bw.jpg\n",
      "[[-0.38001654  0.31950116]]\n",
      "* Predicted class for color:  1\n",
      "* Saving color heatmap at:  ../misc/no_aug_true/16_heatmap_color.jpg\n",
      "* Saving original image at:  ../misc/no_aug_true/16_original.jpg\n",
      "* Saving grayscale heatmap at:  ../misc/no_aug_true/16_heatmap_bw.jpg\n",
      "[[-0.36049086  0.30182165]]\n",
      "* Predicted class for color:  1\n",
      "* Saving color heatmap at:  ../misc/no_aug_true/22_heatmap_color.jpg\n",
      "* Saving original image at:  ../misc/no_aug_true/22_original.jpg\n",
      "* Saving grayscale heatmap at:  ../misc/no_aug_true/22_heatmap_bw.jpg\n",
      "[[-0.34017253  0.28357372]]\n",
      "* Predicted class for color:  1\n",
      "* Saving color heatmap at:  ../misc/no_aug_true/27_heatmap_color.jpg\n",
      "* Saving original image at:  ../misc/no_aug_true/27_original.jpg\n",
      "* Saving grayscale heatmap at:  ../misc/no_aug_true/27_heatmap_bw.jpg\n",
      "[[-0.37182182  0.31203023]]\n",
      "* Predicted class for color:  1\n",
      "* Saving color heatmap at:  ../misc/no_aug_true/15_heatmap_color.jpg\n",
      "* Saving original image at:  ../misc/no_aug_true/15_original.jpg\n",
      "* Saving grayscale heatmap at:  ../misc/no_aug_true/15_heatmap_bw.jpg\n",
      "[[-0.36043507  0.30175346]]\n",
      "* Predicted class for color:  1\n",
      "* Saving color heatmap at:  ../misc/no_aug_true/17_heatmap_color.jpg\n",
      "* Saving original image at:  ../misc/no_aug_true/17_original.jpg\n",
      "* Saving grayscale heatmap at:  ../misc/no_aug_true/17_heatmap_bw.jpg\n",
      "[[-0.36753643  0.30833256]]\n",
      "* Predicted class for color:  1\n",
      "* Saving color heatmap at:  ../misc/no_aug_true/25_heatmap_color.jpg\n",
      "* Saving original image at:  ../misc/no_aug_true/25_original.jpg\n",
      "* Saving grayscale heatmap at:  ../misc/no_aug_true/25_heatmap_bw.jpg\n",
      "[[-0.37505284  0.31500727]]\n",
      "* Predicted class for color:  1\n",
      "* Saving color heatmap at:  ../misc/no_aug_true/11_heatmap_color.jpg\n",
      "* Saving original image at:  ../misc/no_aug_true/11_original.jpg\n",
      "* Saving grayscale heatmap at:  ../misc/no_aug_true/11_heatmap_bw.jpg\n",
      "[[-0.3787098   0.31822574]]\n",
      "* Predicted class for color:  1\n",
      "* Saving color heatmap at:  ../misc/no_aug_true/23_heatmap_color.jpg\n",
      "* Saving original image at:  ../misc/no_aug_true/23_original.jpg\n",
      "* Saving grayscale heatmap at:  ../misc/no_aug_true/23_heatmap_bw.jpg\n",
      "[[-0.38111168  0.320468  ]]\n",
      "* Predicted class for color:  1\n",
      "* Saving color heatmap at:  ../misc/no_aug_true/14_heatmap_color.jpg\n",
      "* Saving original image at:  ../misc/no_aug_true/14_original.jpg\n",
      "* Saving grayscale heatmap at:  ../misc/no_aug_true/14_heatmap_bw.jpg\n",
      "[[-0.3460122   0.28878054]]\n",
      "* Predicted class for color:  1\n",
      "* Saving color heatmap at:  ../misc/no_aug_true/24_heatmap_color.jpg\n",
      "* Saving original image at:  ../misc/no_aug_true/24_original.jpg\n",
      "* Saving grayscale heatmap at:  ../misc/no_aug_true/24_heatmap_bw.jpg\n"
     ]
    }
   ],
   "source": [
    "model_path=modelid\n",
    "model=model\n",
    "# output_path=\"../misc/19\"\n",
    "img_size=224\n",
    "# image_path='../data/test/True/19.png' #'../data/train/False/1.png'\n",
    "conv_layer_name='block14_sepconv2_act'\n",
    "convert=True\n",
    "hif=0.7\n",
    "output_all=True\n",
    "\n",
    "for element in glob.glob(\"../data/test/True/\"+\"*\"):\n",
    "    file_num=element.strip(\".png\").split('/')[-1]\n",
    "    image_path= element\n",
    "    output_path=\"../misc/no_aug_true/{}\".format(file_num)\n",
    "    \n",
    "    img_size = img_size\n",
    "    imgs = visualize_cam(cmodel, image_path, conv_layer = conv_layer_name, size = (img_size,img_size), hif = hif, bw = False)\n",
    "\n",
    "    print('* Saving color heatmap at: ', output_path + '_heatmap_color.jpg')\n",
    "    cv2.imwrite(output_path + '_heatmap_color.jpg', imgs[1])\n",
    "\n",
    "    if output_all==True:\n",
    "        print('* Saving original image at: ', output_path + '_original.jpg')\n",
    "        cv2.imwrite(output_path + '_original.jpg', imgs[0])\n",
    "        print('* Saving grayscale heatmap at: ', output_path + '_heatmap_bw.jpg')\n",
    "        cv2.imwrite(output_path + '_heatmap_bw.jpg', imgs[2])\n"
   ]
  },
  {
   "cell_type": "code",
   "execution_count": 82,
   "metadata": {},
   "outputs": [
    {
     "name": "stdout",
     "output_type": "stream",
     "text": [
      "[[-0.3716818  0.311986 ]]\n",
      "* Predicted class for color:  1\n",
      "* Saving color heatmap at:  ../misc/no_aug_false/10_heatmap_color.jpg\n",
      "* Saving original image at:  ../misc/no_aug_false/10_original.jpg\n",
      "* Saving grayscale heatmap at:  ../misc/no_aug_false/10_heatmap_bw.jpg\n",
      "[[-0.36356097  0.30460268]]\n",
      "* Predicted class for color:  1\n",
      "* Saving color heatmap at:  ../misc/no_aug_false/6_heatmap_color.jpg\n",
      "* Saving original image at:  ../misc/no_aug_false/6_original.jpg\n",
      "* Saving grayscale heatmap at:  ../misc/no_aug_false/6_heatmap_bw.jpg\n",
      "[[-0.3445811   0.28750333]]\n",
      "* Predicted class for color:  1\n",
      "* Saving color heatmap at:  ../misc/no_aug_false/19_heatmap_color.jpg\n",
      "* Saving original image at:  ../misc/no_aug_false/19_original.jpg\n",
      "* Saving grayscale heatmap at:  ../misc/no_aug_false/19_heatmap_bw.jpg\n",
      "[[-0.37618977  0.31601128]]\n",
      "* Predicted class for color:  1\n",
      "* Saving color heatmap at:  ../misc/no_aug_false/12_heatmap_color.jpg\n",
      "* Saving original image at:  ../misc/no_aug_false/12_original.jpg\n",
      "* Saving grayscale heatmap at:  ../misc/no_aug_false/12_heatmap_bw.jpg\n",
      "[[-0.3560274  0.2978208]]\n",
      "* Predicted class for color:  1\n",
      "* Saving color heatmap at:  ../misc/no_aug_false/9_heatmap_color.jpg\n",
      "* Saving original image at:  ../misc/no_aug_false/9_original.jpg\n",
      "* Saving grayscale heatmap at:  ../misc/no_aug_false/9_heatmap_bw.jpg\n",
      "[[-0.32885265  0.2733761 ]]\n",
      "* Predicted class for color:  1\n",
      "* Saving color heatmap at:  ../misc/no_aug_false/4_heatmap_color.jpg\n",
      "* Saving original image at:  ../misc/no_aug_false/4_original.jpg\n",
      "* Saving grayscale heatmap at:  ../misc/no_aug_false/4_heatmap_bw.jpg\n",
      "[[-0.37220275  0.3124904 ]]\n",
      "* Predicted class for color:  1\n",
      "* Saving color heatmap at:  ../misc/no_aug_false/1_heatmap_color.jpg\n",
      "* Saving original image at:  ../misc/no_aug_false/1_original.jpg\n",
      "* Saving grayscale heatmap at:  ../misc/no_aug_false/1_heatmap_bw.jpg\n",
      "[[-0.36968765  0.31021684]]\n",
      "* Predicted class for color:  1\n",
      "* Saving color heatmap at:  ../misc/no_aug_false/7_heatmap_color.jpg\n",
      "* Saving original image at:  ../misc/no_aug_false/7_original.jpg\n",
      "* Saving grayscale heatmap at:  ../misc/no_aug_false/7_heatmap_bw.jpg\n",
      "[[-0.35733163  0.29897484]]\n",
      "* Predicted class for color:  1\n",
      "* Saving color heatmap at:  ../misc/no_aug_false/5_heatmap_color.jpg\n",
      "* Saving original image at:  ../misc/no_aug_false/5_original.jpg\n",
      "* Saving grayscale heatmap at:  ../misc/no_aug_false/5_heatmap_bw.jpg\n",
      "[[-0.35202247  0.2941887 ]]\n",
      "* Predicted class for color:  1\n",
      "* Saving color heatmap at:  ../misc/no_aug_false/8_heatmap_color.jpg\n",
      "* Saving original image at:  ../misc/no_aug_false/8_original.jpg\n",
      "* Saving grayscale heatmap at:  ../misc/no_aug_false/8_heatmap_bw.jpg\n",
      "[[-0.37294883  0.3131336 ]]\n",
      "* Predicted class for color:  1\n",
      "* Saving color heatmap at:  ../misc/no_aug_false/20_heatmap_color.jpg\n",
      "* Saving original image at:  ../misc/no_aug_false/20_original.jpg\n",
      "* Saving grayscale heatmap at:  ../misc/no_aug_false/20_heatmap_bw.jpg\n",
      "[[-0.34160697  0.28471464]]\n",
      "* Predicted class for color:  1\n",
      "* Saving color heatmap at:  ../misc/no_aug_false/2_heatmap_color.jpg\n",
      "* Saving original image at:  ../misc/no_aug_false/2_original.jpg\n",
      "* Saving grayscale heatmap at:  ../misc/no_aug_false/2_heatmap_bw.jpg\n",
      "[[-0.32900017  0.27356875]]\n",
      "* Predicted class for color:  1\n",
      "* Saving color heatmap at:  ../misc/no_aug_false/13_heatmap_color.jpg\n",
      "* Saving original image at:  ../misc/no_aug_false/13_original.jpg\n",
      "* Saving grayscale heatmap at:  ../misc/no_aug_false/13_heatmap_bw.jpg\n",
      "[[-0.3589309   0.30047238]]\n",
      "* Predicted class for color:  1\n",
      "* Saving color heatmap at:  ../misc/no_aug_false/21_heatmap_color.jpg\n",
      "* Saving original image at:  ../misc/no_aug_false/21_original.jpg\n",
      "* Saving grayscale heatmap at:  ../misc/no_aug_false/21_heatmap_bw.jpg\n",
      "[[-0.37672293  0.3164748 ]]\n",
      "* Predicted class for color:  1\n",
      "* Saving color heatmap at:  ../misc/no_aug_false/3_heatmap_color.jpg\n",
      "* Saving original image at:  ../misc/no_aug_false/3_original.jpg\n",
      "* Saving grayscale heatmap at:  ../misc/no_aug_false/3_heatmap_bw.jpg\n",
      "[[-0.36150736  0.30281496]]\n",
      "* Predicted class for color:  1\n",
      "* Saving color heatmap at:  ../misc/no_aug_false/18_heatmap_color.jpg\n",
      "* Saving original image at:  ../misc/no_aug_false/18_original.jpg\n",
      "* Saving grayscale heatmap at:  ../misc/no_aug_false/18_heatmap_bw.jpg\n",
      "[[-0.34283942  0.28584158]]\n",
      "* Predicted class for color:  1\n",
      "* Saving color heatmap at:  ../misc/no_aug_false/16_heatmap_color.jpg\n",
      "* Saving original image at:  ../misc/no_aug_false/16_original.jpg\n",
      "* Saving grayscale heatmap at:  ../misc/no_aug_false/16_heatmap_bw.jpg\n",
      "[[-0.36780185  0.30849352]]\n",
      "* Predicted class for color:  1\n",
      "* Saving color heatmap at:  ../misc/no_aug_false/22_heatmap_color.jpg\n",
      "* Saving original image at:  ../misc/no_aug_false/22_original.jpg\n",
      "* Saving grayscale heatmap at:  ../misc/no_aug_false/22_heatmap_bw.jpg\n",
      "[[-0.3731683  0.3133483]]\n",
      "* Predicted class for color:  1\n",
      "* Saving color heatmap at:  ../misc/no_aug_false/15_heatmap_color.jpg\n",
      "* Saving original image at:  ../misc/no_aug_false/15_original.jpg\n",
      "* Saving grayscale heatmap at:  ../misc/no_aug_false/15_heatmap_bw.jpg\n",
      "[[-0.3483545   0.29091087]]\n",
      "* Predicted class for color:  1\n",
      "* Saving color heatmap at:  ../misc/no_aug_false/17_heatmap_color.jpg\n",
      "* Saving original image at:  ../misc/no_aug_false/17_original.jpg\n",
      "* Saving grayscale heatmap at:  ../misc/no_aug_false/17_heatmap_bw.jpg\n",
      "[[-0.39063793  0.3289248 ]]\n",
      "* Predicted class for color:  1\n",
      "* Saving color heatmap at:  ../misc/no_aug_false/11_heatmap_color.jpg\n",
      "* Saving original image at:  ../misc/no_aug_false/11_original.jpg\n",
      "* Saving grayscale heatmap at:  ../misc/no_aug_false/11_heatmap_bw.jpg\n",
      "[[-0.37733224  0.3169906 ]]\n",
      "* Predicted class for color:  1\n",
      "* Saving color heatmap at:  ../misc/no_aug_false/23_heatmap_color.jpg\n",
      "* Saving original image at:  ../misc/no_aug_false/23_original.jpg\n",
      "* Saving grayscale heatmap at:  ../misc/no_aug_false/23_heatmap_bw.jpg\n",
      "[[-0.36150736  0.30281496]]\n",
      "* Predicted class for color:  1\n",
      "* Saving color heatmap at:  ../misc/no_aug_false/14_heatmap_color.jpg\n",
      "* Saving original image at:  ../misc/no_aug_false/14_original.jpg\n",
      "* Saving grayscale heatmap at:  ../misc/no_aug_false/14_heatmap_bw.jpg\n"
     ]
    }
   ],
   "source": [
    "model_path=modelid\n",
    "model=model\n",
    "# output_path=\"../misc/19\"\n",
    "img_size=224\n",
    "# image_path='../data/test/True/19.png' #'../data/train/False/1.png'\n",
    "conv_layer_name='block14_sepconv2_act'\n",
    "convert=True\n",
    "hif=0.7\n",
    "output_all=True\n",
    "\n",
    "for element in glob.glob(\"../data/test/False/\"+\"*\"):\n",
    "    file_num=element.strip(\".png\").split('/')[-1]\n",
    "    image_path= element\n",
    "    output_path=\"../misc/no_aug_false/{}\".format(file_num)\n",
    "    \n",
    "    img_size = img_size\n",
    "    imgs = visualize_cam(cmodel, image_path, conv_layer = conv_layer_name, size = (img_size,img_size), hif = hif, bw = False)\n",
    "\n",
    "    print('* Saving color heatmap at: ', output_path + '_heatmap_color.jpg')\n",
    "    cv2.imwrite(output_path + '_heatmap_color.jpg', imgs[1])\n",
    "\n",
    "    if output_all==True:\n",
    "        print('* Saving original image at: ', output_path + '_original.jpg')\n",
    "        cv2.imwrite(output_path + '_original.jpg', imgs[0])\n",
    "        print('* Saving grayscale heatmap at: ', output_path + '_heatmap_bw.jpg')\n",
    "        cv2.imwrite(output_path + '_heatmap_bw.jpg', imgs[2])\n"
   ]
  },
  {
   "cell_type": "code",
   "execution_count": null,
   "metadata": {},
   "outputs": [],
   "source": []
  },
  {
   "cell_type": "code",
   "execution_count": 65,
   "metadata": {},
   "outputs": [
    {
     "data": {
      "text/plain": [
       "\u001b[0;31mSignature:\u001b[0m \u001b[0mstr\u001b[0m\u001b[0;34m.\u001b[0m\u001b[0mstrip\u001b[0m\u001b[0;34m(\u001b[0m\u001b[0mself\u001b[0m\u001b[0;34m,\u001b[0m \u001b[0mchars\u001b[0m\u001b[0;34m=\u001b[0m\u001b[0;32mNone\u001b[0m\u001b[0;34m,\u001b[0m \u001b[0;34m/\u001b[0m\u001b[0;34m)\u001b[0m\u001b[0;34m\u001b[0m\u001b[0;34m\u001b[0m\u001b[0m\n",
       "\u001b[0;31mDocstring:\u001b[0m\n",
       "Return a copy of the string with leading and trailing whitespace remove.\n",
       "\n",
       "If chars is given and not None, remove characters in chars instead.\n",
       "\u001b[0;31mType:\u001b[0m      method_descriptor\n"
      ]
     },
     "metadata": {},
     "output_type": "display_data"
    }
   ],
   "source": [
    "str.strip?"
   ]
  }
 ],
 "metadata": {
  "kernelspec": {
   "display_name": "Python 3",
   "language": "python",
   "name": "python3"
  },
  "language_info": {
   "codemirror_mode": {
    "name": "ipython",
    "version": 3
   },
   "file_extension": ".py",
   "mimetype": "text/x-python",
   "name": "python",
   "nbconvert_exporter": "python",
   "pygments_lexer": "ipython3",
   "version": "3.7.3"
  }
 },
 "nbformat": 4,
 "nbformat_minor": 2
}
