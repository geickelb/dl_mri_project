{
 "cells": [
  {
   "cell_type": "code",
   "execution_count": 20,
   "metadata": {},
   "outputs": [],
   "source": [
    "import numpy as np\n",
    "import os\n",
    "import glob\n",
    "import cv2 \n",
    "import matplotlib.pyplot as plt\n",
    "%matplotlib inline"
   ]
  },
  {
   "cell_type": "code",
   "execution_count": 21,
   "metadata": {},
   "outputs": [],
   "source": [
    "date=\"05122019\" #defining the date for saving files later\n",
    "wd= os.getcwd()"
   ]
  },
  {
   "cell_type": "code",
   "execution_count": 22,
   "metadata": {},
   "outputs": [],
   "source": [
    "allyes=glob.glob(\"../data/raw/yes/\"+'*.[pjJ][npP][gG]') #grabs all jpg and png files\n",
    "allno=glob.glob(\"../data/raw/no/\"+'*.[pjJ][npP][gG]')"
   ]
  },
  {
   "cell_type": "code",
   "execution_count": 23,
   "metadata": {},
   "outputs": [],
   "source": [
    "#can load with:\n",
    "X=np.load(\"../data/processed/%s_X.npy\"%(date))\n",
    "y=np.load(\"../data/processed/%s_y.npy\"%(date))"
   ]
  },
  {
   "cell_type": "code",
   "execution_count": 24,
   "metadata": {
    "scrolled": true
   },
   "outputs": [
    {
     "data": {
      "text/plain": [
       "(50, 50)"
      ]
     },
     "execution_count": 24,
     "metadata": {},
     "output_type": "execute_result"
    },
    {
     "data": {
      "image/png": "[encoded data removed]",
      "text/plain": [
       "<Figure size 432x288 with 1 Axes>"
      ]
     },
     "metadata": {
      "needs_background": "light"
     },
     "output_type": "display_data"
    }
   ],
   "source": [
    "img = X[0]\n",
    "img = cv2.resize(img,(50,50))\n",
    "gray = cv2.cvtColor(img, cv2.COLOR_RGB2GRAY)\n",
    "\n",
    "plt.imshow(gray,cmap='gray', vmin=0, vmax=1)\n",
    "gray.reshape((len(gray), -1)).T.shape"
   ]
  },
  {
   "cell_type": "code",
   "execution_count": 25,
   "metadata": {},
   "outputs": [],
   "source": [
    "resX=[]\n",
    "xres = 50\n",
    "yres = 50\n",
    "resizeval = (xres,yres)\n",
    "# resize and convert to grayscale\n",
    "for img in X:\n",
    "    img = cv2.resize(img,resizeval)\n",
    "    gray = cv2.cvtColor(img, cv2.COLOR_RGB2GRAY)\n",
    "    gray = gray.reshape((len(gray), -1)).T\n",
    "    resX.append(gray)\n",
    "\n",
    "resX = np.array(resX)\n",
    "#resX = resX.reshape((len(resX), -1)).T\n",
    "resX = resX.reshape(-1, xres,yres, 1)\n",
    "\n",
    "X = resX\n",
    "#y = y.T\n",
    "y = y.astype('float32')"
   ]
  },
  {
   "cell_type": "code",
   "execution_count": 26,
   "metadata": {},
   "outputs": [
    {
     "data": {
      "text/plain": [
       "(247, 50, 50, 1)"
      ]
     },
     "execution_count": 26,
     "metadata": {},
     "output_type": "execute_result"
    }
   ],
   "source": [
    "X.shape"
   ]
  },
  {
   "cell_type": "code",
   "execution_count": 27,
   "metadata": {},
   "outputs": [
    {
     "data": {
      "text/plain": [
       "(247, 2)"
      ]
     },
     "execution_count": 27,
     "metadata": {},
     "output_type": "execute_result"
    }
   ],
   "source": [
    "y.shape"
   ]
  },
  {
   "cell_type": "code",
   "execution_count": 28,
   "metadata": {},
   "outputs": [],
   "source": [
    "from sklearn.model_selection import train_test_split\n",
    "train_X0,test_X,train_label0,test_label = train_test_split(X, y, test_size=0.2, random_state=13)\n",
    "train_X,valid_X,train_label,valid_label = train_test_split(train_X0, train_label0, test_size=0.2, random_state=13)"
   ]
  },
  {
   "cell_type": "code",
   "execution_count": 29,
   "metadata": {},
   "outputs": [],
   "source": [
    "import keras\n",
    "from keras.models import Sequential,Input,Model\n",
    "from keras.layers import Dense, Dropout, Flatten\n",
    "from keras.layers import Conv2D, MaxPooling2D\n",
    "from keras.layers.normalization import BatchNormalization\n",
    "from keras.layers.advanced_activations import LeakyReLU"
   ]
  },
  {
   "cell_type": "code",
   "execution_count": 30,
   "metadata": {},
   "outputs": [],
   "source": [
    "batch_size = 64\n",
    "epochs = 20\n",
    "num_classes = 2"
   ]
  },
  {
   "cell_type": "code",
   "execution_count": 31,
   "metadata": {},
   "outputs": [],
   "source": [
    "model = Sequential()\n",
    "model.add(Conv2D(32, kernel_size=(3, 3),activation='linear',input_shape=(xres,yres,1),padding='same'))\n",
    "model.add(LeakyReLU(alpha=0.1))\n",
    "model.add(MaxPooling2D((2, 2),padding='same'))\n",
    "model.add(Conv2D(64, (3, 3), activation='linear',padding='same'))\n",
    "model.add(LeakyReLU(alpha=0.1))\n",
    "model.add(MaxPooling2D(pool_size=(2, 2),padding='same'))\n",
    "model.add(Conv2D(128, (3, 3), activation='linear',padding='same'))\n",
    "model.add(LeakyReLU(alpha=0.1))                  \n",
    "model.add(MaxPooling2D(pool_size=(2, 2),padding='same'))\n",
    "model.add(Flatten())\n",
    "model.add(Dense(128, activation='linear'))\n",
    "model.add(LeakyReLU(alpha=0.1))                  \n",
    "model.add(Dense(num_classes, activation='softmax'))"
   ]
  },
  {
   "cell_type": "code",
   "execution_count": 32,
   "metadata": {},
   "outputs": [],
   "source": [
    "model.compile(loss=keras.losses.categorical_crossentropy, optimizer=keras.optimizers.Adam(),metrics=['accuracy'])"
   ]
  },
  {
   "cell_type": "code",
   "execution_count": 33,
   "metadata": {},
   "outputs": [
    {
     "name": "stdout",
     "output_type": "stream",
     "text": [
      "_________________________________________________________________\n",
      "Layer (type)                 Output Shape              Param #   \n",
      "=================================================================\n",
      "conv2d_4 (Conv2D)            (None, 50, 50, 32)        320       \n",
      "_________________________________________________________________\n",
      "leaky_re_lu_5 (LeakyReLU)    (None, 50, 50, 32)        0         \n",
      "_________________________________________________________________\n",
      "max_pooling2d_4 (MaxPooling2 (None, 25, 25, 32)        0         \n",
      "_________________________________________________________________\n",
      "conv2d_5 (Conv2D)            (None, 25, 25, 64)        18496     \n",
      "_________________________________________________________________\n",
      "leaky_re_lu_6 (LeakyReLU)    (None, 25, 25, 64)        0         \n",
      "_________________________________________________________________\n",
      "max_pooling2d_5 (MaxPooling2 (None, 13, 13, 64)        0         \n",
      "_________________________________________________________________\n",
      "conv2d_6 (Conv2D)            (None, 13, 13, 128)       73856     \n",
      "_________________________________________________________________\n",
      "leaky_re_lu_7 (LeakyReLU)    (None, 13, 13, 128)       0         \n",
      "_________________________________________________________________\n",
      "max_pooling2d_6 (MaxPooling2 (None, 7, 7, 128)         0         \n",
      "_________________________________________________________________\n",
      "flatten_2 (Flatten)          (None, 6272)              0         \n",
      "_________________________________________________________________\n",
      "dense_3 (Dense)              (None, 128)               802944    \n",
      "_________________________________________________________________\n",
      "leaky_re_lu_8 (LeakyReLU)    (None, 128)               0         \n",
      "_________________________________________________________________\n",
      "dense_4 (Dense)              (None, 2)                 258       \n",
      "=================================================================\n",
      "Total params: 895,874\n",
      "Trainable params: 895,874\n",
      "Non-trainable params: 0\n",
      "_________________________________________________________________\n"
     ]
    }
   ],
   "source": [
    "model.summary()"
   ]
  },
  {
   "cell_type": "code",
   "execution_count": 34,
   "metadata": {
    "scrolled": true
   },
   "outputs": [
    {
     "name": "stdout",
     "output_type": "stream",
     "text": [
      "Train on 157 samples, validate on 40 samples\n",
      "Epoch 1/20\n",
      "157/157 [==============================] - 1s 9ms/step - loss: 0.6691 - acc: 0.4968 - val_loss: 0.5877 - val_acc: 0.7250\n",
      "Epoch 2/20\n",
      "157/157 [==============================] - 1s 3ms/step - loss: 0.6285 - acc: 0.6306 - val_loss: 0.6206 - val_acc: 0.7750\n",
      "Epoch 3/20\n",
      "157/157 [==============================] - 1s 3ms/step - loss: 0.5982 - acc: 0.6879 - val_loss: 0.5613 - val_acc: 0.7750\n",
      "Epoch 4/20\n",
      "157/157 [==============================] - 1s 4ms/step - loss: 0.5777 - acc: 0.6497 - val_loss: 0.6078 - val_acc: 0.7500\n",
      "Epoch 5/20\n",
      "157/157 [==============================] - 1s 4ms/step - loss: 0.5393 - acc: 0.7006 - val_loss: 0.8070 - val_acc: 0.5000\n",
      "Epoch 6/20\n",
      "157/157 [==============================] - 1s 4ms/step - loss: 0.5389 - acc: 0.6561 - val_loss: 0.6689 - val_acc: 0.7500\n",
      "Epoch 7/20\n",
      "157/157 [==============================] - 1s 4ms/step - loss: 0.5183 - acc: 0.7580 - val_loss: 0.7398 - val_acc: 0.5250\n",
      "Epoch 8/20\n",
      "157/157 [==============================] - 1s 3ms/step - loss: 0.4870 - acc: 0.7516 - val_loss: 0.6967 - val_acc: 0.6000\n",
      "Epoch 9/20\n",
      "157/157 [==============================] - 1s 4ms/step - loss: 0.4642 - acc: 0.7962 - val_loss: 0.7352 - val_acc: 0.6250\n",
      "Epoch 10/20\n",
      "157/157 [==============================] - 1s 4ms/step - loss: 0.4298 - acc: 0.8217 - val_loss: 0.8648 - val_acc: 0.5750\n",
      "Epoch 11/20\n",
      "157/157 [==============================] - 1s 3ms/step - loss: 0.4240 - acc: 0.8025 - val_loss: 0.7873 - val_acc: 0.6500\n",
      "Epoch 12/20\n",
      "157/157 [==============================] - 1s 4ms/step - loss: 0.3654 - acc: 0.8535 - val_loss: 0.9592 - val_acc: 0.5500\n",
      "Epoch 13/20\n",
      "157/157 [==============================] - 1s 4ms/step - loss: 0.3636 - acc: 0.8471 - val_loss: 0.7429 - val_acc: 0.6250\n",
      "Epoch 14/20\n",
      "157/157 [==============================] - 1s 4ms/step - loss: 0.3296 - acc: 0.8854 - val_loss: 0.7236 - val_acc: 0.6250\n",
      "Epoch 15/20\n",
      "157/157 [==============================] - 1s 4ms/step - loss: 0.2741 - acc: 0.9172 - val_loss: 0.6569 - val_acc: 0.7500\n",
      "Epoch 16/20\n",
      "157/157 [==============================] - 1s 3ms/step - loss: 0.2470 - acc: 0.9108 - val_loss: 0.9732 - val_acc: 0.5500\n",
      "Epoch 17/20\n",
      "157/157 [==============================] - 1s 4ms/step - loss: 0.2259 - acc: 0.9427 - val_loss: 0.6853 - val_acc: 0.7500\n",
      "Epoch 18/20\n",
      "157/157 [==============================] - 1s 4ms/step - loss: 0.2603 - acc: 0.8790 - val_loss: 0.9128 - val_acc: 0.6000\n",
      "Epoch 19/20\n",
      "157/157 [==============================] - 1s 4ms/step - loss: 0.1963 - acc: 0.9236 - val_loss: 0.8080 - val_acc: 0.6250\n",
      "Epoch 20/20\n",
      "157/157 [==============================] - 1s 4ms/step - loss: 0.1569 - acc: 0.9618 - val_loss: 0.7816 - val_acc: 0.7250\n"
     ]
    }
   ],
   "source": [
    "train = model.fit(train_X, train_label, batch_size=batch_size,epochs=epochs,verbose=1,validation_data=(valid_X, valid_label))"
   ]
  },
  {
   "cell_type": "code",
   "execution_count": 35,
   "metadata": {
    "scrolled": true
   },
   "outputs": [
    {
     "data": {
      "image/png": "[encoded data removed]",
      "text/plain": [
       "<Figure size 432x288 with 1 Axes>"
      ]
     },
     "metadata": {
      "needs_background": "light"
     },
     "output_type": "display_data"
    },
    {
     "data": {
      "image/png": "[encoded data removed]",
      "text/plain": [
       "<Figure size 432x288 with 1 Axes>"
      ]
     },
     "metadata": {
      "needs_background": "light"
     },
     "output_type": "display_data"
    }
   ],
   "source": [
    "accuracy = train.history['acc']\n",
    "val_accuracy = train.history['val_acc']\n",
    "loss = train.history['loss']\n",
    "val_loss = train.history['val_loss']\n",
    "epochs = range(len(accuracy))\n",
    "plt.plot(epochs, accuracy, 'bo', label='Training accuracy')\n",
    "plt.plot(epochs, val_accuracy, 'b', label='Validation accuracy')\n",
    "plt.title('Training and validation accuracy')\n",
    "plt.legend()\n",
    "plt.figure()\n",
    "plt.plot(epochs, loss, 'bo', label='Training loss')\n",
    "plt.plot(epochs, val_loss, 'b', label='Validation loss')\n",
    "plt.title('Training and validation loss')\n",
    "plt.legend()\n",
    "plt.show()"
   ]
  },
  {
   "cell_type": "code",
   "execution_count": 36,
   "metadata": {},
   "outputs": [],
   "source": [
    "test_eval = model.evaluate(test_X, test_label, verbose=0)"
   ]
  },
  {
   "cell_type": "code",
   "execution_count": 37,
   "metadata": {},
   "outputs": [
    {
     "name": "stdout",
     "output_type": "stream",
     "text": [
      "Test loss: 0.4812097889184952\n",
      "Test accuracy: 0.88\n"
     ]
    }
   ],
   "source": [
    "print('Test loss:', test_eval[0])\n",
    "print('Test accuracy:', test_eval[1])"
   ]
  }
 ],
 "metadata": {
  "kernelspec": {
   "display_name": "Python 3",
   "language": "python",
   "name": "python3"
  },
  "language_info": {
   "codemirror_mode": {
    "name": "ipython",
    "version": 3
   },
   "file_extension": ".py",
   "mimetype": "text/x-python",
   "name": "python",
   "nbconvert_exporter": "python",
   "pygments_lexer": "ipython3",
   "version": "3.7.3"
  }
 },
 "nbformat": 4,
 "nbformat_minor": 2
}
