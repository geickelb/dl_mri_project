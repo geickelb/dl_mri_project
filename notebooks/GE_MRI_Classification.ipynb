{
 "cells": [
  {
   "cell_type": "code",
   "execution_count": 256,
   "metadata": {},
   "outputs": [],
   "source": [
    "import numpy as np\n",
    "import os\n",
    "import glob\n",
    "import cv2 \n",
    "import matplotlib.pyplot as plt\n",
    "%matplotlib inline"
   ]
  },
  {
   "cell_type": "code",
   "execution_count": 221,
   "metadata": {},
   "outputs": [],
   "source": [
    "date=\"05092019\" #defining the date for saving files later\n",
    "wd= os.getcwd()"
   ]
  },
  {
   "cell_type": "code",
   "execution_count": 233,
   "metadata": {},
   "outputs": [],
   "source": [
    "allyes=glob.glob(\"../data/raw/yes/\"+'*.[pjJ][npP][gG]') #grabs all jpg and png files\n",
    "allno=glob.glob(\"../data/raw/no/\"+'*.[pjJ][npP][gG]')\n",
    "#can load with:\n",
    "X=np.load(\"../data/processed/%s_X.npy\"%(date))\n",
    "y=np.load(\"../data/processed/%s_y.npy\"%(date))"
   ]
  },
  {
   "cell_type": "code",
   "execution_count": 234,
   "metadata": {},
   "outputs": [],
   "source": [
    "resX=[]\n",
    "xres = 128\n",
    "yres = 128\n",
    "resizeval = (xres,yres)\n",
    "# resize and convert to grayscale\n",
    "for img in X:\n",
    "    img = cv2.resize(img,resizeval)\n",
    "    gray = cv2.cvtColor(img, cv2.COLOR_RGB2GRAY)\n",
    "    img_expanded = gray[:, :, np.newaxis]\n",
    "    #print(img_expanded.shape)\n",
    "\n",
    "#     print(gray.shape)\n",
    "#     gray = img.reshape((len(gray), -1)).T\n",
    "#     print(gray.shape)\n",
    "    resX.append(img_expanded)\n",
    "\n",
    "resX = np.array(resX)\n",
    "#resX = resX.reshape((len(resX), -1)).T\n",
    "#resX = resX.reshape(xres,yres, 1)\n",
    "\n",
    "X = resX\n",
    "#y = y.T\n",
    "y = y.astype('float32')"
   ]
  },
  {
   "cell_type": "code",
   "execution_count": 237,
   "metadata": {},
   "outputs": [
    {
     "data": {
      "text/plain": [
       "(253, 128, 128, 1)"
      ]
     },
     "execution_count": 237,
     "metadata": {},
     "output_type": "execute_result"
    }
   ],
   "source": [
    "X.shape"
   ]
  },
  {
   "cell_type": "code",
   "execution_count": 238,
   "metadata": {},
   "outputs": [
    {
     "data": {
      "text/plain": [
       "(253, 2)"
      ]
     },
     "execution_count": 238,
     "metadata": {},
     "output_type": "execute_result"
    }
   ],
   "source": [
    "y.shape"
   ]
  },
  {
   "cell_type": "code",
   "execution_count": 239,
   "metadata": {},
   "outputs": [],
   "source": [
    "from sklearn.model_selection import train_test_split\n",
    "train_X0,test_X,train_label0,test_label = train_test_split(X, y, test_size=0.2, random_state=13)\n",
    "train_X,valid_X,train_label,valid_label = train_test_split(train_X0, train_label0, test_size=0.2, random_state=13)"
   ]
  },
  {
   "cell_type": "code",
   "execution_count": 257,
   "metadata": {},
   "outputs": [],
   "source": [
    "import keras\n",
    "from keras.models import Sequential,Input,Model\n",
    "from keras import regularizers\n",
    "from keras.layers import Dense, Dropout, Flatten\n",
    "from keras.layers import Conv2D, MaxPooling2D\n",
    "from keras.layers.normalization import BatchNormalization\n",
    "from keras.layers.advanced_activations import LeakyReLU\n"
   ]
  },
  {
   "cell_type": "code",
   "execution_count": 144,
   "metadata": {},
   "outputs": [],
   "source": [
    "batch_size = 64\n",
    "epochs = 20\n",
    "num_classes = 2"
   ]
  },
  {
   "cell_type": "code",
   "execution_count": 118,
   "metadata": {},
   "outputs": [],
   "source": [
    "model = Sequential()\n",
    "model.add(Conv2D(32, kernel_size=(3, 3),activation='relu',input_shape=(xres,yres,1),padding='same', kernel_regularizer=regularizers.l1_l2()))#changed to relu\n",
    "model.add(LeakyReLU(alpha=0.1))\n",
    "model.add(MaxPooling2D((2, 2),padding='same'))\n",
    "model.add(Conv2D(64, (3, 3), activation='relu',padding='same', kernel_regularizer=regularizers.l1_l2()))#changed to relu\n",
    "model.add(LeakyReLU(alpha=0.1))\n",
    "model.add(MaxPooling2D(pool_size=(2, 2),padding='same'))\n",
    "model.add(Conv2D(128, (3, 3), activation='relu',padding='same', kernel_regularizer=regularizers.l1_l2()))#changed to relu\n",
    "model.add(LeakyReLU(alpha=0.1))                  \n",
    "model.add(MaxPooling2D(pool_size=(2, 2),padding='same'))\n",
    "model.add(Flatten())\n",
    "model.add(Dense(128, activation='relu', kernel_regularizer=regularizers.l1_l2())) #changed to relu\n",
    "model.add(LeakyReLU(alpha=0.1))                  \n",
    "model.add(Dense(num_classes, activation='softmax'))\n"
   ]
  },
  {
   "cell_type": "code",
   "execution_count": 119,
   "metadata": {},
   "outputs": [],
   "source": [
    "model.compile(loss=keras.losses.categorical_crossentropy, optimizer=keras.optimizers.Adam(),metrics=['accuracy'])"
   ]
  },
  {
   "cell_type": "code",
   "execution_count": 120,
   "metadata": {},
   "outputs": [
    {
     "name": "stdout",
     "output_type": "stream",
     "text": [
      "_________________________________________________________________\n",
      "Layer (type)                 Output Shape              Param #   \n",
      "=================================================================\n",
      "conv2d_47 (Conv2D)           (None, 50, 50, 32)        320       \n",
      "_________________________________________________________________\n",
      "leaky_re_lu_87 (LeakyReLU)   (None, 50, 50, 32)        0         \n",
      "_________________________________________________________________\n",
      "max_pooling2d_46 (MaxPooling (None, 25, 25, 32)        0         \n",
      "_________________________________________________________________\n",
      "conv2d_48 (Conv2D)           (None, 25, 25, 64)        18496     \n",
      "_________________________________________________________________\n",
      "leaky_re_lu_88 (LeakyReLU)   (None, 25, 25, 64)        0         \n",
      "_________________________________________________________________\n",
      "max_pooling2d_47 (MaxPooling (None, 13, 13, 64)        0         \n",
      "_________________________________________________________________\n",
      "conv2d_49 (Conv2D)           (None, 13, 13, 128)       73856     \n",
      "_________________________________________________________________\n",
      "leaky_re_lu_89 (LeakyReLU)   (None, 13, 13, 128)       0         \n",
      "_________________________________________________________________\n",
      "max_pooling2d_48 (MaxPooling (None, 7, 7, 128)         0         \n",
      "_________________________________________________________________\n",
      "flatten_16 (Flatten)         (None, 6272)              0         \n",
      "_________________________________________________________________\n",
      "dense_32 (Dense)             (None, 128)               802944    \n",
      "_________________________________________________________________\n",
      "leaky_re_lu_90 (LeakyReLU)   (None, 128)               0         \n",
      "_________________________________________________________________\n",
      "dense_33 (Dense)             (None, 2)                 258       \n",
      "=================================================================\n",
      "Total params: 895,874\n",
      "Trainable params: 895,874\n",
      "Non-trainable params: 0\n",
      "_________________________________________________________________\n"
     ]
    }
   ],
   "source": [
    "model.summary()"
   ]
  },
  {
   "cell_type": "code",
   "execution_count": 121,
   "metadata": {
    "scrolled": true
   },
   "outputs": [
    {
     "name": "stdout",
     "output_type": "stream",
     "text": [
      "Train on 161 samples, validate on 41 samples\n",
      "Epoch 1/20\n",
      "161/161 [==============================] - 2s 14ms/step - loss: 149.9758 - acc: 0.6273 - val_loss: 131.1307 - val_acc: 0.5610\n",
      "Epoch 2/20\n",
      "161/161 [==============================] - 0s 287us/step - loss: 124.7196 - acc: 0.6460 - val_loss: 108.0489 - val_acc: 0.5610\n",
      "Epoch 3/20\n",
      "161/161 [==============================] - 0s 277us/step - loss: 102.4020 - acc: 0.6460 - val_loss: 87.8324 - val_acc: 0.5610\n",
      "Epoch 4/20\n",
      "161/161 [==============================] - 0s 274us/step - loss: 82.9192 - acc: 0.6460 - val_loss: 70.2971 - val_acc: 0.5610\n",
      "Epoch 5/20\n",
      "161/161 [==============================] - 0s 274us/step - loss: 66.1043 - acc: 0.6460 - val_loss: 55.4521 - val_acc: 0.5610\n",
      "Epoch 6/20\n",
      "161/161 [==============================] - 0s 274us/step - loss: 51.9547 - acc: 0.6460 - val_loss: 43.1526 - val_acc: 0.5610\n",
      "Epoch 7/20\n",
      "161/161 [==============================] - 0s 283us/step - loss: 40.3228 - acc: 0.6460 - val_loss: 33.3649 - val_acc: 0.5610\n",
      "Epoch 8/20\n",
      "161/161 [==============================] - 0s 271us/step - loss: 31.1812 - acc: 0.6460 - val_loss: 25.9750 - val_acc: 0.5610\n",
      "Epoch 9/20\n",
      "161/161 [==============================] - 0s 277us/step - loss: 24.4544 - acc: 0.6460 - val_loss: 21.0372 - val_acc: 0.5610\n",
      "Epoch 10/20\n",
      "161/161 [==============================] - 0s 277us/step - loss: 20.1545 - acc: 0.6460 - val_loss: 18.4844 - val_acc: 0.5610\n",
      "Epoch 11/20\n",
      "161/161 [==============================] - 0s 262us/step - loss: 18.1396 - acc: 0.6460 - val_loss: 17.0662 - val_acc: 0.5610\n",
      "Epoch 12/20\n",
      "161/161 [==============================] - 0s 265us/step - loss: 16.3932 - acc: 0.6460 - val_loss: 14.5450 - val_acc: 0.5610\n",
      "Epoch 13/20\n",
      "161/161 [==============================] - 0s 262us/step - loss: 13.7341 - acc: 0.6460 - val_loss: 11.6880 - val_acc: 0.5610\n",
      "Epoch 14/20\n",
      "161/161 [==============================] - 0s 280us/step - loss: 10.9714 - acc: 0.6460 - val_loss: 9.3329 - val_acc: 0.5610\n",
      "Epoch 15/20\n",
      "161/161 [==============================] - 0s 271us/step - loss: 8.8009 - acc: 0.6460 - val_loss: 7.7824 - val_acc: 0.5610\n",
      "Epoch 16/20\n",
      "161/161 [==============================] - 0s 265us/step - loss: 7.5095 - acc: 0.6460 - val_loss: 6.8262 - val_acc: 0.5610\n",
      "Epoch 17/20\n",
      "161/161 [==============================] - 0s 268us/step - loss: 6.4809 - acc: 0.6460 - val_loss: 5.7403 - val_acc: 0.5610\n",
      "Epoch 18/20\n",
      "161/161 [==============================] - 0s 265us/step - loss: 5.4149 - acc: 0.6460 - val_loss: 4.7608 - val_acc: 0.5610\n",
      "Epoch 19/20\n",
      "161/161 [==============================] - 0s 256us/step - loss: 4.5291 - acc: 0.6460 - val_loss: 4.2026 - val_acc: 0.5610\n",
      "Epoch 20/20\n",
      "161/161 [==============================] - 0s 265us/step - loss: 4.0493 - acc: 0.6460 - val_loss: 3.7948 - val_acc: 0.5610\n"
     ]
    }
   ],
   "source": [
    "train = model.fit(train_X, train_label, batch_size=batch_size,epochs=epochs,verbose=1,validation_data=(valid_X, valid_label))"
   ]
  },
  {
   "cell_type": "code",
   "execution_count": 122,
   "metadata": {
    "scrolled": true
   },
   "outputs": [
    {
     "data": {
      "image/png": "[encoded data removed]",
      "text/plain": [
       "<Figure size 432x288 with 1 Axes>"
      ]
     },
     "metadata": {
      "needs_background": "light"
     },
     "output_type": "display_data"
    },
    {
     "data": {
      "image/png": "[encoded data removed]",
      "text/plain": [
       "<Figure size 432x288 with 1 Axes>"
      ]
     },
     "metadata": {
      "needs_background": "light"
     },
     "output_type": "display_data"
    }
   ],
   "source": [
    "accuracy = train.history['acc']\n",
    "val_accuracy = train.history['val_acc']\n",
    "loss = train.history['loss']\n",
    "val_loss = train.history['val_loss']\n",
    "epochs = range(len(accuracy))\n",
    "plt.plot(epochs, accuracy, 'bo', label='Training accuracy')\n",
    "plt.plot(epochs, val_accuracy, 'b', label='Validation accuracy')\n",
    "plt.title('Training and validation accuracy')\n",
    "plt.legend()\n",
    "plt.figure()\n",
    "plt.plot(epochs, loss, 'bo', label='Training loss')\n",
    "plt.plot(epochs, val_loss, 'b', label='Validation loss')\n",
    "plt.title('Training and validation loss')\n",
    "plt.legend()\n",
    "plt.show()"
   ]
  },
  {
   "cell_type": "code",
   "execution_count": 123,
   "metadata": {},
   "outputs": [],
   "source": [
    "test_eval = model.evaluate(test_X, test_label, verbose=0)"
   ]
  },
  {
   "cell_type": "code",
   "execution_count": 124,
   "metadata": {},
   "outputs": [
    {
     "name": "stdout",
     "output_type": "stream",
     "text": [
      "Test loss: 3.8017495286230947\n",
      "Test accuracy: 0.5490196119336521\n"
     ]
    }
   ],
   "source": [
    "print('Test loss:', test_eval[0])\n",
    "print('Test accuracy:', test_eval[1])"
   ]
  },
  {
   "cell_type": "markdown",
   "metadata": {},
   "source": [
    "# testing lower L1 terms"
   ]
  },
  {
   "cell_type": "code",
   "execution_count": 41,
   "metadata": {},
   "outputs": [],
   "source": [
    "from sklearn.model_selection import train_test_split\n",
    "train_X0,test_X,train_label0,test_label = train_test_split(X, y, test_size=0.2, random_state=13)\n",
    "train_X,valid_X,train_label,valid_label = train_test_split(train_X0, train_label0, test_size=0.2, random_state=13)\n",
    "batch_size = 64\n",
    "epochs = 20\n",
    "num_classes = 2"
   ]
  },
  {
   "cell_type": "code",
   "execution_count": 42,
   "metadata": {},
   "outputs": [],
   "source": [
    "model = Sequential()\n",
    "model.add(Conv2D(32, kernel_size=(3, 3),activation='linear',input_shape=(xres,yres,1),padding='same', kernel_regularizer=regularizers.l1(0.1)))\n",
    "model.add(LeakyReLU(alpha=0.1))\n",
    "model.add(MaxPooling2D((2, 2),padding='same'))\n",
    "model.add(Conv2D(64, (3, 3), activation='linear',padding='same', kernel_regularizer=regularizers.l1(0.1)))\n",
    "model.add(LeakyReLU(alpha=0.1))\n",
    "model.add(MaxPooling2D(pool_size=(2, 2),padding='same'))\n",
    "model.add(Conv2D(128, (3, 3), activation='linear',padding='same', kernel_regularizer=regularizers.l1(0.1)))\n",
    "model.add(LeakyReLU(alpha=0.1))                  \n",
    "model.add(MaxPooling2D(pool_size=(2, 2),padding='same'))\n",
    "model.add(Flatten())\n",
    "model.add(Dense(128, activation='linear'))\n",
    "model.add(LeakyReLU(alpha=0.1))                  \n",
    "model.add(Dense(num_classes, activation='softmax'))\n"
   ]
  },
  {
   "cell_type": "code",
   "execution_count": 43,
   "metadata": {},
   "outputs": [
    {
     "name": "stdout",
     "output_type": "stream",
     "text": [
      "Train on 161 samples, validate on 41 samples\n",
      "Epoch 1/20\n",
      "161/161 [==============================] - 1s 5ms/step - loss: 290.2860 - acc: 0.6460 - val_loss: 270.8055 - val_acc: 0.5610\n",
      "Epoch 2/20\n",
      "161/161 [==============================] - 0s 262us/step - loss: 263.8355 - acc: 0.6460 - val_loss: 245.4100 - val_acc: 0.5610\n",
      "Epoch 3/20\n",
      "161/161 [==============================] - 0s 256us/step - loss: 238.8404 - acc: 0.6460 - val_loss: 221.5133 - val_acc: 0.5610\n",
      "Epoch 4/20\n",
      "161/161 [==============================] - 0s 240us/step - loss: 215.2987 - acc: 0.6460 - val_loss: 198.9474 - val_acc: 0.5610\n",
      "Epoch 5/20\n",
      "161/161 [==============================] - 0s 250us/step - loss: 193.0943 - acc: 0.6460 - val_loss: 177.7596 - val_acc: 0.5610\n",
      "Epoch 6/20\n",
      "161/161 [==============================] - 0s 296us/step - loss: 172.2953 - acc: 0.6460 - val_loss: 157.8972 - val_acc: 0.5854\n",
      "Epoch 7/20\n",
      "161/161 [==============================] - 0s 287us/step - loss: 152.7910 - acc: 0.6522 - val_loss: 139.3456 - val_acc: 0.5854\n",
      "Epoch 8/20\n",
      "161/161 [==============================] - 0s 274us/step - loss: 134.5542 - acc: 0.6460 - val_loss: 121.9865 - val_acc: 0.5610\n",
      "Epoch 9/20\n",
      "161/161 [==============================] - 0s 262us/step - loss: 117.5200 - acc: 0.6460 - val_loss: 105.9206 - val_acc: 0.5610\n",
      "Epoch 10/20\n",
      "161/161 [==============================] - 0s 271us/step - loss: 101.7941 - acc: 0.6460 - val_loss: 91.1092 - val_acc: 0.5610\n",
      "Epoch 11/20\n",
      "161/161 [==============================] - 0s 256us/step - loss: 87.3308 - acc: 0.6460 - val_loss: 77.5656 - val_acc: 0.5610\n",
      "Epoch 12/20\n",
      "161/161 [==============================] - 0s 262us/step - loss: 74.1426 - acc: 0.6460 - val_loss: 65.3627 - val_acc: 0.5610\n",
      "Epoch 13/20\n",
      "161/161 [==============================] - 0s 234us/step - loss: 62.2746 - acc: 0.6460 - val_loss: 54.4053 - val_acc: 0.5610\n",
      "Epoch 14/20\n",
      "161/161 [==============================] - 0s 222us/step - loss: 51.6819 - acc: 0.6460 - val_loss: 44.7767 - val_acc: 0.5610\n",
      "Epoch 15/20\n",
      "161/161 [==============================] - 0s 237us/step - loss: 42.3974 - acc: 0.6460 - val_loss: 36.4506 - val_acc: 0.5610\n",
      "Epoch 16/20\n",
      "161/161 [==============================] - 0s 231us/step - loss: 34.4066 - acc: 0.6460 - val_loss: 29.3379 - val_acc: 0.5610\n",
      "Epoch 17/20\n",
      "161/161 [==============================] - 0s 231us/step - loss: 27.6598 - acc: 0.6460 - val_loss: 23.6723 - val_acc: 0.5610\n",
      "Epoch 18/20\n",
      "161/161 [==============================] - 0s 225us/step - loss: 22.3482 - acc: 0.6460 - val_loss: 19.2309 - val_acc: 0.5610\n",
      "Epoch 19/20\n",
      "161/161 [==============================] - 0s 240us/step - loss: 18.2352 - acc: 0.6460 - val_loss: 16.0959 - val_acc: 0.5610\n",
      "Epoch 20/20\n",
      "161/161 [==============================] - 0s 225us/step - loss: 15.4893 - acc: 0.6460 - val_loss: 14.1903 - val_acc: 0.5610\n"
     ]
    }
   ],
   "source": [
    "model.compile(loss=keras.losses.categorical_crossentropy, optimizer=keras.optimizers.Adam(),metrics=['accuracy'])\n",
    "train1 = model.fit(train_X, train_label, batch_size=batch_size,epochs=epochs,verbose=1,validation_data=(valid_X, valid_label))"
   ]
  },
  {
   "cell_type": "code",
   "execution_count": 44,
   "metadata": {},
   "outputs": [
    {
     "data": {
      "image/png": "[encoded data removed]",
      "text/plain": [
       "<Figure size 432x288 with 1 Axes>"
      ]
     },
     "metadata": {
      "needs_background": "light"
     },
     "output_type": "display_data"
    },
    {
     "data": {
      "image/png": "[encoded data removed]",
      "text/plain": [
       "<Figure size 432x288 with 1 Axes>"
      ]
     },
     "metadata": {
      "needs_background": "light"
     },
     "output_type": "display_data"
    }
   ],
   "source": [
    "accuracy = train1.history['acc']\n",
    "val_accuracy = train1.history['val_acc']\n",
    "loss = train1.history['loss']\n",
    "val_loss = train1.history['val_loss']\n",
    "epochs = range(len(accuracy))\n",
    "plt.plot(epochs, accuracy, 'bo', label='Training accuracy')\n",
    "plt.plot(epochs, val_accuracy, 'b', label='Validation accuracy')\n",
    "plt.title('Training and validation accuracy')\n",
    "plt.legend()\n",
    "plt.figure()\n",
    "plt.plot(epochs, loss, 'bo', label='Training loss')\n",
    "plt.plot(epochs, val_loss, 'b', label='Validation loss')\n",
    "plt.title('Training and validation loss')\n",
    "plt.legend()\n",
    "plt.show()"
   ]
  },
  {
   "cell_type": "code",
   "execution_count": 45,
   "metadata": {},
   "outputs": [
    {
     "name": "stdout",
     "output_type": "stream",
     "text": [
      "Test loss: 14.196929146261777\n",
      "Test accuracy: 0.5490196119336521\n"
     ]
    }
   ],
   "source": [
    "test_eval = model.evaluate(test_X, test_label, verbose=0)\n",
    "print('Test loss:', test_eval[0])\n",
    "print('Test accuracy:', test_eval[1])"
   ]
  },
  {
   "cell_type": "code",
   "execution_count": null,
   "metadata": {},
   "outputs": [],
   "source": []
  },
  {
   "cell_type": "code",
   "execution_count": null,
   "metadata": {},
   "outputs": [],
   "source": []
  },
  {
   "cell_type": "code",
   "execution_count": null,
   "metadata": {},
   "outputs": [],
   "source": []
  },
  {
   "cell_type": "markdown",
   "metadata": {},
   "source": [
    "# building a vgg16  network loaded like in lab 3-1"
   ]
  },
  {
   "cell_type": "code",
   "execution_count": 85,
   "metadata": {},
   "outputs": [],
   "source": [
    "def build_model_vgg16_1(shape,n_cls): # functional model\n",
    "    img_input = Input(shape=shape)\n",
    "    # Block 1\n",
    "    x = LeakyReLU(0.2)(Conv2D(64, (3, 3), padding='same', name='block1_conv1')(img_input))\n",
    "    x = LeakyReLU(0.2)(Conv2D(64, (3, 3), padding='same', name='block1_conv2')(x))\n",
    "    x = MaxPooling2D((2, 2), strides=(2, 2), name='block1_pool')(x)\n",
    "    x = BatchNormalization()(x)\n",
    "    # Block 2\n",
    "    x = LeakyReLU(0.2)(Conv2D(128, (3, 3), padding='same', name='block2_conv1')(x))\n",
    "    x = LeakyReLU(0.2)(Conv2D(128, (3, 3), padding='same', name='block2_conv2')(x))\n",
    "    x = MaxPooling2D((2, 2), strides=(2, 2), name='block2_pool')(x)\n",
    "    x = BatchNormalization()(x)\n",
    "    # Block 3\n",
    "    x = LeakyReLU(0.2)(Conv2D(256, (3, 3), padding='same', name='block3_conv1')(x))\n",
    "    x = LeakyReLU(0.2)(Conv2D(256, (3, 3), padding='same', name='block3_conv2')(x))\n",
    "    x = LeakyReLU(0.2)(Conv2D(256, (3, 3), padding='same', name='block3_conv3')(x))\n",
    "    x = MaxPooling2D((2, 2), strides=(2, 2), name='block3_pool')(x)\n",
    "    x = BatchNormalization()(x)\n",
    "    # Block 4\n",
    "    x = LeakyReLU(0.2)(Conv2D(512, (3, 3), padding='same', name='block4_conv1')(x))\n",
    "    x = LeakyReLU(0.2)(Conv2D(512, (3, 3), padding='same', name='block4_conv2')(x))\n",
    "    x = LeakyReLU(0.2)(Conv2D(512, (3, 3), padding='same', name='block4_conv3')(x))\n",
    "    x = MaxPooling2D((2, 2), strides=(2, 2), name='block4_pool')(x)\n",
    "    x = BatchNormalization()(x)\n",
    "    # Block 5\n",
    "    x = LeakyReLU(0.2)(Conv2D(512, (3, 3), padding='same', name='block5_conv1')(x))\n",
    "    x = LeakyReLU(0.2)(Conv2D(512, (3, 3), padding='same', name='block5_conv2')(x))\n",
    "    x = LeakyReLU(0.2)(Conv2D(512, (3, 3), padding='same', name='block5_conv3')(x))\n",
    "    x = MaxPooling2D((2, 2), strides=(2, 2), name='block5_pool')(x)\n",
    "    x = BatchNormalization()(x)\n",
    "    # output layer\n",
    "    x = Flatten(name='flatten')(x)\n",
    "    x = Dense(512, activation='relu', kernel_regularizer=regularizers.l1_l2(0.01,0.01))(x)\n",
    "    x = Dropout(0.5)(x)\n",
    "    x = Dense(n_cls, activation='softmax', name='predictions')(x)\n",
    "\n",
    "    inputs = img_input\n",
    "    model = Model(inputs, x, name='vgg16') \n",
    "    return model\n",
    "\n",
    "def build_model_vgg16_2(shape,n_cls): # sequential model\n",
    "    # build model \n",
    "    model = Sequential()\n",
    "    # block 1 \n",
    "    model.add(Conv2D(64, (3, 3), padding='same',input_shape=shape,activation='relu',kernel_regularizer=regularizers.l2()))\n",
    "    model.add(BatchNormalization())\n",
    "    #model.add(Dropout(0.3))\n",
    "    model.add(Conv2D(64, (3, 3), padding='same',activation='relu',kernel_regularizer=regularizers.l2()))\n",
    "    model.add(BatchNormalization())\n",
    "    model.add(MaxPooling2D(pool_size=(2, 2)))   \n",
    "    # block 2\n",
    "    model.add(Conv2D(128, (3, 3), padding='same',activation='relu',kernel_regularizer=regularizers.l2()))\n",
    "    model.add(BatchNormalization())\n",
    "    model.add(Dropout(0.4))\n",
    "    model.add(Conv2D(128, (3, 3), padding='same',activation='relu',kernel_regularizer=regularizers.l2()))\n",
    "    model.add(BatchNormalization())\n",
    "    model.add(MaxPooling2D(pool_size=(2, 2))) \n",
    "    # block 3\n",
    "    model.add(Conv2D(256, (3, 3), padding='same',activation='relu',kernel_regularizer=regularizers.l2()))\n",
    "    model.add(BatchNormalization())\n",
    "    model.add(Dropout(0.4))\n",
    "    model.add(Conv2D(256, (3, 3), padding='same',activation='relu',kernel_regularizer=regularizers.l2()))\n",
    "    model.add(BatchNormalization())\n",
    "    model.add(Dropout(0.4))\n",
    "    model.add(Conv2D(256, (3, 3), padding='same',activation='relu',kernel_regularizer=regularizers.l2()))\n",
    "    model.add(BatchNormalization())\n",
    "    model.add(Dropout(0.4))\n",
    "    model.add(MaxPooling2D(pool_size=(2, 2)))    \n",
    "    # block 4\n",
    "    model.add(Conv2D(512, (3, 3), padding='same',activation='relu',kernel_regularizer=regularizers.l2()))\n",
    "    model.add(BatchNormalization())\n",
    "    model.add(Dropout(0.4))\n",
    "    model.add(Conv2D(512, (3, 3), padding='same',activation='relu',kernel_regularizer=regularizers.l2()))\n",
    "    model.add(BatchNormalization())\n",
    "    model.add(Dropout(0.4))\n",
    "    model.add(Conv2D(512, (3, 3), padding='same',activation='relu',kernel_regularizer=regularizers.l2()))\n",
    "    model.add(BatchNormalization())\n",
    "    model.add(Dropout(0.4))\n",
    "    model.add(MaxPooling2D(pool_size=(2, 2)))    \n",
    "    # fc layer\n",
    "    model.add(Flatten())\n",
    "    model.add(Dense(512,activation='relu',kernel_regularizer=regularizers.l2()))\n",
    "    model.add(BatchNormalization())\n",
    "    model.add(Dropout(0.4))\n",
    "    # output layer\n",
    "    model.add(Dense(n_cls,activation='softmax'))\n",
    "    return model  "
   ]
  },
  {
   "cell_type": "code",
   "execution_count": 86,
   "metadata": {},
   "outputs": [
    {
     "name": "stdout",
     "output_type": "stream",
     "text": [
      "WARNING:tensorflow:From C:\\Users\\garrett\\Anaconda3\\envs\\tf_gpu\\lib\\site-packages\\keras\\backend\\tensorflow_backend.py:3445: calling dropout (from tensorflow.python.ops.nn_ops) with keep_prob is deprecated and will be removed in a future version.\n",
      "Instructions for updating:\n",
      "Please use `rate` instead of `keep_prob`. Rate should be set to `rate = 1 - keep_prob`.\n"
     ]
    }
   ],
   "source": [
    "model= build_model_vgg16_1(shape=(50,50,1), n_cls=2)"
   ]
  },
  {
   "cell_type": "code",
   "execution_count": 88,
   "metadata": {},
   "outputs": [],
   "source": [
    "from sklearn.model_selection import train_test_split\n",
    "train_X0,test_X,train_label0,test_label = train_test_split(X, y, test_size=0.2, random_state=13)\n",
    "train_X,valid_X,train_label,valid_label = train_test_split(train_X0, train_label0, test_size=0.2, random_state=13)\n",
    "batch_size = 64\n",
    "epochs = 20\n",
    "num_classes = 2"
   ]
  },
  {
   "cell_type": "code",
   "execution_count": 89,
   "metadata": {},
   "outputs": [
    {
     "name": "stdout",
     "output_type": "stream",
     "text": [
      "Train on 161 samples, validate on 41 samples\n",
      "Epoch 1/20\n",
      "161/161 [==============================] - 6s 38ms/step - loss: 105.2279 - acc: 0.5031 - val_loss: 105.0358 - val_acc: 0.5854\n",
      "Epoch 2/20\n",
      "161/161 [==============================] - 0s 2ms/step - loss: 98.2604 - acc: 0.5404 - val_loss: 98.7879 - val_acc: 0.5854\n",
      "Epoch 3/20\n",
      "161/161 [==============================] - 0s 2ms/step - loss: 91.6395 - acc: 0.5776 - val_loss: 92.6444 - val_acc: 0.5854\n",
      "Epoch 4/20\n",
      "161/161 [==============================] - 0s 2ms/step - loss: 85.4888 - acc: 0.6522 - val_loss: 86.6773 - val_acc: 0.6098\n",
      "Epoch 5/20\n",
      "161/161 [==============================] - 0s 2ms/step - loss: 79.5938 - acc: 0.5901 - val_loss: 80.0027 - val_acc: 0.6098\n",
      "Epoch 6/20\n",
      "161/161 [==============================] - 0s 2ms/step - loss: 73.8638 - acc: 0.6025 - val_loss: 72.3436 - val_acc: 0.6341\n",
      "Epoch 7/20\n",
      "161/161 [==============================] - 0s 2ms/step - loss: 68.1814 - acc: 0.6398 - val_loss: 68.8360 - val_acc: 0.6098\n",
      "Epoch 8/20\n",
      "161/161 [==============================] - 0s 2ms/step - loss: 62.9097 - acc: 0.6770 - val_loss: 61.9702 - val_acc: 0.5610\n",
      "Epoch 9/20\n",
      "161/161 [==============================] - 0s 2ms/step - loss: 57.7568 - acc: 0.6398 - val_loss: 54.3792 - val_acc: 0.6585\n",
      "Epoch 10/20\n",
      "161/161 [==============================] - 0s 2ms/step - loss: 52.7803 - acc: 0.6832 - val_loss: 52.2195 - val_acc: 0.5366\n",
      "Epoch 11/20\n",
      "161/161 [==============================] - 0s 2ms/step - loss: 48.1162 - acc: 0.7143 - val_loss: 47.5561 - val_acc: 0.5366\n",
      "Epoch 12/20\n",
      "161/161 [==============================] - 0s 2ms/step - loss: 43.6602 - acc: 0.7205 - val_loss: 40.7124 - val_acc: 0.5122\n",
      "Epoch 13/20\n",
      "161/161 [==============================] - 0s 2ms/step - loss: 39.4373 - acc: 0.7019 - val_loss: 37.1069 - val_acc: 0.5366\n",
      "Epoch 14/20\n",
      "161/161 [==============================] - 0s 2ms/step - loss: 35.3955 - acc: 0.7391 - val_loss: 33.9579 - val_acc: 0.5610\n",
      "Epoch 15/20\n",
      "161/161 [==============================] - 0s 2ms/step - loss: 31.5957 - acc: 0.7640 - val_loss: 29.5294 - val_acc: 0.6585\n",
      "Epoch 16/20\n",
      "161/161 [==============================] - 0s 2ms/step - loss: 28.0410 - acc: 0.7516 - val_loss: 25.7598 - val_acc: 0.7073\n",
      "Epoch 17/20\n",
      "161/161 [==============================] - 0s 2ms/step - loss: 24.7323 - acc: 0.8012 - val_loss: 22.8189 - val_acc: 0.6829\n",
      "Epoch 18/20\n",
      "161/161 [==============================] - 0s 2ms/step - loss: 21.6977 - acc: 0.8137 - val_loss: 19.7776 - val_acc: 0.6585\n",
      "Epoch 19/20\n",
      "161/161 [==============================] - 0s 2ms/step - loss: 18.8282 - acc: 0.8323 - val_loss: 17.2268 - val_acc: 0.6341\n",
      "Epoch 20/20\n",
      "161/161 [==============================] - 0s 2ms/step - loss: 16.2644 - acc: 0.8075 - val_loss: 14.7903 - val_acc: 0.6341\n"
     ]
    }
   ],
   "source": [
    "model.compile(loss=keras.losses.categorical_crossentropy, optimizer=keras.optimizers.Adam(),metrics=['accuracy'])\n",
    "train1 = model.fit(train_X, train_label, batch_size=batch_size,epochs=epochs,verbose=1,validation_data=(valid_X, valid_label))"
   ]
  },
  {
   "cell_type": "code",
   "execution_count": 90,
   "metadata": {},
   "outputs": [
    {
     "data": {
      "image/png": "[encoded data removed]",
      "text/plain": [
       "<Figure size 432x288 with 1 Axes>"
      ]
     },
     "metadata": {
      "needs_background": "light"
     },
     "output_type": "display_data"
    },
    {
     "data": {
      "image/png": "[encoded data removed]",
      "text/plain": [
       "<Figure size 432x288 with 1 Axes>"
      ]
     },
     "metadata": {
      "needs_background": "light"
     },
     "output_type": "display_data"
    }
   ],
   "source": [
    "accuracy = train1.history['acc']\n",
    "val_accuracy = train1.history['val_acc']\n",
    "loss = train1.history['loss']\n",
    "val_loss = train1.history['val_loss']\n",
    "epochs = range(len(accuracy))\n",
    "plt.plot(epochs, accuracy, 'bo', label='Training accuracy')\n",
    "plt.plot(epochs, val_accuracy, 'b', label='Validation accuracy')\n",
    "plt.title('Training and validation accuracy')\n",
    "plt.legend()\n",
    "plt.figure()\n",
    "plt.plot(epochs, loss, 'bo', label='Training loss')\n",
    "plt.plot(epochs, val_loss, 'b', label='Validation loss')\n",
    "plt.title('Training and validation loss')\n",
    "plt.legend()\n",
    "plt.show()"
   ]
  },
  {
   "cell_type": "code",
   "execution_count": 91,
   "metadata": {},
   "outputs": [
    {
     "name": "stdout",
     "output_type": "stream",
     "text": [
      "Test loss: 14.822578374077292\n",
      "Test accuracy: 0.7058823435914283\n"
     ]
    }
   ],
   "source": [
    "test_eval = model.evaluate(test_X, test_label, verbose=0)\n",
    "print('Test loss:', test_eval[0])\n",
    "print('Test accuracy:', test_eval[1])"
   ]
  },
  {
   "cell_type": "code",
   "execution_count": null,
   "metadata": {},
   "outputs": [],
   "source": []
  },
  {
   "cell_type": "code",
   "execution_count": null,
   "metadata": {},
   "outputs": [],
   "source": []
  },
  {
   "cell_type": "code",
   "execution_count": null,
   "metadata": {},
   "outputs": [],
   "source": []
  },
  {
   "cell_type": "code",
   "execution_count": 78,
   "metadata": {},
   "outputs": [
    {
     "name": "stdout",
     "output_type": "stream",
     "text": [
      "Downloading data from https://github.com/fchollet/deep-learning-models/releases/download/v0.1/vgg16_weights_tf_dim_ordering_tf_kernels_notop.h5\n",
      "58892288/58889256 [==============================] - 6s 0us/step\n"
     ]
    },
    {
     "ename": "FileNotFoundError",
     "evalue": "[Errno 2] No such file or directory: 'elephant.jpg'",
     "output_type": "error",
     "traceback": [
      "\u001b[1;31m---------------------------------------------------------------------------\u001b[0m",
      "\u001b[1;31mFileNotFoundError\u001b[0m                         Traceback (most recent call last)",
      "\u001b[1;32m<ipython-input-78-cf730e71f43c>\u001b[0m in \u001b[0;36m<module>\u001b[1;34m\u001b[0m\n\u001b[0;32m      7\u001b[0m \u001b[1;33m\u001b[0m\u001b[0m\n\u001b[0;32m      8\u001b[0m \u001b[0mimg_path\u001b[0m \u001b[1;33m=\u001b[0m \u001b[1;34m'elephant.jpg'\u001b[0m\u001b[1;33m\u001b[0m\u001b[1;33m\u001b[0m\u001b[0m\n\u001b[1;32m----> 9\u001b[1;33m \u001b[0mimg\u001b[0m \u001b[1;33m=\u001b[0m \u001b[0mimage\u001b[0m\u001b[1;33m.\u001b[0m\u001b[0mload_img\u001b[0m\u001b[1;33m(\u001b[0m\u001b[0mimg_path\u001b[0m\u001b[1;33m,\u001b[0m \u001b[0mtarget_size\u001b[0m\u001b[1;33m=\u001b[0m\u001b[1;33m(\u001b[0m\u001b[1;36m224\u001b[0m\u001b[1;33m,\u001b[0m \u001b[1;36m224\u001b[0m\u001b[1;33m)\u001b[0m\u001b[1;33m)\u001b[0m\u001b[1;33m\u001b[0m\u001b[1;33m\u001b[0m\u001b[0m\n\u001b[0m\u001b[0;32m     10\u001b[0m \u001b[0mx\u001b[0m \u001b[1;33m=\u001b[0m \u001b[0mimage\u001b[0m\u001b[1;33m.\u001b[0m\u001b[0mimg_to_array\u001b[0m\u001b[1;33m(\u001b[0m\u001b[0mimg\u001b[0m\u001b[1;33m)\u001b[0m\u001b[1;33m\u001b[0m\u001b[1;33m\u001b[0m\u001b[0m\n\u001b[0;32m     11\u001b[0m \u001b[0mx\u001b[0m \u001b[1;33m=\u001b[0m \u001b[0mnp\u001b[0m\u001b[1;33m.\u001b[0m\u001b[0mexpand_dims\u001b[0m\u001b[1;33m(\u001b[0m\u001b[0mx\u001b[0m\u001b[1;33m,\u001b[0m \u001b[0maxis\u001b[0m\u001b[1;33m=\u001b[0m\u001b[1;36m0\u001b[0m\u001b[1;33m)\u001b[0m\u001b[1;33m\u001b[0m\u001b[1;33m\u001b[0m\u001b[0m\n",
      "\u001b[1;32m~\\Anaconda3\\envs\\tf_gpu\\lib\\site-packages\\keras_preprocessing\\image\\utils.py\u001b[0m in \u001b[0;36mload_img\u001b[1;34m(path, grayscale, color_mode, target_size, interpolation)\u001b[0m\n\u001b[0;32m    102\u001b[0m         raise ImportError('Could not import PIL.Image. '\n\u001b[0;32m    103\u001b[0m                           'The use of `array_to_img` requires PIL.')\n\u001b[1;32m--> 104\u001b[1;33m     \u001b[0mimg\u001b[0m \u001b[1;33m=\u001b[0m \u001b[0mpil_image\u001b[0m\u001b[1;33m.\u001b[0m\u001b[0mopen\u001b[0m\u001b[1;33m(\u001b[0m\u001b[0mpath\u001b[0m\u001b[1;33m)\u001b[0m\u001b[1;33m\u001b[0m\u001b[1;33m\u001b[0m\u001b[0m\n\u001b[0m\u001b[0;32m    105\u001b[0m     \u001b[1;32mif\u001b[0m \u001b[0mcolor_mode\u001b[0m \u001b[1;33m==\u001b[0m \u001b[1;34m'grayscale'\u001b[0m\u001b[1;33m:\u001b[0m\u001b[1;33m\u001b[0m\u001b[1;33m\u001b[0m\u001b[0m\n\u001b[0;32m    106\u001b[0m         \u001b[1;32mif\u001b[0m \u001b[0mimg\u001b[0m\u001b[1;33m.\u001b[0m\u001b[0mmode\u001b[0m \u001b[1;33m!=\u001b[0m \u001b[1;34m'L'\u001b[0m\u001b[1;33m:\u001b[0m\u001b[1;33m\u001b[0m\u001b[1;33m\u001b[0m\u001b[0m\n",
      "\u001b[1;32m~\\Anaconda3\\envs\\tf_gpu\\lib\\site-packages\\PIL\\Image.py\u001b[0m in \u001b[0;36mopen\u001b[1;34m(fp, mode)\u001b[0m\n\u001b[0;32m   2650\u001b[0m \u001b[1;33m\u001b[0m\u001b[0m\n\u001b[0;32m   2651\u001b[0m     \u001b[1;32mif\u001b[0m \u001b[0mfilename\u001b[0m\u001b[1;33m:\u001b[0m\u001b[1;33m\u001b[0m\u001b[1;33m\u001b[0m\u001b[0m\n\u001b[1;32m-> 2652\u001b[1;33m         \u001b[0mfp\u001b[0m \u001b[1;33m=\u001b[0m \u001b[0mbuiltins\u001b[0m\u001b[1;33m.\u001b[0m\u001b[0mopen\u001b[0m\u001b[1;33m(\u001b[0m\u001b[0mfilename\u001b[0m\u001b[1;33m,\u001b[0m \u001b[1;34m\"rb\"\u001b[0m\u001b[1;33m)\u001b[0m\u001b[1;33m\u001b[0m\u001b[1;33m\u001b[0m\u001b[0m\n\u001b[0m\u001b[0;32m   2653\u001b[0m         \u001b[0mexclusive_fp\u001b[0m \u001b[1;33m=\u001b[0m \u001b[1;32mTrue\u001b[0m\u001b[1;33m\u001b[0m\u001b[1;33m\u001b[0m\u001b[0m\n\u001b[0;32m   2654\u001b[0m \u001b[1;33m\u001b[0m\u001b[0m\n",
      "\u001b[1;31mFileNotFoundError\u001b[0m: [Errno 2] No such file or directory: 'elephant.jpg'"
     ]
    }
   ],
   "source": [
    "# from keras.applications.vgg16 import VGG16\n",
    "# from keras.preprocessing import image\n",
    "# from keras.applications.vgg16 import preprocess_input\n",
    "# import numpy as np\n",
    "\n",
    "# model = VGG16(weights='imagenet', include_top=False)\n",
    "\n",
    "# #img_path = 'elephant.jpg'\n",
    "# #img = image.load_img(img_path, target_size=(224, 224))\n",
    "# #x = image.img_to_array(img)\n",
    "# #x = np.expand_dims(x, axis=0)\n",
    "# #x = preprocess_input(x)\n",
    "\n",
    "# train = model.fit(train_X, train_label, batch_size=batch_size,epochs=epochs,verbose=1,validation_data=(valid_X, valid_label))\n",
    "\n",
    "# #features = model.predict(x)"
   ]
  },
  {
   "cell_type": "code",
   "execution_count": 80,
   "metadata": {},
   "outputs": [
    {
     "ename": "ValueError",
     "evalue": "Error when checking input: expected input_1 to have shape (None, None, 3) but got array with shape (50, 50, 1)",
     "output_type": "error",
     "traceback": [
      "\u001b[1;31m---------------------------------------------------------------------------\u001b[0m",
      "\u001b[1;31mValueError\u001b[0m                                Traceback (most recent call last)",
      "\u001b[1;32m<ipython-input-80-c251677fe20c>\u001b[0m in \u001b[0;36m<module>\u001b[1;34m\u001b[0m\n\u001b[0;32m      1\u001b[0m \u001b[0mmodel\u001b[0m\u001b[1;33m.\u001b[0m\u001b[0mcompile\u001b[0m\u001b[1;33m(\u001b[0m\u001b[0mloss\u001b[0m\u001b[1;33m=\u001b[0m\u001b[0mkeras\u001b[0m\u001b[1;33m.\u001b[0m\u001b[0mlosses\u001b[0m\u001b[1;33m.\u001b[0m\u001b[0mcategorical_crossentropy\u001b[0m\u001b[1;33m,\u001b[0m \u001b[0moptimizer\u001b[0m\u001b[1;33m=\u001b[0m\u001b[0mkeras\u001b[0m\u001b[1;33m.\u001b[0m\u001b[0moptimizers\u001b[0m\u001b[1;33m.\u001b[0m\u001b[0mAdam\u001b[0m\u001b[1;33m(\u001b[0m\u001b[1;33m)\u001b[0m\u001b[1;33m,\u001b[0m\u001b[0mmetrics\u001b[0m\u001b[1;33m=\u001b[0m\u001b[1;33m[\u001b[0m\u001b[1;34m'accuracy'\u001b[0m\u001b[1;33m]\u001b[0m\u001b[1;33m)\u001b[0m\u001b[1;33m\u001b[0m\u001b[1;33m\u001b[0m\u001b[0m\n\u001b[1;32m----> 2\u001b[1;33m \u001b[0mtrain1\u001b[0m \u001b[1;33m=\u001b[0m \u001b[0mmodel\u001b[0m\u001b[1;33m.\u001b[0m\u001b[0mfit\u001b[0m\u001b[1;33m(\u001b[0m\u001b[0mtrain_X\u001b[0m\u001b[1;33m,\u001b[0m \u001b[0mtrain_label\u001b[0m\u001b[1;33m,\u001b[0m \u001b[0mbatch_size\u001b[0m\u001b[1;33m=\u001b[0m\u001b[0mbatch_size\u001b[0m\u001b[1;33m,\u001b[0m\u001b[0mepochs\u001b[0m\u001b[1;33m=\u001b[0m\u001b[0mepochs\u001b[0m\u001b[1;33m,\u001b[0m\u001b[0mverbose\u001b[0m\u001b[1;33m=\u001b[0m\u001b[1;36m1\u001b[0m\u001b[1;33m,\u001b[0m\u001b[0mvalidation_data\u001b[0m\u001b[1;33m=\u001b[0m\u001b[1;33m(\u001b[0m\u001b[0mvalid_X\u001b[0m\u001b[1;33m,\u001b[0m \u001b[0mvalid_label\u001b[0m\u001b[1;33m)\u001b[0m\u001b[1;33m)\u001b[0m\u001b[1;33m\u001b[0m\u001b[1;33m\u001b[0m\u001b[0m\n\u001b[0m",
      "\u001b[1;32m~\\Anaconda3\\envs\\tf_gpu\\lib\\site-packages\\keras\\engine\\training.py\u001b[0m in \u001b[0;36mfit\u001b[1;34m(self, x, y, batch_size, epochs, verbose, callbacks, validation_split, validation_data, shuffle, class_weight, sample_weight, initial_epoch, steps_per_epoch, validation_steps, **kwargs)\u001b[0m\n\u001b[0;32m    950\u001b[0m             \u001b[0msample_weight\u001b[0m\u001b[1;33m=\u001b[0m\u001b[0msample_weight\u001b[0m\u001b[1;33m,\u001b[0m\u001b[1;33m\u001b[0m\u001b[1;33m\u001b[0m\u001b[0m\n\u001b[0;32m    951\u001b[0m             \u001b[0mclass_weight\u001b[0m\u001b[1;33m=\u001b[0m\u001b[0mclass_weight\u001b[0m\u001b[1;33m,\u001b[0m\u001b[1;33m\u001b[0m\u001b[1;33m\u001b[0m\u001b[0m\n\u001b[1;32m--> 952\u001b[1;33m             batch_size=batch_size)\n\u001b[0m\u001b[0;32m    953\u001b[0m         \u001b[1;31m# Prepare validation data.\u001b[0m\u001b[1;33m\u001b[0m\u001b[1;33m\u001b[0m\u001b[1;33m\u001b[0m\u001b[0m\n\u001b[0;32m    954\u001b[0m         \u001b[0mdo_validation\u001b[0m \u001b[1;33m=\u001b[0m \u001b[1;32mFalse\u001b[0m\u001b[1;33m\u001b[0m\u001b[1;33m\u001b[0m\u001b[0m\n",
      "\u001b[1;32m~\\Anaconda3\\envs\\tf_gpu\\lib\\site-packages\\keras\\engine\\training.py\u001b[0m in \u001b[0;36m_standardize_user_data\u001b[1;34m(self, x, y, sample_weight, class_weight, check_array_lengths, batch_size)\u001b[0m\n\u001b[0;32m    749\u001b[0m             \u001b[0mfeed_input_shapes\u001b[0m\u001b[1;33m,\u001b[0m\u001b[1;33m\u001b[0m\u001b[1;33m\u001b[0m\u001b[0m\n\u001b[0;32m    750\u001b[0m             \u001b[0mcheck_batch_axis\u001b[0m\u001b[1;33m=\u001b[0m\u001b[1;32mFalse\u001b[0m\u001b[1;33m,\u001b[0m  \u001b[1;31m# Don't enforce the batch size.\u001b[0m\u001b[1;33m\u001b[0m\u001b[1;33m\u001b[0m\u001b[0m\n\u001b[1;32m--> 751\u001b[1;33m             exception_prefix='input')\n\u001b[0m\u001b[0;32m    752\u001b[0m \u001b[1;33m\u001b[0m\u001b[0m\n\u001b[0;32m    753\u001b[0m         \u001b[1;32mif\u001b[0m \u001b[0my\u001b[0m \u001b[1;32mis\u001b[0m \u001b[1;32mnot\u001b[0m \u001b[1;32mNone\u001b[0m\u001b[1;33m:\u001b[0m\u001b[1;33m\u001b[0m\u001b[1;33m\u001b[0m\u001b[0m\n",
      "\u001b[1;32m~\\Anaconda3\\envs\\tf_gpu\\lib\\site-packages\\keras\\engine\\training_utils.py\u001b[0m in \u001b[0;36mstandardize_input_data\u001b[1;34m(data, names, shapes, check_batch_axis, exception_prefix)\u001b[0m\n\u001b[0;32m    136\u001b[0m                             \u001b[1;34m': expected '\u001b[0m \u001b[1;33m+\u001b[0m \u001b[0mnames\u001b[0m\u001b[1;33m[\u001b[0m\u001b[0mi\u001b[0m\u001b[1;33m]\u001b[0m \u001b[1;33m+\u001b[0m \u001b[1;34m' to have shape '\u001b[0m \u001b[1;33m+\u001b[0m\u001b[1;33m\u001b[0m\u001b[1;33m\u001b[0m\u001b[0m\n\u001b[0;32m    137\u001b[0m                             \u001b[0mstr\u001b[0m\u001b[1;33m(\u001b[0m\u001b[0mshape\u001b[0m\u001b[1;33m)\u001b[0m \u001b[1;33m+\u001b[0m \u001b[1;34m' but got array with shape '\u001b[0m \u001b[1;33m+\u001b[0m\u001b[1;33m\u001b[0m\u001b[1;33m\u001b[0m\u001b[0m\n\u001b[1;32m--> 138\u001b[1;33m                             str(data_shape))\n\u001b[0m\u001b[0;32m    139\u001b[0m     \u001b[1;32mreturn\u001b[0m \u001b[0mdata\u001b[0m\u001b[1;33m\u001b[0m\u001b[1;33m\u001b[0m\u001b[0m\n\u001b[0;32m    140\u001b[0m \u001b[1;33m\u001b[0m\u001b[0m\n",
      "\u001b[1;31mValueError\u001b[0m: Error when checking input: expected input_1 to have shape (None, None, 3) but got array with shape (50, 50, 1)"
     ]
    }
   ],
   "source": [
    "# model.compile(loss=keras.losses.categorical_crossentropy, optimizer=keras.optimizers.Adam(),metrics=['accuracy'])\n",
    "# train1 = model.fit(train_X, train_label, batch_size=batch_size,epochs=epochs,verbose=1,validation_data=(valid_X, valid_label))"
   ]
  },
  {
   "cell_type": "code",
   "execution_count": null,
   "metadata": {},
   "outputs": [],
   "source": [
    "accuracy = train1.history['acc']\n",
    "val_accuracy = train1.history['val_acc']\n",
    "loss = train1.history['loss']\n",
    "val_loss = train1.history['val_loss']\n",
    "epochs = range(len(accuracy))\n",
    "plt.plot(epochs, accuracy, 'bo', label='Training accuracy')\n",
    "plt.plot(epochs, val_accuracy, 'b', label='Validation accuracy')\n",
    "plt.title('Training and validation accuracy')\n",
    "plt.legend()\n",
    "plt.figure()\n",
    "plt.plot(epochs, loss, 'bo', label='Training loss')\n",
    "plt.plot(epochs, val_loss, 'b', label='Validation loss')\n",
    "plt.title('Training and validation loss')\n",
    "plt.legend()\n",
    "plt.show()"
   ]
  },
  {
   "cell_type": "code",
   "execution_count": null,
   "metadata": {},
   "outputs": [],
   "source": [
    "test_eval = model.evaluate(test_X, test_label, verbose=0)\n",
    "print('Test loss:', test_eval[0])\n",
    "print('Test accuracy:', test_eval[1])"
   ]
  },
  {
   "cell_type": "code",
   "execution_count": null,
   "metadata": {},
   "outputs": [],
   "source": []
  },
  {
   "cell_type": "code",
   "execution_count": null,
   "metadata": {},
   "outputs": [],
   "source": []
  },
  {
   "cell_type": "code",
   "execution_count": null,
   "metadata": {},
   "outputs": [],
   "source": []
  },
  {
   "cell_type": "markdown",
   "metadata": {},
   "source": [
    "# unet model from: https://www.kaggle.com/keegil/keras-u-net-starter-lb-0-277"
   ]
  },
  {
   "cell_type": "code",
   "execution_count": null,
   "metadata": {},
   "outputs": [],
   "source": []
  },
  {
   "cell_type": "code",
   "execution_count": 142,
   "metadata": {},
   "outputs": [],
   "source": [
    "from sklearn.model_selection import train_test_split\n",
    "train_X0,test_X,train_label0,test_label = train_test_split(X, y, test_size=0.2, random_state=13)\n",
    "train_X,valid_X,train_label,valid_label = train_test_split(train_X0, train_label0, test_size=0.2, random_state=13)"
   ]
  },
  {
   "cell_type": "code",
   "execution_count": 143,
   "metadata": {},
   "outputs": [],
   "source": [
    "import keras\n",
    "from keras.models import Sequential,Input,Model\n",
    "from keras import regularizers\n",
    "from keras.layers import Dense, Dropout, Flatten\n",
    "from keras.layers import Conv2D, MaxPooling2D\n",
    "from keras.layers.normalization import BatchNormalization\n",
    "from keras.layers.advanced_activations import LeakyReLU\n"
   ]
  },
  {
   "cell_type": "code",
   "execution_count": 144,
   "metadata": {},
   "outputs": [],
   "source": [
    "batch_size = 64\n",
    "epochs = 20\n",
    "num_classes = 2"
   ]
  },
  {
   "cell_type": "code",
   "execution_count": 241,
   "metadata": {},
   "outputs": [],
   "source": [
    "def unet(shape): # functional model\n",
    "    from keras.layers.convolutional import Conv2D, Conv2DTranspose\n",
    "    from keras.layers.merge import concatenate\n",
    "    img_input = Input(shape=shape)\n",
    "\n",
    "\n",
    "    c1 = Conv2D(16, (3, 3), activation='elu', kernel_initializer='he_normal', padding='same') (img_input)\n",
    "    c1 = Dropout(0.1) (c1)\n",
    "    c1 = Conv2D(16, (3, 3), activation='elu', kernel_initializer='he_normal', padding='same') (c1)\n",
    "    p1 = MaxPooling2D((2, 2)) (c1)\n",
    "\n",
    "    c2 = Conv2D(32, (3, 3), activation='elu', kernel_initializer='he_normal', padding='same') (p1)\n",
    "    c2 = Dropout(0.1) (c2)\n",
    "    c2 = Conv2D(32, (3, 3), activation='elu', kernel_initializer='he_normal', padding='same') (c2)\n",
    "    p2 = MaxPooling2D((2, 2)) (c2)\n",
    "\n",
    "    c3 = Conv2D(64, (3, 3), activation='elu', kernel_initializer='he_normal', padding='same') (p2)\n",
    "    c3 = Dropout(0.2) (c3)\n",
    "    c3 = Conv2D(64, (3, 3), activation='elu', kernel_initializer='he_normal', padding='same') (c3)\n",
    "    p3 = MaxPooling2D((2, 2)) (c3)\n",
    "\n",
    "    c4 = Conv2D(128, (3, 3), activation='elu', kernel_initializer='he_normal', padding='same') (p3)\n",
    "    c4 = Dropout(0.2) (c4)\n",
    "    c4 = Conv2D(128, (3, 3), activation='elu', kernel_initializer='he_normal', padding='same') (c4)\n",
    "    p4 = MaxPooling2D(pool_size=(2, 2)) (c4)\n",
    "\n",
    "    c5 = Conv2D(256, (3, 3), activation='elu', kernel_initializer='he_normal', padding='same') (p4)\n",
    "    c5 = Dropout(0.3) (c5)\n",
    "    c5 = Conv2D(256, (3, 3), activation='elu', kernel_initializer='he_normal', padding='same') (c5)\n",
    "\n",
    "    u6 = Conv2DTranspose(128, (2, 2), strides=(2, 2), padding='same') (c5)\n",
    "    u6 = concatenate([u6, c4])\n",
    "    c6 = Conv2D(128, (3, 3), activation='elu', kernel_initializer='he_normal', padding='same') (u6)\n",
    "    c6 = Dropout(0.2) (c6)\n",
    "    c6 = Conv2D(128, (3, 3), activation='elu', kernel_initializer='he_normal', padding='same') (c6)\n",
    "\n",
    "    u7 = Conv2DTranspose(64, (2, 2), strides=(2, 2), padding='same') (c6)\n",
    "    u7 = concatenate([u7, c3])\n",
    "    c7 = Conv2D(64, (3, 3), activation='elu', kernel_initializer='he_normal', padding='same') (u7)\n",
    "    c7 = Dropout(0.2) (c7)\n",
    "    c7 = Conv2D(64, (3, 3), activation='elu', kernel_initializer='he_normal', padding='same') (c7)\n",
    "\n",
    "    u8 = Conv2DTranspose(32, (2, 2), strides=(2, 2), padding='same') (c7)\n",
    "    u8 = concatenate([u8, c2])\n",
    "    c8 = Conv2D(32, (3, 3), activation='elu', kernel_initializer='he_normal', padding='same') (u8)\n",
    "    c8 = Dropout(0.1) (c8)\n",
    "    c8 = Conv2D(32, (3, 3), activation='elu', kernel_initializer='he_normal', padding='same') (c8)\n",
    "\n",
    "    u9 = Conv2DTranspose(16, (2, 2), strides=(2, 2), padding='same') (c8)\n",
    "    u9 = concatenate([u9, c1], axis=3)\n",
    "    c9 = Conv2D(16, (3, 3), activation='elu', kernel_initializer='he_normal', padding='same') (u9)\n",
    "    c9 = Dropout(0.1) (c9)\n",
    "    c9 = Conv2D(16, (3, 3), activation='elu', kernel_initializer='he_normal', padding='same') (c9)\n",
    "    \n",
    "    outputs = Dense(2, activation='softmax', name='predictions')(c9)\n",
    "\n",
    "    #outputs = Conv2D(1, (1, 1), activation='sigmoid') (c9)\n",
    "\n",
    "    inputs = img_input\n",
    "    model = Model(inputs, outputs, name='unet') \n",
    "    return model"
   ]
  },
  {
   "cell_type": "code",
   "execution_count": 259,
   "metadata": {},
   "outputs": [],
   "source": [
    "from keras.models import *\n",
    "from keras.layers import Input, merge, Convolution2D, MaxPooling2D, UpSampling2D\n",
    "from keras.optimizers import *\n",
    "from keras.callbacks import ModelCheckpoint, LearningRateScheduler\n",
    "from keras import backend as keras\n",
    "\n",
    "from keras.layers.convolutional import Conv2D, Conv2DTranspose\n",
    "from keras.layers.merge import concatenate"
   ]
  },
  {
   "cell_type": "code",
   "execution_count": null,
   "metadata": {},
   "outputs": [],
   "source": []
  },
  {
   "cell_type": "code",
   "execution_count": 266,
   "metadata": {},
   "outputs": [],
   "source": [
    "def unet(shape): # functional model\n",
    "    from keras.layers import Input, merge, Convolution2D, MaxPooling2D, UpSampling2D\n",
    "    from keras.callbacks import ModelCheckpoint, LearningRateScheduler\n",
    "    from keras import backend as keras\n",
    "    \n",
    "    from keras.layers.convolutional import Conv2D, Conv2DTranspose\n",
    "    from keras.layers.merge import concatenate\n",
    "    \n",
    "    inputs = Input(shape=shape)\n",
    "    conv1 = Conv2D(64, 3, activation = 'relu', padding = 'same', kernel_initializer = 'he_normal')(inputs)\n",
    "    conv1 = Conv2D(64, 3, activation = 'relu', padding = 'same', kernel_initializer = 'he_normal')(conv1)\n",
    "    pool1 = MaxPooling2D(pool_size=(2, 2))(conv1)\n",
    "    conv2 = Conv2D(128, 3, activation = 'relu', padding = 'same', kernel_initializer = 'he_normal')(pool1)\n",
    "    conv2 = Conv2D(128, 3, activation = 'relu', padding = 'same', kernel_initializer = 'he_normal')(conv2)\n",
    "    pool2 = MaxPooling2D(pool_size=(2, 2))(conv2)\n",
    "    conv3 = Conv2D(256, 3, activation = 'relu', padding = 'same', kernel_initializer = 'he_normal')(pool2)\n",
    "    conv3 = Conv2D(256, 3, activation = 'relu', padding = 'same', kernel_initializer = 'he_normal')(conv3)\n",
    "    pool3 = MaxPooling2D(pool_size=(2, 2))(conv3)\n",
    "    conv4 = Conv2D(512, 3, activation = 'relu', padding = 'same', kernel_initializer = 'he_normal')(pool3)\n",
    "    conv4 = Conv2D(512, 3, activation = 'relu', padding = 'same', kernel_initializer = 'he_normal')(conv4)\n",
    "    drop4 = Dropout(0.5)(conv4)\n",
    "    pool4 = MaxPooling2D(pool_size=(2, 2))(drop4)\n",
    "\n",
    "    conv5 = Conv2D(1024, 3, activation = 'relu', padding = 'same', kernel_initializer = 'he_normal')(pool4)\n",
    "    conv5 = Conv2D(1024, 3, activation = 'relu', padding = 'same', kernel_initializer = 'he_normal')(conv5)\n",
    "    drop5 = Dropout(0.5)(conv5)\n",
    "\n",
    "    up6 = Conv2D(512, 2, activation = 'relu', padding = 'same', kernel_initializer = 'he_normal')(UpSampling2D(size = (2,2))(drop5))\n",
    "    merge6 = concatenate([drop4,up6], axis = 3)\n",
    "    conv6 = Conv2D(512, 3, activation = 'relu', padding = 'same', kernel_initializer = 'he_normal')(merge6)\n",
    "    conv6 = Conv2D(512, 3, activation = 'relu', padding = 'same', kernel_initializer = 'he_normal')(conv6)\n",
    "\n",
    "    up7 = Conv2D(256, 2, activation = 'relu', padding = 'same', kernel_initializer = 'he_normal')(UpSampling2D(size = (2,2))(conv6))\n",
    "    merge7 = concatenate([conv3,up7], axis = 3)\n",
    "    conv7 = Conv2D(256, 3, activation = 'relu', padding = 'same', kernel_initializer = 'he_normal')(merge7)\n",
    "    conv7 = Conv2D(256, 3, activation = 'relu', padding = 'same', kernel_initializer = 'he_normal')(conv7)\n",
    "\n",
    "    up8 = Conv2D(128, 2, activation = 'relu', padding = 'same', kernel_initializer = 'he_normal')(UpSampling2D(size = (2,2))(conv7))\n",
    "    merge8 = concatenate([conv2,up8], axis = 3)\n",
    "    conv8 = Conv2D(128, 3, activation = 'relu', padding = 'same', kernel_initializer = 'he_normal')(merge8)\n",
    "    conv8 = Conv2D(128, 3, activation = 'relu', padding = 'same', kernel_initializer = 'he_normal')(conv8)\n",
    "\n",
    "    up9 = Conv2D(64, 2, activation = 'relu', padding = 'same', kernel_initializer = 'he_normal')(UpSampling2D(size = (2,2))(conv8))\n",
    "    merge9 = concatenate([conv1,up9], axis = 3)\n",
    "    conv9 = Conv2D(64, 3, activation = 'relu', padding = 'same', kernel_initializer = 'he_normal')(merge9)\n",
    "    conv9 = Conv2D(64, 3, activation = 'relu', padding = 'same', kernel_initializer = 'he_normal')(conv9)\n",
    "    conv9 = Conv2D(2, 3, activation = 'relu', padding = 'same', kernel_initializer = 'he_normal')(conv9)\n",
    "    conv10 = Conv2D(1, 1, activation = 'softmax')(conv9)\n",
    "\n",
    "    model = Model(input = inputs, output = conv10)\n",
    "\n",
    "    #model.compile(optimizer = Adam(lr = 1e-4), loss = 'binary_crossentropy', metrics = ['accuracy'])\n",
    "    \n",
    "    return model"
   ]
  },
  {
   "cell_type": "code",
   "execution_count": 300,
   "metadata": {},
   "outputs": [],
   "source": [
    "def unet(pretrained_weights = None,input_size = (128,128,1), n_cls=2):\n",
    "    inputs = Input(input_size)\n",
    "    conv1 = Conv2D(64, 3, activation = 'relu', padding = 'same', kernel_initializer = 'he_normal')(inputs)\n",
    "    conv1 = Conv2D(64, 3, activation = 'relu', padding = 'same', kernel_initializer = 'he_normal')(conv1)\n",
    "    pool1 = MaxPooling2D(pool_size=(2, 2))(conv1)\n",
    "    conv2 = Conv2D(128, 3, activation = 'relu', padding = 'same', kernel_initializer = 'he_normal')(pool1)\n",
    "    conv2 = Conv2D(128, 3, activation = 'relu', padding = 'same', kernel_initializer = 'he_normal')(conv2)\n",
    "    pool2 = MaxPooling2D(pool_size=(2, 2))(conv2)\n",
    "    conv3 = Conv2D(256, 3, activation = 'relu', padding = 'same', kernel_initializer = 'he_normal')(pool2)\n",
    "    conv3 = Conv2D(256, 3, activation = 'relu', padding = 'same', kernel_initializer = 'he_normal')(conv3)\n",
    "    pool3 = MaxPooling2D(pool_size=(2, 2))(conv3)\n",
    "    conv4 = Conv2D(512, 3, activation = 'relu', padding = 'same', kernel_initializer = 'he_normal')(pool3)\n",
    "    conv4 = Conv2D(512, 3, activation = 'relu', padding = 'same', kernel_initializer = 'he_normal')(conv4)\n",
    "    drop4 = Dropout(0.5)(conv4)\n",
    "    pool4 = MaxPooling2D(pool_size=(2, 2))(drop4)\n",
    "\n",
    "    conv5 = Conv2D(1024, 3, activation = 'relu', padding = 'same', kernel_initializer = 'he_normal')(pool4)\n",
    "    conv5 = Conv2D(1024, 3, activation = 'relu', padding = 'same', kernel_initializer = 'he_normal')(conv5)\n",
    "    drop5 = Dropout(0.5)(conv5)\n",
    "\n",
    "    up6 = Conv2D(512, 2, activation = 'relu', padding = 'same', kernel_initializer = 'he_normal')(UpSampling2D(size = (2,2))(drop5))\n",
    "    merge6 = concatenate([drop4,up6], axis = 3)\n",
    "    conv6 = Conv2D(512, 3, activation = 'relu', padding = 'same', kernel_initializer = 'he_normal')(merge6)\n",
    "    conv6 = Conv2D(512, 3, activation = 'relu', padding = 'same', kernel_initializer = 'he_normal')(conv6)\n",
    "\n",
    "    up7 = Conv2D(256, 2, activation = 'relu', padding = 'same', kernel_initializer = 'he_normal')(UpSampling2D(size = (2,2))(conv6))\n",
    "    merge7 = concatenate([conv3,up7], axis = 3)\n",
    "    conv7 = Conv2D(256, 3, activation = 'relu', padding = 'same', kernel_initializer = 'he_normal')(merge7)\n",
    "    conv7 = Conv2D(256, 3, activation = 'relu', padding = 'same', kernel_initializer = 'he_normal')(conv7)\n",
    "\n",
    "    up8 = Conv2D(128, 2, activation = 'relu', padding = 'same', kernel_initializer = 'he_normal')(UpSampling2D(size = (2,2))(conv7))\n",
    "    merge8 = concatenate([conv2,up8], axis = 3)\n",
    "    conv8 = Conv2D(128, 3, activation = 'relu', padding = 'same', kernel_initializer = 'he_normal')(merge8)\n",
    "    conv8 = Conv2D(128, 3, activation = 'relu', padding = 'same', kernel_initializer = 'he_normal')(conv8)\n",
    "\n",
    "    up9 = Conv2D(64, 2, activation = 'relu', padding = 'same', kernel_initializer = 'he_normal')(UpSampling2D(size = (2,2))(conv8))\n",
    "    merge9 = concatenate([conv1,up9], axis = 3)\n",
    "    conv9 = Conv2D(64, 3, activation = 'relu', padding = 'same', kernel_initializer = 'he_normal')(merge9)\n",
    "    conv9 = Conv2D(64, 3, activation = 'relu', padding = 'same', kernel_initializer = 'he_normal')(conv9)\n",
    "    conv9 = Conv2D(2, 3, activation = 'relu', padding = 'same', kernel_initializer = 'he_normal')(conv9)\n",
    "\n",
    "    ###GE ADDED end####\n",
    "        # output layer\n",
    "    x = Flatten(name='flatten')(conv9)\n",
    "#     x = Dense(512, activation='relu', kernel_regularizer=regularizers.l1_l2(0.01,0.01))(x)\n",
    "#     x = Dropout(0.5)(x)\n",
    "#     x = Dense(n_cls, activation='softmax', name='predictions')(x)\n",
    "    ###GE ADDED end####    \n",
    "    #conv10 = Conv2D(1, 1, activation = 'sigmoid')(x)\n",
    "    output = Dense(n_cls, activation='softmax', name='predictions')(x) #added\n",
    "\n",
    "    model = Model(input = inputs, output = output)\n",
    "\n",
    "    model.compile(optimizer = Adam(lr = 1e-4), loss = 'binary_crossentropy', metrics = ['accuracy'])\n",
    "    \n",
    "    #model.summary()\n",
    "\n",
    "    if(pretrained_weights):\n",
    "    \tmodel.load_weights(pretrained_weights)\n",
    "\n",
    "    return model"
   ]
  },
  {
   "cell_type": "code",
   "execution_count": 288,
   "metadata": {},
   "outputs": [
    {
     "data": {
      "text/plain": [
       "<tf.Tensor 'input_25:0' shape=(?, 253, 128, 128, 1) dtype=float32>"
      ]
     },
     "execution_count": 288,
     "metadata": {},
     "output_type": "execute_result"
    }
   ],
   "source": [
    "Input(X.shape)"
   ]
  },
  {
   "cell_type": "code",
   "execution_count": 301,
   "metadata": {},
   "outputs": [
    {
     "name": "stderr",
     "output_type": "stream",
     "text": [
      "C:\\Users\\garrett\\Anaconda3\\envs\\tf_gpu\\lib\\site-packages\\ipykernel_launcher.py:52: UserWarning: Update your `Model` call to the Keras 2 API: `Model(inputs=Tensor(\"in..., outputs=Tensor(\"pr...)`\n"
     ]
    }
   ],
   "source": [
    "model= unet()"
   ]
  },
  {
   "cell_type": "code",
   "execution_count": 302,
   "metadata": {},
   "outputs": [
    {
     "name": "stdout",
     "output_type": "stream",
     "text": [
      "Train on 161 samples, validate on 41 samples\n",
      "Epoch 1/20\n",
      "161/161 [==============================] - 31s 191ms/step - loss: 0.7115 - acc: 0.5901 - val_loss: 0.6893 - val_acc: 0.4634\n",
      "Epoch 2/20\n",
      "161/161 [==============================] - 5s 34ms/step - loss: 0.6858 - acc: 0.6149 - val_loss: 0.6824 - val_acc: 0.5610\n",
      "Epoch 3/20\n",
      "161/161 [==============================] - 5s 32ms/step - loss: 0.6615 - acc: 0.6460 - val_loss: 0.6765 - val_acc: 0.5610\n",
      "Epoch 4/20\n",
      "161/161 [==============================] - 5s 31ms/step - loss: 0.6896 - acc: 0.6460 - val_loss: 0.6803 - val_acc: 0.5610\n",
      "Epoch 5/20\n",
      "161/161 [==============================] - 5s 34ms/step - loss: 0.6780 - acc: 0.6460 - val_loss: 0.6850 - val_acc: 0.5610\n",
      "Epoch 6/20\n",
      "161/161 [==============================] - 6s 37ms/step - loss: 0.6736 - acc: 0.6460 - val_loss: 0.6798 - val_acc: 0.5610\n",
      "Epoch 7/20\n",
      "161/161 [==============================] - 5s 33ms/step - loss: 0.6629 - acc: 0.6460 - val_loss: 0.6723 - val_acc: 0.5610\n",
      "Epoch 8/20\n",
      "161/161 [==============================] - 6s 39ms/step - loss: 0.6419 - acc: 0.6460 - val_loss: 0.6897 - val_acc: 0.5610\n",
      "Epoch 9/20\n",
      "161/161 [==============================] - 7s 41ms/step - loss: 0.6523 - acc: 0.6460 - val_loss: 0.6637 - val_acc: 0.5610\n",
      "Epoch 10/20\n",
      "161/161 [==============================] - 8s 51ms/step - loss: 0.6462 - acc: 0.6460 - val_loss: 0.6742 - val_acc: 0.5610\n",
      "Epoch 11/20\n",
      "161/161 [==============================] - 11s 66ms/step - loss: 0.8992 - acc: 0.6460 - val_loss: 0.6683 - val_acc: 0.5610\n",
      "Epoch 12/20\n",
      "161/161 [==============================] - 10s 62ms/step - loss: 0.6456 - acc: 0.6460 - val_loss: 0.6957 - val_acc: 0.5610\n",
      "Epoch 13/20\n",
      "161/161 [==============================] - 14s 89ms/step - loss: 0.6689 - acc: 0.6460 - val_loss: 0.6664 - val_acc: 0.5610\n",
      "Epoch 14/20\n",
      "161/161 [==============================] - 15s 93ms/step - loss: 0.6456 - acc: 0.6460 - val_loss: 0.6685 - val_acc: 0.5610\n",
      "Epoch 15/20\n",
      "161/161 [==============================] - 15s 92ms/step - loss: 0.6324 - acc: 0.6460 - val_loss: 0.6649 - val_acc: 0.5610\n",
      "Epoch 16/20\n",
      "161/161 [==============================] - 14s 84ms/step - loss: 0.6583 - acc: 0.6460 - val_loss: 0.6755 - val_acc: 0.5610\n",
      "Epoch 17/20\n",
      "161/161 [==============================] - 14s 88ms/step - loss: 0.6663 - acc: 0.6460 - val_loss: 0.6723 - val_acc: 0.5610\n",
      "Epoch 18/20\n",
      "161/161 [==============================] - 17s 103ms/step - loss: 0.6581 - acc: 0.6460 - val_loss: 0.6656 - val_acc: 0.5610\n",
      "Epoch 19/20\n",
      "161/161 [==============================] - 15s 96ms/step - loss: 0.6538 - acc: 0.6460 - val_loss: 0.6703 - val_acc: 0.5610\n",
      "Epoch 20/20\n",
      "161/161 [==============================] - 17s 107ms/step - loss: 0.6497 - acc: 0.6460 - val_loss: 0.6641 - val_acc: 0.5610\n"
     ]
    }
   ],
   "source": [
    "#model.compile(loss=keras.losses.categorical_crossentropy, optimizer=keras.optimizers.Adam(),metrics=['accuracy'])\n",
    "#model.compile(optimizer = Adam(lr = 1e-4), loss = 'binary_crossentropy', metrics = ['accuracy'])\n",
    "train1 = model.fit(train_X, train_label, epochs=epochs,verbose=1,validation_data=(valid_X, valid_label))"
   ]
  },
  {
   "cell_type": "code",
   "execution_count": null,
   "metadata": {},
   "outputs": [],
   "source": []
  },
  {
   "cell_type": "code",
   "execution_count": null,
   "metadata": {},
   "outputs": [],
   "source": []
  },
  {
   "cell_type": "code",
   "execution_count": null,
   "metadata": {},
   "outputs": [],
   "source": [
    "accuracy = train1.history['acc']\n",
    "val_accuracy = train1.history['val_acc']\n",
    "loss = train1.history['loss']\n",
    "val_loss = train1.history['val_loss']\n",
    "epochs = range(len(accuracy))\n",
    "plt.plot(epochs, accuracy, 'bo', label='Training accuracy')\n",
    "plt.plot(epochs, val_accuracy, 'b', label='Validation accuracy')\n",
    "plt.title('Training and validation accuracy')\n",
    "plt.legend()\n",
    "plt.figure()\n",
    "plt.plot(epochs, loss, 'bo', label='Training loss')\n",
    "plt.plot(epochs, val_loss, 'b', label='Validation loss')\n",
    "plt.title('Training and validation loss')\n",
    "plt.legend()\n",
    "plt.show()"
   ]
  },
  {
   "cell_type": "code",
   "execution_count": null,
   "metadata": {},
   "outputs": [],
   "source": []
  },
  {
   "cell_type": "code",
   "execution_count": null,
   "metadata": {},
   "outputs": [],
   "source": [
    "test_eval = model.evaluate(test_X, test_label, verbose=0)\n",
    "print('Test loss:', test_eval[0])\n",
    "print('Test accuracy:', test_eval[1])"
   ]
  },
  {
   "cell_type": "code",
   "execution_count": null,
   "metadata": {},
   "outputs": [],
   "source": []
  },
  {
   "cell_type": "code",
   "execution_count": null,
   "metadata": {},
   "outputs": [],
   "source": []
  }
 ],
 "metadata": {
  "kernelspec": {
   "display_name": "Python 3",
   "language": "python",
   "name": "python3"
  },
  "language_info": {
   "codemirror_mode": {
    "name": "ipython",
    "version": 3
   },
   "file_extension": ".py",
   "mimetype": "text/x-python",
   "name": "python",
   "nbconvert_exporter": "python",
   "pygments_lexer": "ipython3",
   "version": "3.6.8"
  }
 },
 "nbformat": 4,
 "nbformat_minor": 2
}
